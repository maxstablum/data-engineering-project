{
 "cells": [
  {
   "cell_type": "markdown",
   "metadata": {},
   "source": [
    "# Sheet 3"
   ]
  },
  {
   "cell_type": "markdown",
   "metadata": {},
   "source": [
    "## Excersise 1a\n",
    "Which rules do you need to follow when doing web scraping?\n",
    "- **Control request rate**: Send requests at a reasonable frequency to avoid server overload.\n",
    "- **Avoid private or restricted data**: Only collect publicly available information (No personalized data)\n",
    "- **Design for flexibility**: Structure the scraper to adapt to changes in website layout or HTML structure, making it easier to update if the site changes.\n",
    "- **Extract data dynamically**: Use relative paths and search functions (e.g., class names or unique IDs) to locate data, reducing dependency on specific HTML elements.\n"
   ]
  },
  {
   "cell_type": "markdown",
   "metadata": {},
   "source": [
    "## Excersise 1b"
   ]
  },
  {
   "cell_type": "code",
   "execution_count": 1,
   "metadata": {},
   "outputs": [],
   "source": [
    "# imports\n",
    "import pandas as pd\n",
    "import requests\n",
    "from bs4 import BeautifulSoup\n",
    "import time\n",
    "import random"
   ]
  },
  {
   "cell_type": "code",
   "execution_count": 2,
   "metadata": {},
   "outputs": [
    {
     "data": {
      "text/html": [
       "<div>\n",
       "<style scoped>\n",
       "    .dataframe tbody tr th:only-of-type {\n",
       "        vertical-align: middle;\n",
       "    }\n",
       "\n",
       "    .dataframe tbody tr th {\n",
       "        vertical-align: top;\n",
       "    }\n",
       "\n",
       "    .dataframe thead th {\n",
       "        text-align: right;\n",
       "    }\n",
       "</style>\n",
       "<table border=\"1\" class=\"dataframe\">\n",
       "  <thead>\n",
       "    <tr style=\"text-align: right;\">\n",
       "      <th></th>\n",
       "      <th>Title</th>\n",
       "    </tr>\n",
       "  </thead>\n",
       "  <tbody>\n",
       "    <tr>\n",
       "      <th>81</th>\n",
       "      <td>A comprehensive study on challenges in deployi...</td>\n",
       "    </tr>\n",
       "    <tr>\n",
       "      <th>125</th>\n",
       "      <td>Impact of Advanced Synoptics and Simplified Ch...</td>\n",
       "    </tr>\n",
       "    <tr>\n",
       "      <th>38</th>\n",
       "      <td>Tensorflow-serving: Flexible, high-performance...</td>\n",
       "    </tr>\n",
       "    <tr>\n",
       "      <th>70</th>\n",
       "      <td>On challenges in machine learning model manage...</td>\n",
       "    </tr>\n",
       "    <tr>\n",
       "      <th>111</th>\n",
       "      <td>Perceive your users in depth: Learning univers...</td>\n",
       "    </tr>\n",
       "    <tr>\n",
       "      <th>42</th>\n",
       "      <td>Innovative devops for artificial intelligence</td>\n",
       "    </tr>\n",
       "    <tr>\n",
       "      <th>162</th>\n",
       "      <td>Extending reference architecture of big data s...</td>\n",
       "    </tr>\n",
       "    <tr>\n",
       "      <th>171</th>\n",
       "      <td>Scaling Machine Learning as a Service</td>\n",
       "    </tr>\n",
       "    <tr>\n",
       "      <th>259</th>\n",
       "      <td>Toward human-in-the-loop collaboration between...</td>\n",
       "    </tr>\n",
       "    <tr>\n",
       "      <th>267</th>\n",
       "      <td>Towards classes of architectural dependability...</td>\n",
       "    </tr>\n",
       "  </tbody>\n",
       "</table>\n",
       "</div>"
      ],
      "text/plain": [
       "                                                 Title\n",
       "81   A comprehensive study on challenges in deployi...\n",
       "125  Impact of Advanced Synoptics and Simplified Ch...\n",
       "38   Tensorflow-serving: Flexible, high-performance...\n",
       "70   On challenges in machine learning model manage...\n",
       "111  Perceive your users in depth: Learning univers...\n",
       "42       Innovative devops for artificial intelligence\n",
       "162  Extending reference architecture of big data s...\n",
       "171              Scaling Machine Learning as a Service\n",
       "259  Toward human-in-the-loop collaboration between...\n",
       "267  Towards classes of architectural dependability..."
      ]
     },
     "execution_count": 2,
     "metadata": {},
     "output_type": "execute_result"
    }
   ],
   "source": [
    "with open('./Data/titles.csv', 'r') as file:\n",
    "    lines = file.readlines()\n",
    "\n",
    "data = [line.strip() for line in lines[1:] if line.strip()]  \n",
    "df_titles = pd.DataFrame(data, columns=['Title'])\n",
    "\n",
    "df_titles.sample(10)"
   ]
  },
  {
   "cell_type": "code",
   "execution_count": null,
   "metadata": {},
   "outputs": [
    {
     "name": "stdout",
     "output_type": "stream",
     "text": [
      "Waiting for 120 seconds to prevent blocking...\n",
      "Waiting for 120 seconds to prevent blocking...\n",
      "Waiting for 120 seconds to prevent blocking...\n",
      "Waiting for 120 seconds to prevent blocking...\n",
      "Waiting for 120 seconds to prevent blocking...\n",
      "Waiting for 120 seconds to prevent blocking...\n",
      "Waiting for 120 seconds to prevent blocking...\n",
      "Waiting for 120 seconds to prevent blocking...\n",
      "Waiting for 120 seconds to prevent blocking...\n",
      "Waiting for 120 seconds to prevent blocking...\n",
      "Waiting for 120 seconds to prevent blocking...\n",
      "Waiting for 120 seconds to prevent blocking...\n",
      "Waiting for 120 seconds to prevent blocking...\n",
      "Waiting for 120 seconds to prevent blocking...\n"
     ]
    },
    {
     "data": {
      "text/html": [
       "<div>\n",
       "<style scoped>\n",
       "    .dataframe tbody tr th:only-of-type {\n",
       "        vertical-align: middle;\n",
       "    }\n",
       "\n",
       "    .dataframe tbody tr th {\n",
       "        vertical-align: top;\n",
       "    }\n",
       "\n",
       "    .dataframe thead th {\n",
       "        text-align: right;\n",
       "    }\n",
       "</style>\n",
       "<table border=\"1\" class=\"dataframe\">\n",
       "  <thead>\n",
       "    <tr style=\"text-align: right;\">\n",
       "      <th></th>\n",
       "      <th>Paper title</th>\n",
       "      <th>Authors</th>\n",
       "      <th>Year of publication</th>\n",
       "      <th>Where it was published</th>\n",
       "      <th>Full abstract</th>\n",
       "      <th>Amount of citations</th>\n",
       "    </tr>\n",
       "  </thead>\n",
       "  <tbody>\n",
       "    <tr>\n",
       "      <th>0</th>\n",
       "      <td>A Framework for Automated Testing</td>\n",
       "      <td>Thomas Fehlmann, Eberhard Kranich</td>\n",
       "      <td>2020</td>\n",
       "      <td>European Conference on Software Process Improv...</td>\n",
       "      <td>None</td>\n",
       "      <td>6</td>\n",
       "    </tr>\n",
       "    <tr>\n",
       "      <th>1</th>\n",
       "      <td>Towards MLOps: A Case Study of ML Pipeline Pla...</td>\n",
       "      <td>Yue Zhou, Yue Yu, Bo Ding</td>\n",
       "      <td>2020</td>\n",
       "      <td>2020 International Conference on Artificial In...</td>\n",
       "      <td>The development and deployment of machine lear...</td>\n",
       "      <td>58</td>\n",
       "    </tr>\n",
       "    <tr>\n",
       "      <th>2</th>\n",
       "      <td>Euclid. I. Overview of the Euclid mission</td>\n",
       "      <td>Euclid Collaboration Y. Mellier, Abdurro’uf, J...</td>\n",
       "      <td>2024</td>\n",
       "      <td>Astronomy &amp;amp; Astrophysics</td>\n",
       "      <td>The current standard model of cosmology succes...</td>\n",
       "      <td>26</td>\n",
       "    </tr>\n",
       "    <tr>\n",
       "      <th>3</th>\n",
       "      <td>The key to leveraging AI at scale</td>\n",
       "      <td>Deborah Leff, Kenneth T. K. Lim</td>\n",
       "      <td>2021</td>\n",
       "      <td>Journal of Revenue and Pricing Management</td>\n",
       "      <td>None</td>\n",
       "      <td>6</td>\n",
       "    </tr>\n",
       "    <tr>\n",
       "      <th>4</th>\n",
       "      <td>Reliable Fleet Analytics for Edge IoT Solutions</td>\n",
       "      <td>E. Raj, M. Westerlund, L. E. Leal</td>\n",
       "      <td>2021</td>\n",
       "      <td>arXiv.org</td>\n",
       "      <td>In recent years we have witnessed a boom in In...</td>\n",
       "      <td>10</td>\n",
       "    </tr>\n",
       "  </tbody>\n",
       "</table>\n",
       "</div>"
      ],
      "text/plain": [
       "                                         Paper title  \\\n",
       "0                  A Framework for Automated Testing   \n",
       "1  Towards MLOps: A Case Study of ML Pipeline Pla...   \n",
       "2          Euclid. I. Overview of the Euclid mission   \n",
       "3                  The key to leveraging AI at scale   \n",
       "4    Reliable Fleet Analytics for Edge IoT Solutions   \n",
       "\n",
       "                                             Authors  Year of publication  \\\n",
       "0                  Thomas Fehlmann, Eberhard Kranich                 2020   \n",
       "1                          Yue Zhou, Yue Yu, Bo Ding                 2020   \n",
       "2  Euclid Collaboration Y. Mellier, Abdurro’uf, J...                 2024   \n",
       "3                    Deborah Leff, Kenneth T. K. Lim                 2021   \n",
       "4                  E. Raj, M. Westerlund, L. E. Leal                 2021   \n",
       "\n",
       "                              Where it was published  \\\n",
       "0  European Conference on Software Process Improv...   \n",
       "1  2020 International Conference on Artificial In...   \n",
       "2                       Astronomy &amp; Astrophysics   \n",
       "3          Journal of Revenue and Pricing Management   \n",
       "4                                          arXiv.org   \n",
       "\n",
       "                                       Full abstract  Amount of citations  \n",
       "0                                               None                    6  \n",
       "1  The development and deployment of machine lear...                   58  \n",
       "2  The current standard model of cosmology succes...                   26  \n",
       "3                                               None                    6  \n",
       "4  In recent years we have witnessed a boom in In...                   10  "
      ]
     },
     "execution_count": 8,
     "metadata": {},
     "output_type": "execute_result"
    }
   ],
   "source": [
    "titles = df_titles['Title'].tolist()\n",
    "\n",
    "# List to store the data of the papers\n",
    "papers_data = []\n",
    "\n",
    "# Counter to limit requests\n",
    "counter = 0\n",
    "\n",
    "# Iterate over the titles and fetch the data from the Semantic Scholar API\n",
    "for title in titles:\n",
    "    sem_scholar_url = f\"https://api.semanticscholar.org/graph/v1/paper/search?query={title}&fields=title,authors,year,venue,abstract,citationCount\"\n",
    "    \n",
    "    response = requests.get(sem_scholar_url)\n",
    "    \n",
    "    if response.status_code == 200:\n",
    "        data = response.json()\n",
    "        \n",
    "        if data.get(\"data\"):\n",
    "            first_paper = data[\"data\"][0]\n",
    "            \n",
    "            paper_title = first_paper.get(\"title\") or \"Title not available\"\n",
    "            authors = \", \".join([author[\"name\"] for author in first_paper.get(\"authors\", [])]) or \"No author available\"\n",
    "            year_of_publication = first_paper.get(\"year\") or \"Year not available\"\n",
    "            publication_venue = first_paper.get(\"venue\") or \"Publication venue not available\"\n",
    "            full_abstract = first_paper.get(\"abstract\") or \"Abstract not available\"\n",
    "            citation_count = first_paper.get(\"citationCount\", 0)\n",
    "\n",
    "            papers_data.append({\n",
    "                \"Paper title\": paper_title,\n",
    "                \"Authors\": authors,\n",
    "                \"Year of publication\": year_of_publication,\n",
    "                \"Where it was published\": publication_venue,\n",
    "                \"Full abstract\": full_abstract,\n",
    "                \"Amount of citations\": citation_count\n",
    "            })\n",
    "            counter += 1\n",
    "\n",
    "            # Add a short random pause between requests\n",
    "            time.sleep(random.uniform(3, 10))\n",
    "\n",
    "            # Longer pause every 20 requests\n",
    "            if counter % 20 == 0:\n",
    "                print(\"Waiting for 120 seconds to prevent blocking...\")\n",
    "                time.sleep(120)\n",
    "            continue\n",
    "            \n",
    "    elif response.status_code == 429:\n",
    "        print(\"Rate limit reached. Process terminated due to too many requests.\")\n",
    "        break  # Exit the loop if rate limit is reached\n",
    "    else:\n",
    "        print(f\"Error when fetching: {title}, Status Code: {response.status_code}\")\n",
    "\n",
    "# The stored data in a DataFrame, if process completes successfully\n",
    "df_papers = pd.DataFrame(papers_data)\n",
    "df_papers.head()\n",
    "\n",
    "df_papers.to_csv('./Data/dea03_exercise1_web_scraping_results', index=False)"
   ]
  },
  {
   "cell_type": "code",
   "execution_count": 3,
   "metadata": {},
   "outputs": [
    {
     "data": {
      "text/html": [
       "<div>\n",
       "<style scoped>\n",
       "    .dataframe tbody tr th:only-of-type {\n",
       "        vertical-align: middle;\n",
       "    }\n",
       "\n",
       "    .dataframe tbody tr th {\n",
       "        vertical-align: top;\n",
       "    }\n",
       "\n",
       "    .dataframe thead th {\n",
       "        text-align: right;\n",
       "    }\n",
       "</style>\n",
       "<table border=\"1\" class=\"dataframe\">\n",
       "  <thead>\n",
       "    <tr style=\"text-align: right;\">\n",
       "      <th></th>\n",
       "      <th>Paper title</th>\n",
       "      <th>Authors</th>\n",
       "      <th>Year of publication</th>\n",
       "      <th>Where it was published</th>\n",
       "      <th>Full abstract</th>\n",
       "      <th>Amount of citations</th>\n",
       "    </tr>\n",
       "  </thead>\n",
       "  <tbody>\n",
       "    <tr>\n",
       "      <th>0</th>\n",
       "      <td>A Framework for Automated Testing</td>\n",
       "      <td>Thomas Fehlmann, Eberhard Kranich</td>\n",
       "      <td>2020</td>\n",
       "      <td>European Conference on Software Process Improv...</td>\n",
       "      <td>Abstract not available</td>\n",
       "      <td>6</td>\n",
       "    </tr>\n",
       "    <tr>\n",
       "      <th>1</th>\n",
       "      <td>Towards MLOps: A Case Study of ML Pipeline Pla...</td>\n",
       "      <td>Yue Zhou, Yue Yu, Bo Ding</td>\n",
       "      <td>2020</td>\n",
       "      <td>2020 International Conference on Artificial In...</td>\n",
       "      <td>The development and deployment of machine lear...</td>\n",
       "      <td>58</td>\n",
       "    </tr>\n",
       "    <tr>\n",
       "      <th>2</th>\n",
       "      <td>Euclid. I. Overview of the Euclid mission</td>\n",
       "      <td>Euclid Collaboration Y. Mellier, Abdurro’uf, J...</td>\n",
       "      <td>2024</td>\n",
       "      <td>Astronomy &amp;amp; Astrophysics</td>\n",
       "      <td>The current standard model of cosmology succes...</td>\n",
       "      <td>26</td>\n",
       "    </tr>\n",
       "    <tr>\n",
       "      <th>3</th>\n",
       "      <td>The key to leveraging AI at scale</td>\n",
       "      <td>Deborah Leff, Kenneth T. K. Lim</td>\n",
       "      <td>2021</td>\n",
       "      <td>Journal of Revenue and Pricing Management</td>\n",
       "      <td>Abstract not available</td>\n",
       "      <td>6</td>\n",
       "    </tr>\n",
       "    <tr>\n",
       "      <th>4</th>\n",
       "      <td>Reliable Fleet Analytics for Edge IoT Solutions</td>\n",
       "      <td>E. Raj, M. Westerlund, L. E. Leal</td>\n",
       "      <td>2021</td>\n",
       "      <td>arXiv.org</td>\n",
       "      <td>In recent years we have witnessed a boom in In...</td>\n",
       "      <td>10</td>\n",
       "    </tr>\n",
       "  </tbody>\n",
       "</table>\n",
       "</div>"
      ],
      "text/plain": [
       "                                         Paper title  \\\n",
       "0                  A Framework for Automated Testing   \n",
       "1  Towards MLOps: A Case Study of ML Pipeline Pla...   \n",
       "2          Euclid. I. Overview of the Euclid mission   \n",
       "3                  The key to leveraging AI at scale   \n",
       "4    Reliable Fleet Analytics for Edge IoT Solutions   \n",
       "\n",
       "                                             Authors  Year of publication  \\\n",
       "0                  Thomas Fehlmann, Eberhard Kranich                 2020   \n",
       "1                          Yue Zhou, Yue Yu, Bo Ding                 2020   \n",
       "2  Euclid Collaboration Y. Mellier, Abdurro’uf, J...                 2024   \n",
       "3                    Deborah Leff, Kenneth T. K. Lim                 2021   \n",
       "4                  E. Raj, M. Westerlund, L. E. Leal                 2021   \n",
       "\n",
       "                              Where it was published  \\\n",
       "0  European Conference on Software Process Improv...   \n",
       "1  2020 International Conference on Artificial In...   \n",
       "2                       Astronomy &amp; Astrophysics   \n",
       "3          Journal of Revenue and Pricing Management   \n",
       "4                                          arXiv.org   \n",
       "\n",
       "                                       Full abstract  Amount of citations  \n",
       "0                             Abstract not available                    6  \n",
       "1  The development and deployment of machine lear...                   58  \n",
       "2  The current standard model of cosmology succes...                   26  \n",
       "3                             Abstract not available                    6  \n",
       "4  In recent years we have witnessed a boom in In...                   10  "
      ]
     },
     "execution_count": 3,
     "metadata": {},
     "output_type": "execute_result"
    }
   ],
   "source": [
    "df_papers = pd.read_csv('./Output/dea03_exercise1_web_scraping_results.csv', sep=';')\n",
    "df_papers.head()"
   ]
  },
  {
   "cell_type": "markdown",
   "metadata": {},
   "source": [
    "### Author with most published titles"
   ]
  },
  {
   "cell_type": "code",
   "execution_count": 7,
   "metadata": {},
   "outputs": [
    {
     "name": "stdout",
     "output_type": "stream",
     "text": [
      "Author with the most publications: J. Bosch (13 papers)\n"
     ]
    }
   ],
   "source": [
    "all_authors = df_papers['Authors'].str.split(', ').explode()\n",
    "\n",
    "# Count each author and find the one with the most publications\n",
    "most_published_author = all_authors.value_counts().idxmax()\n",
    "most_published_count = all_authors.value_counts().max()\n",
    "print(f\"Author with the most publications: {most_published_author} ({most_published_count} papers)\")"
   ]
  },
  {
   "cell_type": "markdown",
   "metadata": {},
   "source": [
    "### What is the year with the most paper publications?"
   ]
  },
  {
   "cell_type": "code",
   "execution_count": 8,
   "metadata": {},
   "outputs": [
    {
     "name": "stdout",
     "output_type": "stream",
     "text": [
      "Year with the most publications: 2020 (80 papers)\n"
     ]
    }
   ],
   "source": [
    "# Count publications by year\n",
    "year_counts = df_papers['Year of publication'].value_counts()\n",
    "\n",
    "# Find the year with the most publications\n",
    "most_publications_year = year_counts.idxmax()\n",
    "most_publications_count = year_counts.max()\n",
    "print(f\"Year with the most publications: {most_publications_year} ({most_publications_count} papers)\")"
   ]
  },
  {
   "cell_type": "markdown",
   "metadata": {},
   "source": [
    "### Which paper was cited the most?"
   ]
  },
  {
   "cell_type": "code",
   "execution_count": 9,
   "metadata": {},
   "outputs": [
    {
     "name": "stdout",
     "output_type": "stream",
     "text": [
      "Paper with the most citations:\n",
      "Title: STRING v11: protein–protein association networks with increased coverage, supporting functional discovery in genome-wide experimental datasets\n",
      "Citations: 12319\n"
     ]
    }
   ],
   "source": [
    "# Convert citations to integers and find the paper with the most citations\n",
    "df_papers['Amount of citations'] = df_papers['Amount of citations'].astype(int)\n",
    "most_cited_paper = df_papers.loc[df_papers['Amount of citations'].idxmax()]\n",
    "\n",
    "print(\"Paper with the most citations:\")\n",
    "print(f\"Title: {most_cited_paper['Paper title']}\")\n",
    "print(f\"Citations: {most_cited_paper['Amount of citations']}\")"
   ]
  }
 ],
 "metadata": {
  "kernelspec": {
   "display_name": "data-engineering",
   "language": "python",
   "name": "python3"
  },
  "language_info": {
   "codemirror_mode": {
    "name": "ipython",
    "version": 3
   },
   "file_extension": ".py",
   "mimetype": "text/x-python",
   "name": "python",
   "nbconvert_exporter": "python",
   "pygments_lexer": "ipython3",
   "version": "3.9.20"
  }
 },
 "nbformat": 4,
 "nbformat_minor": 2
}
