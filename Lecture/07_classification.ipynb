{
 "cells": [
  {
   "cell_type": "markdown",
   "id": "3e125f13-6ae0-49a6-8916-bc7715d622e3",
   "metadata": {
    "tags": []
   },
   "source": [
    "# Classification\n",
    "Lecture Data Engineering and Analytics<br>\n",
    "Eva Zangerle"
   ]
  },
  {
   "cell_type": "code",
   "execution_count": 3,
   "id": "3bf8eda6-1552-4bcc-bed9-3f42108b751a",
   "metadata": {
    "tags": []
   },
   "outputs": [],
   "source": [
    "import os\n",
    "from IPython.core.interactiveshell import InteractiveShell\n",
    "\n",
    "import graphviz\n",
    "import matplotlib.pyplot as plt\n",
    "import numpy as np\n",
    "import pandas as pd\n",
    "import seaborn as sns\n",
    "import xgboost as xgb\n",
    "from matplotlib.colors import ListedColormap\n",
    "from mlxtend.feature_selection import (\n",
    "    ExhaustiveFeatureSelector,\n",
    "    SequentialFeatureSelector,\n",
    ")\n",
    "from sklearn import datasets\n",
    "from sklearn.ensemble import (\n",
    "    AdaBoostClassifier,\n",
    "    ExtraTreesClassifier,\n",
    "    RandomForestClassifier,\n",
    ")\n",
    "from sklearn.feature_selection import (\n",
    "    RFE,\n",
    "    VarianceThreshold,\n",
    "    mutual_info_classif,\n",
    ")\n",
    "from sklearn.model_selection import GridSearchCV, train_test_split\n",
    "from sklearn.neighbors import KNeighborsClassifier\n",
    "from sklearn.preprocessing import StandardScaler, label_binarize\n",
    "from sklearn.tree import DecisionTreeClassifier, export_graphviz\n",
    "from sklearn.metrics import accuracy_score\n",
    "from sklearn.inspection import permutation_importance"
   ]
  },
  {
   "cell_type": "code",
   "execution_count": 2,
   "id": "d71d4893-1d48-40db-8f5f-40d706561497",
   "metadata": {},
   "outputs": [
    {
     "name": "stdout",
     "output_type": "stream",
     "text": [
      "Author: Eva Zangerle\n",
      "\n",
      "Last updated: 2024-01-08 20:37:45\n",
      "\n"
     ]
    }
   ],
   "source": [
    "%load_ext watermark\n",
    "%watermark -a \"Eva Zangerle\" --updated --date --time --iversions --githash"
   ]
  },
  {
   "cell_type": "code",
   "execution_count": 3,
   "id": "fa37ef66-9adc-43f4-bb87-7815ce6e485e",
   "metadata": {},
   "outputs": [],
   "source": [
    "# specify data directory\n",
    "data_dir = \"../data\""
   ]
  },
  {
   "cell_type": "code",
   "execution_count": 4,
   "id": "29fac6e7",
   "metadata": {},
   "outputs": [],
   "source": [
    "# show all outputs\n",
    "InteractiveShell.ast_node_interactivity = \"all\""
   ]
  },
  {
   "cell_type": "markdown",
   "id": "d36880f5-91d0-42ab-93a2-5e8fee5be530",
   "metadata": {},
   "source": [
    "## k-Nearest Neighbors"
   ]
  },
  {
   "cell_type": "markdown",
   "id": "125ceb50-1129-4543-ae58-792ed0f91913",
   "metadata": {},
   "source": [
    "The following initial examples are (again) based on the iris datasets (directly loaded via scikit-learn). The dataset consists of 50 samples from three species of the iris flower and describes its sepals (Kelchblatt) and petals (Blütenblatt) (length and width). More information on the dataset can be found here: https://en.wikipedia.org/wiki/Iris_flower_data_set."
   ]
  },
  {
   "cell_type": "code",
   "execution_count": 4,
   "id": "9e66deca-28dc-4c78-8f59-1e6f207d2c78",
   "metadata": {},
   "outputs": [],
   "source": [
    "iris = datasets.load_iris()"
   ]
  },
  {
   "cell_type": "code",
   "execution_count": 5,
   "id": "a1f5f0d1-0507-4144-a0bd-8a8815ef374b",
   "metadata": {},
   "outputs": [],
   "source": [
    "X = iris.data\n",
    "y = iris.target\n",
    "# for now, we stick to two features as input: sepal length and width\n",
    "X = X[:, :2]"
   ]
  },
  {
   "cell_type": "code",
   "execution_count": 6,
   "id": "e607a69a-da27-48cb-ab16-e4a29d091c98",
   "metadata": {},
   "outputs": [],
   "source": [
    "# preprocess\n",
    "scaler = StandardScaler()\n",
    "X = scaler.fit_transform(X)"
   ]
  },
  {
   "cell_type": "code",
   "execution_count": 7,
   "id": "79c4742e-7048-4f59-b22b-574693bdd9cb",
   "metadata": {},
   "outputs": [],
   "source": [
    "# split data into training and test\n",
    "X_train, X_test, y_train, y_test = train_test_split(X, y, test_size=0.2)"
   ]
  },
  {
   "cell_type": "markdown",
   "id": "ce50464d-d77b-43fb-8f7a-4c3769bf49bf",
   "metadata": {},
   "source": [
    "The following `plot_decision_boundaries` function is a convenience function to visualize the decision boundaries for the discussed classification algorithms. Code adapted from the official sklearn documentation at https://scikit-learn.org/stable/auto_examples/neighbors/plot_classification.html."
   ]
  },
  {
   "cell_type": "code",
   "execution_count": 8,
   "id": "ebc5f1d9-3f6b-49a1-b5e3-5c4f4f4a5a41",
   "metadata": {},
   "outputs": [],
   "source": [
    "def plot_decision_boundaries(X, y, classifier, xlabel, ylabel):\n",
    "    # Plot the decision boundary. For that, we will assign a color to each\n",
    "    # point in the mesh [x_min, x_max]x[y_min, y_max].\n",
    "\n",
    "    h = 0.05  # step size in the mesh\n",
    "\n",
    "    # Create color maps\n",
    "    cmap_light = ListedColormap([\"yellow\", \"red\", \"green\"])\n",
    "    colors_light = [\"yellow\", \"red\", \"green\"]\n",
    "\n",
    "    x_min, x_max = X[:, 0].min() - 1, X[:, 0].max() + 1\n",
    "    y_min, y_max = X[:, 1].min() - 1, X[:, 1].max() + 1\n",
    "\n",
    "    # define mesh\n",
    "    xx, yy = np.meshgrid(\n",
    "        np.arange(x_min, x_max, h), np.arange(y_min, y_max, h)\n",
    "    )\n",
    "\n",
    "    # classify each point in mesh\n",
    "    Z = classifier.predict(np.c_[xx.ravel(), yy.ravel()])\n",
    "\n",
    "    # Put the result into a color plot\n",
    "    Z = Z.reshape(xx.shape)\n",
    "    plt.figure(figsize=(8, 6))\n",
    "    plt.contourf(xx, yy, Z, cmap=cmap_light, alpha=0.15)\n",
    "\n",
    "    # plot training points, once for each class\n",
    "    for label in set(y):\n",
    "        sns.scatterplot(\n",
    "            x=X[y == label, 0],\n",
    "            y=X[y == label, 1],\n",
    "            color=colors_light[label],\n",
    "            alpha=1.0,\n",
    "            edgecolor=\"black\",\n",
    "        )\n",
    "    plt.xlim(xx.min(), xx.max())\n",
    "    plt.ylim(yy.min(), yy.max())\n",
    "    plt.title(\"Contour Diagram\")\n",
    "    plt.xlabel(xlabel)\n",
    "    plt.ylabel(ylabel)"
   ]
  },
  {
   "cell_type": "code",
   "execution_count": 9,
   "id": "c791737c-fce8-4bd2-bd57-00ef9d84d1c7",
   "metadata": {},
   "outputs": [
    {
     "data": {
      "text/html": [
       "<style>#sk-container-id-1 {color: black;}#sk-container-id-1 pre{padding: 0;}#sk-container-id-1 div.sk-toggleable {background-color: white;}#sk-container-id-1 label.sk-toggleable__label {cursor: pointer;display: block;width: 100%;margin-bottom: 0;padding: 0.3em;box-sizing: border-box;text-align: center;}#sk-container-id-1 label.sk-toggleable__label-arrow:before {content: \"▸\";float: left;margin-right: 0.25em;color: #696969;}#sk-container-id-1 label.sk-toggleable__label-arrow:hover:before {color: black;}#sk-container-id-1 div.sk-estimator:hover label.sk-toggleable__label-arrow:before {color: black;}#sk-container-id-1 div.sk-toggleable__content {max-height: 0;max-width: 0;overflow: hidden;text-align: left;background-color: #f0f8ff;}#sk-container-id-1 div.sk-toggleable__content pre {margin: 0.2em;color: black;border-radius: 0.25em;background-color: #f0f8ff;}#sk-container-id-1 input.sk-toggleable__control:checked~div.sk-toggleable__content {max-height: 200px;max-width: 100%;overflow: auto;}#sk-container-id-1 input.sk-toggleable__control:checked~label.sk-toggleable__label-arrow:before {content: \"▾\";}#sk-container-id-1 div.sk-estimator input.sk-toggleable__control:checked~label.sk-toggleable__label {background-color: #d4ebff;}#sk-container-id-1 div.sk-label input.sk-toggleable__control:checked~label.sk-toggleable__label {background-color: #d4ebff;}#sk-container-id-1 input.sk-hidden--visually {border: 0;clip: rect(1px 1px 1px 1px);clip: rect(1px, 1px, 1px, 1px);height: 1px;margin: -1px;overflow: hidden;padding: 0;position: absolute;width: 1px;}#sk-container-id-1 div.sk-estimator {font-family: monospace;background-color: #f0f8ff;border: 1px dotted black;border-radius: 0.25em;box-sizing: border-box;margin-bottom: 0.5em;}#sk-container-id-1 div.sk-estimator:hover {background-color: #d4ebff;}#sk-container-id-1 div.sk-parallel-item::after {content: \"\";width: 100%;border-bottom: 1px solid gray;flex-grow: 1;}#sk-container-id-1 div.sk-label:hover label.sk-toggleable__label {background-color: #d4ebff;}#sk-container-id-1 div.sk-serial::before {content: \"\";position: absolute;border-left: 1px solid gray;box-sizing: border-box;top: 0;bottom: 0;left: 50%;z-index: 0;}#sk-container-id-1 div.sk-serial {display: flex;flex-direction: column;align-items: center;background-color: white;padding-right: 0.2em;padding-left: 0.2em;position: relative;}#sk-container-id-1 div.sk-item {position: relative;z-index: 1;}#sk-container-id-1 div.sk-parallel {display: flex;align-items: stretch;justify-content: center;background-color: white;position: relative;}#sk-container-id-1 div.sk-item::before, #sk-container-id-1 div.sk-parallel-item::before {content: \"\";position: absolute;border-left: 1px solid gray;box-sizing: border-box;top: 0;bottom: 0;left: 50%;z-index: -1;}#sk-container-id-1 div.sk-parallel-item {display: flex;flex-direction: column;z-index: 1;position: relative;background-color: white;}#sk-container-id-1 div.sk-parallel-item:first-child::after {align-self: flex-end;width: 50%;}#sk-container-id-1 div.sk-parallel-item:last-child::after {align-self: flex-start;width: 50%;}#sk-container-id-1 div.sk-parallel-item:only-child::after {width: 0;}#sk-container-id-1 div.sk-dashed-wrapped {border: 1px dashed gray;margin: 0 0.4em 0.5em 0.4em;box-sizing: border-box;padding-bottom: 0.4em;background-color: white;}#sk-container-id-1 div.sk-label label {font-family: monospace;font-weight: bold;display: inline-block;line-height: 1.2em;}#sk-container-id-1 div.sk-label-container {text-align: center;}#sk-container-id-1 div.sk-container {/* jupyter's `normalize.less` sets `[hidden] { display: none; }` but bootstrap.min.css set `[hidden] { display: none !important; }` so we also need the `!important` here to be able to override the default hidden behavior on the sphinx rendered scikit-learn.org. See: https://github.com/scikit-learn/scikit-learn/issues/21755 */display: inline-block !important;position: relative;}#sk-container-id-1 div.sk-text-repr-fallback {display: none;}</style><div id=\"sk-container-id-1\" class=\"sk-top-container\"><div class=\"sk-text-repr-fallback\"><pre>KNeighborsClassifier(algorithm=&#x27;kd_tree&#x27;, n_neighbors=9, p=1)</pre><b>In a Jupyter environment, please rerun this cell to show the HTML representation or trust the notebook. <br />On GitHub, the HTML representation is unable to render, please try loading this page with nbviewer.org.</b></div><div class=\"sk-container\" hidden><div class=\"sk-item\"><div class=\"sk-estimator sk-toggleable\"><input class=\"sk-toggleable__control sk-hidden--visually\" id=\"sk-estimator-id-1\" type=\"checkbox\" checked><label for=\"sk-estimator-id-1\" class=\"sk-toggleable__label sk-toggleable__label-arrow\">KNeighborsClassifier</label><div class=\"sk-toggleable__content\"><pre>KNeighborsClassifier(algorithm=&#x27;kd_tree&#x27;, n_neighbors=9, p=1)</pre></div></div></div></div></div>"
      ],
      "text/plain": [
       "KNeighborsClassifier(algorithm='kd_tree', n_neighbors=9, p=1)"
      ]
     },
     "execution_count": 9,
     "metadata": {},
     "output_type": "execute_result"
    }
   ],
   "source": [
    "# compute kNN with k=7\n",
    "# minkowski = generalization of Manhattan and Euclidean distance\n",
    "# order p=1 -> Manhattan, p=2 Euclidean\n",
    "knn = KNeighborsClassifier(\n",
    "    n_neighbors=9, algorithm=\"kd_tree\", leaf_size=30, metric=\"minkowski\", p=1\n",
    ")\n",
    "knn.fit(X_train, y_train)"
   ]
  },
  {
   "cell_type": "code",
   "execution_count": 10,
   "id": "024c1726-a79b-4f0e-873b-67fda101bbff",
   "metadata": {},
   "outputs": [
    {
     "data": {
      "image/png": "[encoded data removed]",
      "text/plain": [
       "<Figure size 800x600 with 1 Axes>"
      ]
     },
     "metadata": {},
     "output_type": "display_data"
    }
   ],
   "source": [
    "# inspect decision boundaries for different k\n",
    "plot_decision_boundaries(\n",
    "    X_train, y_train, knn, \"sepal length (cm)\", \"sepal width (cm)\"\n",
    ")"
   ]
  },
  {
   "cell_type": "markdown",
   "id": "9f69a8ae-260a-4736-8add-e9b8b7af514d",
   "metadata": {},
   "source": [
    "In the next section, we will investigate more complex classification models."
   ]
  },
  {
   "cell_type": "markdown",
   "id": "6ce27f68-a838-4da7-9338-c5b8fb78c4bb",
   "metadata": {},
   "source": [
    "## Decision Trees"
   ]
  },
  {
   "cell_type": "markdown",
   "id": "cc8e8214-1543-4e6f-9c65-a0b283452e51",
   "metadata": {},
   "source": [
    "To get started, we will look at a simple decision tree for classifying the type of Iris."
   ]
  },
  {
   "cell_type": "code",
   "execution_count": 11,
   "id": "23e7b28b-fb32-42ff-83c0-13b1f7dad9d8",
   "metadata": {},
   "outputs": [],
   "source": [
    "# re-load data\n",
    "X = iris.data\n",
    "y = iris.target\n",
    "X_train, X_test, y_train, y_test = train_test_split(X, y, test_size=0.2)"
   ]
  },
  {
   "cell_type": "code",
   "execution_count": 12,
   "id": "a17af504-4000-438f-b326-3ce0e8c44f63",
   "metadata": {},
   "outputs": [],
   "source": [
    "# create and train tree\n",
    "tree_clf = DecisionTreeClassifier(\n",
    "    criterion=\"gini\"\n",
    ")  # else: criterion='entropy'\n",
    "tree_clf = tree_clf.fit(X_train, y_train)"
   ]
  },
  {
   "cell_type": "code",
   "execution_count": 50,
   "id": "fd40c0f2-ad10-4972-bc0a-faa2c0f06438",
   "metadata": {},
   "outputs": [
    {
     "data": {
      "text/plain": [
       "0.9666666666666667"
      ]
     },
     "execution_count": 50,
     "metadata": {},
     "output_type": "execute_result"
    }
   ],
   "source": [
    "# compute accuracy\n",
    "y_pred = tree_clf.predict(X_test)\n",
    "accuracy_score(y_test, y_pred)"
   ]
  },
  {
   "cell_type": "code",
   "execution_count": 13,
   "id": "33296e43-45d7-4c93-b554-9cf959e00586",
   "metadata": {},
   "outputs": [
    {
     "data": {
      "image/svg+xml": [
       "<?xml version=\"1.0\" encoding=\"UTF-8\" standalone=\"no\"?>\n",
       "<!DOCTYPE svg PUBLIC \"-//W3C//DTD SVG 1.1//EN\"\n",
       " \"http://www.w3.org/Graphics/SVG/1.1/DTD/svg11.dtd\">\n",
       "<!-- Generated by graphviz version 2.50.0 (0)\n",
       " -->\n",
       "<!-- Title: Tree Pages: 1 -->\n",
       "<svg width=\"745pt\" height=\"685pt\"\n",
       " viewBox=\"0.00 0.00 745.00 685.00\" xmlns=\"http://www.w3.org/2000/svg\" xmlns:xlink=\"http://www.w3.org/1999/xlink\">\n",
       "<g id=\"graph0\" class=\"graph\" transform=\"scale(1 1) rotate(0) translate(4 681)\">\n",
       "<title>Tree</title>\n",
       "<polygon fill=\"white\" stroke=\"transparent\" points=\"-4,4 -4,-681 741,-681 741,4 -4,4\"/>\n",
       "<!-- 0 -->\n",
       "<g id=\"node1\" class=\"node\">\n",
       "<title>0</title>\n",
       "<path fill=\"#fef9f5\" stroke=\"black\" d=\"M344,-677C344,-677 209,-677 209,-677 203,-677 197,-671 197,-665 197,-665 197,-621 197,-621 197,-615 203,-609 209,-609 209,-609 344,-609 344,-609 350,-609 356,-615 356,-621 356,-621 356,-665 356,-665 356,-671 350,-677 344,-677\"/>\n",
       "<text text-anchor=\"start\" x=\"205\" y=\"-661.8\" font-family=\"Helvetica,sans-Serif\" font-size=\"14.00\">petal length (cm) ≤ 2.45</text>\n",
       "<text text-anchor=\"start\" x=\"231.5\" y=\"-646.8\" font-family=\"Helvetica,sans-Serif\" font-size=\"14.00\">samples = 120</text>\n",
       "<text text-anchor=\"start\" x=\"218.5\" y=\"-631.8\" font-family=\"Helvetica,sans-Serif\" font-size=\"14.00\">value = [43, 39, 38]</text>\n",
       "<text text-anchor=\"start\" x=\"233\" y=\"-616.8\" font-family=\"Helvetica,sans-Serif\" font-size=\"14.00\">class = setosa</text>\n",
       "</g>\n",
       "<!-- 1 -->\n",
       "<g id=\"node2\" class=\"node\">\n",
       "<title>1</title>\n",
       "<path fill=\"#e58139\" stroke=\"black\" d=\"M245,-565.5C245,-565.5 152,-565.5 152,-565.5 146,-565.5 140,-559.5 140,-553.5 140,-553.5 140,-524.5 140,-524.5 140,-518.5 146,-512.5 152,-512.5 152,-512.5 245,-512.5 245,-512.5 251,-512.5 257,-518.5 257,-524.5 257,-524.5 257,-553.5 257,-553.5 257,-559.5 251,-565.5 245,-565.5\"/>\n",
       "<text text-anchor=\"start\" x=\"157.5\" y=\"-550.3\" font-family=\"Helvetica,sans-Serif\" font-size=\"14.00\">samples = 43</text>\n",
       "<text text-anchor=\"start\" x=\"148\" y=\"-535.3\" font-family=\"Helvetica,sans-Serif\" font-size=\"14.00\">value = [43, 0, 0]</text>\n",
       "<text text-anchor=\"start\" x=\"155\" y=\"-520.3\" font-family=\"Helvetica,sans-Serif\" font-size=\"14.00\">class = setosa</text>\n",
       "</g>\n",
       "<!-- 0&#45;&gt;1 -->\n",
       "<g id=\"edge1\" class=\"edge\">\n",
       "<title>0&#45;&gt;1</title>\n",
       "<path fill=\"none\" stroke=\"black\" d=\"M251.18,-608.88C242.51,-597.56 232.82,-584.88 224.13,-573.52\"/>\n",
       "<polygon fill=\"black\" stroke=\"black\" points=\"226.87,-571.34 218.02,-565.52 221.31,-575.59 226.87,-571.34\"/>\n",
       "<text text-anchor=\"middle\" x=\"214.71\" y=\"-586.6\" font-family=\"Helvetica,sans-Serif\" font-size=\"14.00\">True</text>\n",
       "</g>\n",
       "<!-- 2 -->\n",
       "<g id=\"node3\" class=\"node\">\n",
       "<title>2</title>\n",
       "<path fill=\"#fafefc\" stroke=\"black\" d=\"M422,-573C422,-573 287,-573 287,-573 281,-573 275,-567 275,-561 275,-561 275,-517 275,-517 275,-511 281,-505 287,-505 287,-505 422,-505 422,-505 428,-505 434,-511 434,-517 434,-517 434,-561 434,-561 434,-567 428,-573 422,-573\"/>\n",
       "<text text-anchor=\"start\" x=\"283\" y=\"-557.8\" font-family=\"Helvetica,sans-Serif\" font-size=\"14.00\">petal length (cm) ≤ 4.85</text>\n",
       "<text text-anchor=\"start\" x=\"313.5\" y=\"-542.8\" font-family=\"Helvetica,sans-Serif\" font-size=\"14.00\">samples = 77</text>\n",
       "<text text-anchor=\"start\" x=\"300\" y=\"-527.8\" font-family=\"Helvetica,sans-Serif\" font-size=\"14.00\">value = [0, 39, 38]</text>\n",
       "<text text-anchor=\"start\" x=\"302\" y=\"-512.8\" font-family=\"Helvetica,sans-Serif\" font-size=\"14.00\">class = versicolor</text>\n",
       "</g>\n",
       "<!-- 0&#45;&gt;2 -->\n",
       "<g id=\"edge2\" class=\"edge\">\n",
       "<title>0&#45;&gt;2</title>\n",
       "<path fill=\"none\" stroke=\"black\" d=\"M301.82,-608.88C308.5,-600.15 315.79,-590.62 322.75,-581.51\"/>\n",
       "<polygon fill=\"black\" stroke=\"black\" points=\"325.74,-583.37 329.04,-573.3 320.18,-579.12 325.74,-583.37\"/>\n",
       "<text text-anchor=\"middle\" x=\"332.34\" y=\"-594.38\" font-family=\"Helvetica,sans-Serif\" font-size=\"14.00\">False</text>\n",
       "</g>\n",
       "<!-- 3 -->\n",
       "<g id=\"node4\" class=\"node\">\n",
       "<title>3</title>\n",
       "<path fill=\"#3fe685\" stroke=\"black\" d=\"M335.5,-469C335.5,-469 197.5,-469 197.5,-469 191.5,-469 185.5,-463 185.5,-457 185.5,-457 185.5,-413 185.5,-413 185.5,-407 191.5,-401 197.5,-401 197.5,-401 335.5,-401 335.5,-401 341.5,-401 347.5,-407 347.5,-413 347.5,-413 347.5,-457 347.5,-457 347.5,-463 341.5,-469 335.5,-469\"/>\n",
       "<text text-anchor=\"start\" x=\"193.5\" y=\"-453.8\" font-family=\"Helvetica,sans-Serif\" font-size=\"14.00\">sepal length (cm) ≤ 4.95</text>\n",
       "<text text-anchor=\"start\" x=\"225.5\" y=\"-438.8\" font-family=\"Helvetica,sans-Serif\" font-size=\"14.00\">samples = 36</text>\n",
       "<text text-anchor=\"start\" x=\"216\" y=\"-423.8\" font-family=\"Helvetica,sans-Serif\" font-size=\"14.00\">value = [0, 35, 1]</text>\n",
       "<text text-anchor=\"start\" x=\"214\" y=\"-408.8\" font-family=\"Helvetica,sans-Serif\" font-size=\"14.00\">class = versicolor</text>\n",
       "</g>\n",
       "<!-- 2&#45;&gt;3 -->\n",
       "<g id=\"edge3\" class=\"edge\">\n",
       "<title>2&#45;&gt;3</title>\n",
       "<path fill=\"none\" stroke=\"black\" d=\"M325.93,-504.88C318.24,-495.98 309.84,-486.24 301.84,-476.96\"/>\n",
       "<polygon fill=\"black\" stroke=\"black\" points=\"304.41,-474.58 295.23,-469.3 299.11,-479.16 304.41,-474.58\"/>\n",
       "</g>\n",
       "<!-- 8 -->\n",
       "<g id=\"node9\" class=\"node\">\n",
       "<title>8</title>\n",
       "<path fill=\"#8f4ee8\" stroke=\"black\" d=\"M507.5,-469C507.5,-469 377.5,-469 377.5,-469 371.5,-469 365.5,-463 365.5,-457 365.5,-457 365.5,-413 365.5,-413 365.5,-407 371.5,-401 377.5,-401 377.5,-401 507.5,-401 507.5,-401 513.5,-401 519.5,-407 519.5,-413 519.5,-413 519.5,-457 519.5,-457 519.5,-463 513.5,-469 507.5,-469\"/>\n",
       "<text text-anchor=\"start\" x=\"373.5\" y=\"-453.8\" font-family=\"Helvetica,sans-Serif\" font-size=\"14.00\">petal width (cm) ≤ 1.75</text>\n",
       "<text text-anchor=\"start\" x=\"401.5\" y=\"-438.8\" font-family=\"Helvetica,sans-Serif\" font-size=\"14.00\">samples = 41</text>\n",
       "<text text-anchor=\"start\" x=\"392\" y=\"-423.8\" font-family=\"Helvetica,sans-Serif\" font-size=\"14.00\">value = [0, 4, 37]</text>\n",
       "<text text-anchor=\"start\" x=\"394\" y=\"-408.8\" font-family=\"Helvetica,sans-Serif\" font-size=\"14.00\">class = virginica</text>\n",
       "</g>\n",
       "<!-- 2&#45;&gt;8 -->\n",
       "<g id=\"edge8\" class=\"edge\">\n",
       "<title>2&#45;&gt;8</title>\n",
       "<path fill=\"none\" stroke=\"black\" d=\"M383.07,-504.88C390.76,-495.98 399.16,-486.24 407.16,-476.96\"/>\n",
       "<polygon fill=\"black\" stroke=\"black\" points=\"409.89,-479.16 413.77,-469.3 404.59,-474.58 409.89,-479.16\"/>\n",
       "</g>\n",
       "<!-- 4 -->\n",
       "<g id=\"node5\" class=\"node\">\n",
       "<title>4</title>\n",
       "<path fill=\"#ffffff\" stroke=\"black\" d=\"M180.5,-365C180.5,-365 52.5,-365 52.5,-365 46.5,-365 40.5,-359 40.5,-353 40.5,-353 40.5,-309 40.5,-309 40.5,-303 46.5,-297 52.5,-297 52.5,-297 180.5,-297 180.5,-297 186.5,-297 192.5,-303 192.5,-309 192.5,-309 192.5,-353 192.5,-353 192.5,-359 186.5,-365 180.5,-365\"/>\n",
       "<text text-anchor=\"start\" x=\"48.5\" y=\"-349.8\" font-family=\"Helvetica,sans-Serif\" font-size=\"14.00\">petal length (cm) ≤ 3.9</text>\n",
       "<text text-anchor=\"start\" x=\"79\" y=\"-334.8\" font-family=\"Helvetica,sans-Serif\" font-size=\"14.00\">samples = 2</text>\n",
       "<text text-anchor=\"start\" x=\"69.5\" y=\"-319.8\" font-family=\"Helvetica,sans-Serif\" font-size=\"14.00\">value = [0, 1, 1]</text>\n",
       "<text text-anchor=\"start\" x=\"64\" y=\"-304.8\" font-family=\"Helvetica,sans-Serif\" font-size=\"14.00\">class = versicolor</text>\n",
       "</g>\n",
       "<!-- 3&#45;&gt;4 -->\n",
       "<g id=\"edge4\" class=\"edge\">\n",
       "<title>3&#45;&gt;4</title>\n",
       "<path fill=\"none\" stroke=\"black\" d=\"M217.8,-400.88C203.71,-391.3 188.21,-380.76 173.65,-370.86\"/>\n",
       "<polygon fill=\"black\" stroke=\"black\" points=\"175.45,-367.85 165.21,-365.12 171.51,-373.64 175.45,-367.85\"/>\n",
       "</g>\n",
       "<!-- 7 -->\n",
       "<g id=\"node8\" class=\"node\">\n",
       "<title>7</title>\n",
       "<path fill=\"#39e581\" stroke=\"black\" d=\"M320,-357.5C320,-357.5 223,-357.5 223,-357.5 217,-357.5 211,-351.5 211,-345.5 211,-345.5 211,-316.5 211,-316.5 211,-310.5 217,-304.5 223,-304.5 223,-304.5 320,-304.5 320,-304.5 326,-304.5 332,-310.5 332,-316.5 332,-316.5 332,-345.5 332,-345.5 332,-351.5 326,-357.5 320,-357.5\"/>\n",
       "<text text-anchor=\"start\" x=\"230.5\" y=\"-342.3\" font-family=\"Helvetica,sans-Serif\" font-size=\"14.00\">samples = 34</text>\n",
       "<text text-anchor=\"start\" x=\"221\" y=\"-327.3\" font-family=\"Helvetica,sans-Serif\" font-size=\"14.00\">value = [0, 34, 0]</text>\n",
       "<text text-anchor=\"start\" x=\"219\" y=\"-312.3\" font-family=\"Helvetica,sans-Serif\" font-size=\"14.00\">class = versicolor</text>\n",
       "</g>\n",
       "<!-- 3&#45;&gt;7 -->\n",
       "<g id=\"edge7\" class=\"edge\">\n",
       "<title>3&#45;&gt;7</title>\n",
       "<path fill=\"none\" stroke=\"black\" d=\"M268.12,-400.88C268.65,-390.22 269.23,-378.35 269.76,-367.52\"/>\n",
       "<polygon fill=\"black\" stroke=\"black\" points=\"273.26,-367.68 270.25,-357.52 266.26,-367.34 273.26,-367.68\"/>\n",
       "</g>\n",
       "<!-- 5 -->\n",
       "<g id=\"node6\" class=\"node\">\n",
       "<title>5</title>\n",
       "<path fill=\"#39e581\" stroke=\"black\" d=\"M109,-253.5C109,-253.5 12,-253.5 12,-253.5 6,-253.5 0,-247.5 0,-241.5 0,-241.5 0,-212.5 0,-212.5 0,-206.5 6,-200.5 12,-200.5 12,-200.5 109,-200.5 109,-200.5 115,-200.5 121,-206.5 121,-212.5 121,-212.5 121,-241.5 121,-241.5 121,-247.5 115,-253.5 109,-253.5\"/>\n",
       "<text text-anchor=\"start\" x=\"23\" y=\"-238.3\" font-family=\"Helvetica,sans-Serif\" font-size=\"14.00\">samples = 1</text>\n",
       "<text text-anchor=\"start\" x=\"13.5\" y=\"-223.3\" font-family=\"Helvetica,sans-Serif\" font-size=\"14.00\">value = [0, 1, 0]</text>\n",
       "<text text-anchor=\"start\" x=\"8\" y=\"-208.3\" font-family=\"Helvetica,sans-Serif\" font-size=\"14.00\">class = versicolor</text>\n",
       "</g>\n",
       "<!-- 4&#45;&gt;5 -->\n",
       "<g id=\"edge5\" class=\"edge\">\n",
       "<title>4&#45;&gt;5</title>\n",
       "<path fill=\"none\" stroke=\"black\" d=\"M98.32,-296.88C92.28,-285.89 85.54,-273.62 79.45,-262.52\"/>\n",
       "<polygon fill=\"black\" stroke=\"black\" points=\"82.39,-260.6 74.51,-253.52 76.26,-263.97 82.39,-260.6\"/>\n",
       "</g>\n",
       "<!-- 6 -->\n",
       "<g id=\"node7\" class=\"node\">\n",
       "<title>6</title>\n",
       "<path fill=\"#8139e5\" stroke=\"black\" d=\"M240,-253.5C240,-253.5 151,-253.5 151,-253.5 145,-253.5 139,-247.5 139,-241.5 139,-241.5 139,-212.5 139,-212.5 139,-206.5 145,-200.5 151,-200.5 151,-200.5 240,-200.5 240,-200.5 246,-200.5 252,-206.5 252,-212.5 252,-212.5 252,-241.5 252,-241.5 252,-247.5 246,-253.5 240,-253.5\"/>\n",
       "<text text-anchor=\"start\" x=\"158\" y=\"-238.3\" font-family=\"Helvetica,sans-Serif\" font-size=\"14.00\">samples = 1</text>\n",
       "<text text-anchor=\"start\" x=\"148.5\" y=\"-223.3\" font-family=\"Helvetica,sans-Serif\" font-size=\"14.00\">value = [0, 0, 1]</text>\n",
       "<text text-anchor=\"start\" x=\"147\" y=\"-208.3\" font-family=\"Helvetica,sans-Serif\" font-size=\"14.00\">class = virginica</text>\n",
       "</g>\n",
       "<!-- 4&#45;&gt;6 -->\n",
       "<g id=\"edge6\" class=\"edge\">\n",
       "<title>4&#45;&gt;6</title>\n",
       "<path fill=\"none\" stroke=\"black\" d=\"M142.15,-296.88C150.92,-285.56 160.74,-272.88 169.54,-261.52\"/>\n",
       "<polygon fill=\"black\" stroke=\"black\" points=\"172.38,-263.57 175.73,-253.52 166.84,-259.28 172.38,-263.57\"/>\n",
       "</g>\n",
       "<!-- 9 -->\n",
       "<g id=\"node10\" class=\"node\">\n",
       "<title>9</title>\n",
       "<path fill=\"#ffffff\" stroke=\"black\" d=\"M506,-365C506,-365 371,-365 371,-365 365,-365 359,-359 359,-353 359,-353 359,-309 359,-309 359,-303 365,-297 371,-297 371,-297 506,-297 506,-297 512,-297 518,-303 518,-309 518,-309 518,-353 518,-353 518,-359 512,-365 506,-365\"/>\n",
       "<text text-anchor=\"start\" x=\"367\" y=\"-349.8\" font-family=\"Helvetica,sans-Serif\" font-size=\"14.00\">petal length (cm) ≤ 4.95</text>\n",
       "<text text-anchor=\"start\" x=\"401\" y=\"-334.8\" font-family=\"Helvetica,sans-Serif\" font-size=\"14.00\">samples = 8</text>\n",
       "<text text-anchor=\"start\" x=\"391.5\" y=\"-319.8\" font-family=\"Helvetica,sans-Serif\" font-size=\"14.00\">value = [0, 4, 4]</text>\n",
       "<text text-anchor=\"start\" x=\"386\" y=\"-304.8\" font-family=\"Helvetica,sans-Serif\" font-size=\"14.00\">class = versicolor</text>\n",
       "</g>\n",
       "<!-- 8&#45;&gt;9 -->\n",
       "<g id=\"edge9\" class=\"edge\">\n",
       "<title>8&#45;&gt;9</title>\n",
       "<path fill=\"none\" stroke=\"black\" d=\"M441.2,-400.88C440.88,-392.78 440.54,-383.98 440.2,-375.47\"/>\n",
       "<polygon fill=\"black\" stroke=\"black\" points=\"443.7,-375.15 439.81,-365.3 436.7,-375.43 443.7,-375.15\"/>\n",
       "</g>\n",
       "<!-- 16 -->\n",
       "<g id=\"node17\" class=\"node\">\n",
       "<title>16</title>\n",
       "<path fill=\"#8139e5\" stroke=\"black\" d=\"M641,-357.5C641,-357.5 548,-357.5 548,-357.5 542,-357.5 536,-351.5 536,-345.5 536,-345.5 536,-316.5 536,-316.5 536,-310.5 542,-304.5 548,-304.5 548,-304.5 641,-304.5 641,-304.5 647,-304.5 653,-310.5 653,-316.5 653,-316.5 653,-345.5 653,-345.5 653,-351.5 647,-357.5 641,-357.5\"/>\n",
       "<text text-anchor=\"start\" x=\"553.5\" y=\"-342.3\" font-family=\"Helvetica,sans-Serif\" font-size=\"14.00\">samples = 33</text>\n",
       "<text text-anchor=\"start\" x=\"544\" y=\"-327.3\" font-family=\"Helvetica,sans-Serif\" font-size=\"14.00\">value = [0, 0, 33]</text>\n",
       "<text text-anchor=\"start\" x=\"546\" y=\"-312.3\" font-family=\"Helvetica,sans-Serif\" font-size=\"14.00\">class = virginica</text>\n",
       "</g>\n",
       "<!-- 8&#45;&gt;16 -->\n",
       "<g id=\"edge16\" class=\"edge\">\n",
       "<title>8&#45;&gt;16</title>\n",
       "<path fill=\"none\" stroke=\"black\" d=\"M491.85,-400.88C509.88,-388.79 530.2,-375.15 547.97,-363.22\"/>\n",
       "<polygon fill=\"black\" stroke=\"black\" points=\"550.12,-366 556.47,-357.52 546.22,-360.19 550.12,-366\"/>\n",
       "</g>\n",
       "<!-- 10 -->\n",
       "<g id=\"node11\" class=\"node\">\n",
       "<title>10</title>\n",
       "<path fill=\"#39e581\" stroke=\"black\" d=\"M428,-253.5C428,-253.5 331,-253.5 331,-253.5 325,-253.5 319,-247.5 319,-241.5 319,-241.5 319,-212.5 319,-212.5 319,-206.5 325,-200.5 331,-200.5 331,-200.5 428,-200.5 428,-200.5 434,-200.5 440,-206.5 440,-212.5 440,-212.5 440,-241.5 440,-241.5 440,-247.5 434,-253.5 428,-253.5\"/>\n",
       "<text text-anchor=\"start\" x=\"342\" y=\"-238.3\" font-family=\"Helvetica,sans-Serif\" font-size=\"14.00\">samples = 2</text>\n",
       "<text text-anchor=\"start\" x=\"332.5\" y=\"-223.3\" font-family=\"Helvetica,sans-Serif\" font-size=\"14.00\">value = [0, 2, 0]</text>\n",
       "<text text-anchor=\"start\" x=\"327\" y=\"-208.3\" font-family=\"Helvetica,sans-Serif\" font-size=\"14.00\">class = versicolor</text>\n",
       "</g>\n",
       "<!-- 9&#45;&gt;10 -->\n",
       "<g id=\"edge10\" class=\"edge\">\n",
       "<title>9&#45;&gt;10</title>\n",
       "<path fill=\"none\" stroke=\"black\" d=\"M419.34,-296.88C412.92,-285.78 405.74,-273.37 399.27,-262.18\"/>\n",
       "<polygon fill=\"black\" stroke=\"black\" points=\"402.3,-260.42 394.26,-253.52 396.24,-263.93 402.3,-260.42\"/>\n",
       "</g>\n",
       "<!-- 11 -->\n",
       "<g id=\"node12\" class=\"node\">\n",
       "<title>11</title>\n",
       "<path fill=\"#c09cf2\" stroke=\"black\" d=\"M600.5,-261C600.5,-261 470.5,-261 470.5,-261 464.5,-261 458.5,-255 458.5,-249 458.5,-249 458.5,-205 458.5,-205 458.5,-199 464.5,-193 470.5,-193 470.5,-193 600.5,-193 600.5,-193 606.5,-193 612.5,-199 612.5,-205 612.5,-205 612.5,-249 612.5,-249 612.5,-255 606.5,-261 600.5,-261\"/>\n",
       "<text text-anchor=\"start\" x=\"466.5\" y=\"-245.8\" font-family=\"Helvetica,sans-Serif\" font-size=\"14.00\">petal width (cm) ≤ 1.55</text>\n",
       "<text text-anchor=\"start\" x=\"498\" y=\"-230.8\" font-family=\"Helvetica,sans-Serif\" font-size=\"14.00\">samples = 6</text>\n",
       "<text text-anchor=\"start\" x=\"488.5\" y=\"-215.8\" font-family=\"Helvetica,sans-Serif\" font-size=\"14.00\">value = [0, 2, 4]</text>\n",
       "<text text-anchor=\"start\" x=\"487\" y=\"-200.8\" font-family=\"Helvetica,sans-Serif\" font-size=\"14.00\">class = virginica</text>\n",
       "</g>\n",
       "<!-- 9&#45;&gt;11 -->\n",
       "<g id=\"edge11\" class=\"edge\">\n",
       "<title>9&#45;&gt;11</title>\n",
       "<path fill=\"none\" stroke=\"black\" d=\"M469.99,-296.88C478.55,-287.89 487.91,-278.04 496.82,-268.68\"/>\n",
       "<polygon fill=\"black\" stroke=\"black\" points=\"499.48,-270.96 503.83,-261.3 494.41,-266.13 499.48,-270.96\"/>\n",
       "</g>\n",
       "<!-- 12 -->\n",
       "<g id=\"node13\" class=\"node\">\n",
       "<title>12</title>\n",
       "<path fill=\"#8139e5\" stroke=\"black\" d=\"M502,-149.5C502,-149.5 413,-149.5 413,-149.5 407,-149.5 401,-143.5 401,-137.5 401,-137.5 401,-108.5 401,-108.5 401,-102.5 407,-96.5 413,-96.5 413,-96.5 502,-96.5 502,-96.5 508,-96.5 514,-102.5 514,-108.5 514,-108.5 514,-137.5 514,-137.5 514,-143.5 508,-149.5 502,-149.5\"/>\n",
       "<text text-anchor=\"start\" x=\"420\" y=\"-134.3\" font-family=\"Helvetica,sans-Serif\" font-size=\"14.00\">samples = 3</text>\n",
       "<text text-anchor=\"start\" x=\"410.5\" y=\"-119.3\" font-family=\"Helvetica,sans-Serif\" font-size=\"14.00\">value = [0, 0, 3]</text>\n",
       "<text text-anchor=\"start\" x=\"409\" y=\"-104.3\" font-family=\"Helvetica,sans-Serif\" font-size=\"14.00\">class = virginica</text>\n",
       "</g>\n",
       "<!-- 11&#45;&gt;12 -->\n",
       "<g id=\"edge12\" class=\"edge\">\n",
       "<title>11&#45;&gt;12</title>\n",
       "<path fill=\"none\" stroke=\"black\" d=\"M510.18,-192.88C501.51,-181.56 491.82,-168.88 483.13,-157.52\"/>\n",
       "<polygon fill=\"black\" stroke=\"black\" points=\"485.87,-155.34 477.02,-149.52 480.31,-159.59 485.87,-155.34\"/>\n",
       "</g>\n",
       "<!-- 13 -->\n",
       "<g id=\"node14\" class=\"node\">\n",
       "<title>13</title>\n",
       "<path fill=\"#9cf2c0\" stroke=\"black\" d=\"M682.5,-157C682.5,-157 544.5,-157 544.5,-157 538.5,-157 532.5,-151 532.5,-145 532.5,-145 532.5,-101 532.5,-101 532.5,-95 538.5,-89 544.5,-89 544.5,-89 682.5,-89 682.5,-89 688.5,-89 694.5,-95 694.5,-101 694.5,-101 694.5,-145 694.5,-145 694.5,-151 688.5,-157 682.5,-157\"/>\n",
       "<text text-anchor=\"start\" x=\"540.5\" y=\"-141.8\" font-family=\"Helvetica,sans-Serif\" font-size=\"14.00\">sepal length (cm) ≤ 6.95</text>\n",
       "<text text-anchor=\"start\" x=\"576\" y=\"-126.8\" font-family=\"Helvetica,sans-Serif\" font-size=\"14.00\">samples = 3</text>\n",
       "<text text-anchor=\"start\" x=\"566.5\" y=\"-111.8\" font-family=\"Helvetica,sans-Serif\" font-size=\"14.00\">value = [0, 2, 1]</text>\n",
       "<text text-anchor=\"start\" x=\"561\" y=\"-96.8\" font-family=\"Helvetica,sans-Serif\" font-size=\"14.00\">class = versicolor</text>\n",
       "</g>\n",
       "<!-- 11&#45;&gt;13 -->\n",
       "<g id=\"edge13\" class=\"edge\">\n",
       "<title>11&#45;&gt;13</title>\n",
       "<path fill=\"none\" stroke=\"black\" d=\"M560.82,-192.88C567.5,-184.15 574.79,-174.62 581.75,-165.51\"/>\n",
       "<polygon fill=\"black\" stroke=\"black\" points=\"584.74,-167.37 588.04,-157.3 579.18,-163.12 584.74,-167.37\"/>\n",
       "</g>\n",
       "<!-- 14 -->\n",
       "<g id=\"node15\" class=\"node\">\n",
       "<title>14</title>\n",
       "<path fill=\"#39e581\" stroke=\"black\" d=\"M594,-53C594,-53 497,-53 497,-53 491,-53 485,-47 485,-41 485,-41 485,-12 485,-12 485,-6 491,0 497,0 497,0 594,0 594,0 600,0 606,-6 606,-12 606,-12 606,-41 606,-41 606,-47 600,-53 594,-53\"/>\n",
       "<text text-anchor=\"start\" x=\"508\" y=\"-37.8\" font-family=\"Helvetica,sans-Serif\" font-size=\"14.00\">samples = 2</text>\n",
       "<text text-anchor=\"start\" x=\"498.5\" y=\"-22.8\" font-family=\"Helvetica,sans-Serif\" font-size=\"14.00\">value = [0, 2, 0]</text>\n",
       "<text text-anchor=\"start\" x=\"493\" y=\"-7.8\" font-family=\"Helvetica,sans-Serif\" font-size=\"14.00\">class = versicolor</text>\n",
       "</g>\n",
       "<!-- 13&#45;&gt;14 -->\n",
       "<g id=\"edge14\" class=\"edge\">\n",
       "<title>13&#45;&gt;14</title>\n",
       "<path fill=\"none\" stroke=\"black\" d=\"M589.72,-88.95C583.33,-80.07 576.42,-70.46 569.99,-61.54\"/>\n",
       "<polygon fill=\"black\" stroke=\"black\" points=\"572.7,-59.31 564.02,-53.24 567.02,-63.4 572.7,-59.31\"/>\n",
       "</g>\n",
       "<!-- 15 -->\n",
       "<g id=\"node16\" class=\"node\">\n",
       "<title>15</title>\n",
       "<path fill=\"#8139e5\" stroke=\"black\" d=\"M725,-53C725,-53 636,-53 636,-53 630,-53 624,-47 624,-41 624,-41 624,-12 624,-12 624,-6 630,0 636,0 636,0 725,0 725,0 731,0 737,-6 737,-12 737,-12 737,-41 737,-41 737,-47 731,-53 725,-53\"/>\n",
       "<text text-anchor=\"start\" x=\"643\" y=\"-37.8\" font-family=\"Helvetica,sans-Serif\" font-size=\"14.00\">samples = 1</text>\n",
       "<text text-anchor=\"start\" x=\"633.5\" y=\"-22.8\" font-family=\"Helvetica,sans-Serif\" font-size=\"14.00\">value = [0, 0, 1]</text>\n",
       "<text text-anchor=\"start\" x=\"632\" y=\"-7.8\" font-family=\"Helvetica,sans-Serif\" font-size=\"14.00\">class = virginica</text>\n",
       "</g>\n",
       "<!-- 13&#45;&gt;15 -->\n",
       "<g id=\"edge15\" class=\"edge\">\n",
       "<title>13&#45;&gt;15</title>\n",
       "<path fill=\"none\" stroke=\"black\" d=\"M636.93,-88.95C643.22,-80.07 650.04,-70.46 656.37,-61.54\"/>\n",
       "<polygon fill=\"black\" stroke=\"black\" points=\"659.32,-63.42 662.25,-53.24 653.61,-59.37 659.32,-63.42\"/>\n",
       "</g>\n",
       "</g>\n",
       "</svg>\n"
      ],
      "text/plain": [
       "<graphviz.sources.Source at 0x7eff9d3f1c30>"
      ]
     },
     "execution_count": 13,
     "metadata": {},
     "output_type": "execute_result"
    }
   ],
   "source": [
    "# inspect resulting tree\n",
    "tree_data = export_graphviz(\n",
    "    tree_clf,\n",
    "    class_names=iris.target_names,\n",
    "    feature_names=iris.feature_names,\n",
    "    impurity=False,\n",
    "    filled=True,\n",
    "    rounded=True,\n",
    "    special_characters=True,\n",
    ")\n",
    "graph = graphviz.Source(tree_data)\n",
    "graph"
   ]
  },
  {
   "cell_type": "markdown",
   "id": "013615ac-d8de-45c8-a67d-8d99d9891764",
   "metadata": {},
   "source": [
    "## Ensembles"
   ]
  },
  {
   "cell_type": "code",
   "execution_count": 14,
   "id": "ef8c360c-49b2-440b-a5d9-1c2e3c12b90a",
   "metadata": {},
   "outputs": [],
   "source": [
    "# Random Forest (bagging)\n",
    "rf_clf = RandomForestClassifier(n_estimators=200, max_depth=3, random_state=0)\n",
    "rf_clf = rf_clf.fit(X_train, y_train)"
   ]
  },
  {
   "cell_type": "code",
   "execution_count": 15,
   "id": "bb3f6be6-09b1-4260-b507-c8fe5eec3146",
   "metadata": {},
   "outputs": [],
   "source": [
    "# Extremely randomized forests (bagging)\n",
    "et_clf = ExtraTreesClassifier(\n",
    "    n_estimators=10, max_depth=None, min_samples_split=2, random_state=0\n",
    ")\n",
    "et_clf = rf_clf.fit(X_train, y_train)"
   ]
  },
  {
   "cell_type": "code",
   "execution_count": 16,
   "id": "5546ade8-42a5-42c7-8db2-809489eba3da",
   "metadata": {},
   "outputs": [],
   "source": [
    "# Adaboost (boosting)\n",
    "ab_clf = AdaBoostClassifier(n_estimators=100, random_state=0)\n",
    "ab_clf = ab_clf.fit(X_train, y_train)"
   ]
  },
  {
   "cell_type": "code",
   "execution_count": 17,
   "id": "0a23e126-50bb-41b5-9e4e-92c7c4137a1a",
   "metadata": {},
   "outputs": [],
   "source": [
    "# XGBoost (gradient boosted trees)\n",
    "xgb_clf = xgb.XGBClassifier(n_estimators=5)\n",
    "xgb_clf = xgb_clf.fit(X_train, y_train)"
   ]
  },
  {
   "cell_type": "markdown",
   "id": "9946379a-b070-4f6f-bb96-ecb7f5674f00",
   "metadata": {
    "tags": []
   },
   "source": [
    "## Feature Importance for tree-based models"
   ]
  },
  {
   "cell_type": "markdown",
   "id": "7d49d8f6-1fb7-489d-b804-cfe6dfac5ebc",
   "metadata": {},
   "source": [
    "For tree classifiers, we can also investigate the most important features (as already shown by the tree figure for the DecisionTree classifier). Code adapted from https://scikit-learn.org/stable/auto_examples/ensemble/plot_forest_importances.html."
   ]
  },
  {
   "cell_type": "code",
   "execution_count": 18,
   "id": "86327f8b-9dab-47ef-80cc-c5f7b3fb6099",
   "metadata": {},
   "outputs": [
    {
     "data": {
      "text/plain": [
       "array([0.0285138 , 0.        , 0.91449251, 0.05699368])"
      ]
     },
     "execution_count": 18,
     "metadata": {},
     "output_type": "execute_result"
    }
   ],
   "source": [
    "# compute feature importance for decision tree\n",
    "feature_importances = tree_clf.feature_importances_\n",
    "feature_importances\n",
    "feature_importances = pd.Series(feature_importances, index=iris.feature_names)"
   ]
  },
  {
   "cell_type": "code",
   "execution_count": 19,
   "id": "d9672d99-1e94-441e-a76b-2fd3e7b32d6a",
   "metadata": {},
   "outputs": [
    {
     "data": {
      "image/png": "[encoded data removed]",
      "text/plain": [
       "<Figure size 640x480 with 1 Axes>"
      ]
     },
     "metadata": {},
     "output_type": "display_data"
    }
   ],
   "source": [
    "# plot feature importance\n",
    "fig, ax = plt.subplots()\n",
    "feature_importances.plot.bar(ax=ax)\n",
    "ax.set_title(\"Feature importances\")\n",
    "ax.set_ylabel(\"Mean decrease in impurity\");"
   ]
  },
  {
   "cell_type": "markdown",
   "id": "cc1c852a-4ed4-4b32-89f5-fa2f06231223",
   "metadata": {},
   "source": [
    "We can also compute feature importance for random forest classifiers as follows."
   ]
  },
  {
   "cell_type": "code",
   "execution_count": 20,
   "id": "5a925163-1ae2-4ad6-b98d-2ee5e84c60ec",
   "metadata": {},
   "outputs": [],
   "source": [
    "# random forest feature importance\n",
    "rf_clf = RandomForestClassifier(n_estimators=200, max_depth=3, random_state=0)\n",
    "rf_clf = rf_clf.fit(X_train, y_train)"
   ]
  },
  {
   "cell_type": "code",
   "execution_count": 21,
   "id": "330aee81-7e93-4577-bef9-4a9346287392",
   "metadata": {},
   "outputs": [
    {
     "data": {
      "text/plain": [
       "array([0.09609041, 0.01810068, 0.45418774, 0.43162117])"
      ]
     },
     "execution_count": 21,
     "metadata": {},
     "output_type": "execute_result"
    }
   ],
   "source": [
    "# compute feature importance\n",
    "feature_importances = rf_clf.feature_importances_\n",
    "feature_importances\n",
    "feature_importances = pd.Series(feature_importances, index=iris.feature_names)"
   ]
  },
  {
   "cell_type": "code",
   "execution_count": 22,
   "id": "1d5667d2-91c3-481c-8291-9de11eb20f91",
   "metadata": {},
   "outputs": [
    {
     "data": {
      "image/png": "[encoded data removed]",
      "text/plain": [
       "<Figure size 640x480 with 1 Axes>"
      ]
     },
     "metadata": {},
     "output_type": "display_data"
    }
   ],
   "source": [
    "# plot feature importance\n",
    "fig, ax = plt.subplots()\n",
    "feature_importances.plot.bar(ax=ax)\n",
    "ax.set_title(\"Feature importances\")\n",
    "ax.set_ylabel(\"Mean decrease in impurity\");"
   ]
  },
  {
   "cell_type": "code",
   "execution_count": 23,
   "id": "3e157b77-e539-485c-a7ce-2b179f9940bd",
   "metadata": {},
   "outputs": [],
   "source": [
    "# xgboost feature importance\n",
    "xgb_clf = xgb.XGBClassifier(n_estimators=5)\n",
    "xgb_clf = xgb_clf.fit(X_train, y_train)"
   ]
  },
  {
   "cell_type": "code",
   "execution_count": 24,
   "id": "69180808-1874-4a85-bbf2-af2d147cb847",
   "metadata": {},
   "outputs": [
    {
     "data": {
      "text/plain": [
       "array([0.        , 0.        , 0.9347587 , 0.06524126], dtype=float32)"
      ]
     },
     "execution_count": 24,
     "metadata": {},
     "output_type": "execute_result"
    }
   ],
   "source": [
    "feature_importances = xgb_clf.feature_importances_\n",
    "feature_importances\n",
    "feature_importances = pd.Series(feature_importances, index=iris.feature_names)"
   ]
  },
  {
   "cell_type": "code",
   "execution_count": 25,
   "id": "e81e631d-c80c-44c5-9c03-0cbade140719",
   "metadata": {},
   "outputs": [
    {
     "data": {
      "image/png": "[encoded data removed]",
      "text/plain": [
       "<Figure size 640x480 with 1 Axes>"
      ]
     },
     "metadata": {},
     "output_type": "display_data"
    }
   ],
   "source": [
    "# plot feature importance\n",
    "fig, ax = plt.subplots()\n",
    "feature_importances.plot.bar(ax=ax)\n",
    "ax.set_title(\"Feature importances\")\n",
    "ax.set_ylabel(\"Mean decrease in impurity\");"
   ]
  },
  {
   "cell_type": "markdown",
   "id": "166e1a34-601c-4f5c-bdd2-1024e70f7690",
   "metadata": {},
   "source": [
    "## Permutation Importance"
   ]
  },
  {
   "cell_type": "code",
   "execution_count": 74,
   "id": "09f3cf87-f56d-4961-8488-3930a5da2a7a",
   "metadata": {},
   "outputs": [
    {
     "data": {
      "text/plain": [
       "{'importances_mean': array([-0.00055556,  0.        ,  0.23888889,  0.12472222]),\n",
       " 'importances_std': array([0.00566558, 0.        , 0.02799912, 0.02400649]),\n",
       " 'importances': array([[ 0.        ,  0.        ,  0.        ,  0.00833333,  0.        ,\n",
       "          0.        , -0.00833333,  0.        , -0.00833333,  0.        ,\n",
       "          0.        ,  0.        ,  0.00833333,  0.00833333, -0.00833333,\n",
       "         -0.00833333,  0.        , -0.00833333,  0.00833333, -0.00833333,\n",
       "          0.00833333,  0.00833333,  0.        ,  0.        , -0.00833333,\n",
       "          0.        ,  0.        , -0.00833333,  0.        ,  0.        ],\n",
       "        [ 0.        ,  0.        ,  0.        ,  0.        ,  0.        ,\n",
       "          0.        ,  0.        ,  0.        ,  0.        ,  0.        ,\n",
       "          0.        ,  0.        ,  0.        ,  0.        ,  0.        ,\n",
       "          0.        ,  0.        ,  0.        ,  0.        ,  0.        ,\n",
       "          0.        ,  0.        ,  0.        ,  0.        ,  0.        ,\n",
       "          0.        ,  0.        ,  0.        ,  0.        ,  0.        ],\n",
       "        [ 0.25      ,  0.28333333,  0.25833333,  0.24166667,  0.24166667,\n",
       "          0.275     ,  0.225     ,  0.2       ,  0.2       ,  0.25      ,\n",
       "          0.24166667,  0.24166667,  0.25      ,  0.225     ,  0.23333333,\n",
       "          0.225     ,  0.20833333,  0.20833333,  0.19166667,  0.20833333,\n",
       "          0.24166667,  0.24166667,  0.28333333,  0.28333333,  0.21666667,\n",
       "          0.23333333,  0.2       ,  0.23333333,  0.29166667,  0.28333333],\n",
       "        [ 0.10833333,  0.14166667,  0.125     ,  0.11666667,  0.15      ,\n",
       "          0.13333333,  0.10833333,  0.10833333,  0.11666667,  0.11666667,\n",
       "          0.09166667,  0.16666667,  0.125     ,  0.075     ,  0.13333333,\n",
       "          0.1       ,  0.15      ,  0.13333333,  0.11666667,  0.09166667,\n",
       "          0.15833333,  0.125     ,  0.13333333,  0.11666667,  0.125     ,\n",
       "          0.13333333,  0.08333333,  0.11666667,  0.16666667,  0.175     ]])}"
      ]
     },
     "execution_count": 74,
     "metadata": {},
     "output_type": "execute_result"
    }
   ],
   "source": [
    "permutation_result = permutation_importance(rf_clf, X_train, y_train, n_repeats=30, random_state=0)\n",
    "permutation_result"
   ]
  },
  {
   "cell_type": "code",
   "execution_count": 75,
   "id": "3d327e34-d01e-4de0-91a0-96d213c315a5",
   "metadata": {},
   "outputs": [
    {
     "data": {
      "image/png": "[encoded data removed]",
      "text/plain": [
       "<Figure size 640x480 with 1 Axes>"
      ]
     },
     "metadata": {},
     "output_type": "display_data"
    }
   ],
   "source": [
    "permutation_importances =  pd.Series(permutation_result.importances_mean, index=iris.feature_names)\n",
    "# plot feature importance\n",
    "fig, ax = plt.subplots()\n",
    "permutation_importances.plot.bar(ax=ax)\n",
    "ax.set_title(\"Feature importances\")\n",
    "ax.set_ylabel(\"Mean decrease in impurity\");"
   ]
  },
  {
   "cell_type": "markdown",
   "id": "e9691ad0-312e-49d6-ae35-dfe38dbdee35",
   "metadata": {
    "tags": []
   },
   "source": [
    "### Fashion MNIST Example"
   ]
  },
  {
   "cell_type": "markdown",
   "id": "a1682890-ac15-41b8-8e49-61cbd8603887",
   "metadata": {},
   "source": [
    "Now we will focus on a larger dataset: Fashion MNIST (as already used in the tutorials)."
   ]
  },
  {
   "cell_type": "code",
   "execution_count": 26,
   "id": "46e4887f-de17-4f96-8142-3cd81adfece7",
   "metadata": {},
   "outputs": [
    {
     "data": {
      "text/plain": [
       "60000"
      ]
     },
     "execution_count": 26,
     "metadata": {},
     "output_type": "execute_result"
    }
   ],
   "source": [
    "# load data (alternatively, we could also load data via keras or hugging face).\n",
    "fashion_mnist = pd.read_csv(\n",
    "    os.path.join(data_dir, \"fashion-mnist_train.csv\"),\n",
    ")\n",
    "len(fashion_mnist)"
   ]
  },
  {
   "cell_type": "markdown",
   "id": "5559fc3a-4c58-4e85-b946-32d15082c41d",
   "metadata": {},
   "source": [
    "fashion_mnist"
   ]
  },
  {
   "cell_type": "code",
   "execution_count": 27,
   "id": "1f42a6c3-57fc-40cb-b01a-5c74b5fb196c",
   "metadata": {},
   "outputs": [],
   "source": [
    "# use a sample of training data (for the sake of runtime)\n",
    "fashion_mnist = fashion_mnist.sample(1000)"
   ]
  },
  {
   "cell_type": "code",
   "execution_count": 28,
   "id": "8a9ff7db-2d44-493b-9753-54ebd9b6a53e",
   "metadata": {},
   "outputs": [],
   "source": [
    "y = fashion_mnist[\"label\"]\n",
    "y = label_binarize(\n",
    "    y, classes=[0, 1, 2, 3, 4, 5, 6, 7, 8, 9, 10]\n",
    ")  # binarize labels s.t. we are able to use scoring functions in the following\n",
    "X = fashion_mnist.drop([\"label\"], axis=1)"
   ]
  },
  {
   "cell_type": "markdown",
   "id": "31efe9b7-beb3-4477-be64-0bb2f3c1c119",
   "metadata": {},
   "source": [
    "In the following, we are going to employ a set of decision tree/ensemble-based classification algorithms, optimize their hyperparameters and compare the resulting evaluation metrics."
   ]
  },
  {
   "cell_type": "markdown",
   "id": "841ea1a8-912d-44a2-9410-13debab7f780",
   "metadata": {},
   "source": [
    "<div class=\"alert alert-block alert-info\">\n",
    "<b>Note:</b> Running the following grid searches takes quite some time.</div>"
   ]
  },
  {
   "cell_type": "code",
   "execution_count": 29,
   "id": "b0cc4cc5-bf83-450b-91f3-a7a21fbc5515",
   "metadata": {},
   "outputs": [],
   "source": [
    "# specify metrics to be computed\n",
    "scoring = {\n",
    "    \"accuracy\": \"accuracy\",\n",
    "    \"precision_micro\": \"precision_micro\",\n",
    "    \"recall_micro\": \"recall_micro\",\n",
    "}"
   ]
  },
  {
   "cell_type": "code",
   "execution_count": 30,
   "id": "09848599-ec61-45d9-a659-17d01f4aa840",
   "metadata": {},
   "outputs": [
    {
     "name": "stdout",
     "output_type": "stream",
     "text": [
      "Fitting 5 folds for each of 5 candidates, totalling 25 fits\n",
      "[CV 1/5] END algorithm=auto, n_neighbors=5; accuracy: (test=0.685) precision_micro: (test=0.765) recall_micro: (test=0.685) total time=   0.3s\n",
      "[CV 2/5] END algorithm=auto, n_neighbors=5; accuracy: (test=0.695) precision_micro: (test=0.799) recall_micro: (test=0.695) total time=   0.2s\n",
      "[CV 3/5] END algorithm=auto, n_neighbors=5; accuracy: (test=0.730) precision_micro: (test=0.820) recall_micro: (test=0.730) total time=   0.2s\n",
      "[CV 4/5] END algorithm=auto, n_neighbors=5; accuracy: (test=0.650) precision_micro: (test=0.734) recall_micro: (test=0.650) total time=   0.2s\n",
      "[CV 5/5] END algorithm=auto, n_neighbors=5; accuracy: (test=0.710) precision_micro: (test=0.772) recall_micro: (test=0.710) total time=   0.2s\n",
      "[CV 1/5] END algorithm=auto, n_neighbors=15; accuracy: (test=0.635) precision_micro: (test=0.809) recall_micro: (test=0.635) total time=   0.2s\n",
      "[CV 2/5] END algorithm=auto, n_neighbors=15; accuracy: (test=0.665) precision_micro: (test=0.826) recall_micro: (test=0.665) total time=   0.2s\n",
      "[CV 3/5] END algorithm=auto, n_neighbors=15; accuracy: (test=0.680) precision_micro: (test=0.855) recall_micro: (test=0.680) total time=   0.2s\n",
      "[CV 4/5] END algorithm=auto, n_neighbors=15; accuracy: (test=0.620) precision_micro: (test=0.816) recall_micro: (test=0.620) total time=   0.2s\n",
      "[CV 5/5] END algorithm=auto, n_neighbors=15; accuracy: (test=0.685) precision_micro: (test=0.811) recall_micro: (test=0.685) total time=   0.2s\n",
      "[CV 1/5] END algorithm=auto, n_neighbors=25; accuracy: (test=0.600) precision_micro: (test=0.833) recall_micro: (test=0.600) total time=   0.2s\n",
      "[CV 2/5] END algorithm=auto, n_neighbors=25; accuracy: (test=0.650) precision_micro: (test=0.861) recall_micro: (test=0.650) total time=   0.2s\n",
      "[CV 3/5] END algorithm=auto, n_neighbors=25; accuracy: (test=0.615) precision_micro: (test=0.872) recall_micro: (test=0.615) total time=   0.2s\n",
      "[CV 4/5] END algorithm=auto, n_neighbors=25; accuracy: (test=0.585) precision_micro: (test=0.824) recall_micro: (test=0.585) total time=   0.2s\n",
      "[CV 5/5] END algorithm=auto, n_neighbors=25; accuracy: (test=0.665) precision_micro: (test=0.826) recall_micro: (test=0.665) total time=   0.2s\n",
      "[CV 1/5] END algorithm=auto, n_neighbors=35; accuracy: (test=0.565) precision_micro: (test=0.825) recall_micro: (test=0.565) total time=   0.2s\n",
      "[CV 2/5] END algorithm=auto, n_neighbors=35; accuracy: (test=0.590) precision_micro: (test=0.868) recall_micro: (test=0.590) total time=   0.2s\n",
      "[CV 3/5] END algorithm=auto, n_neighbors=35; accuracy: (test=0.555) precision_micro: (test=0.867) recall_micro: (test=0.555) total time=   0.2s\n",
      "[CV 4/5] END algorithm=auto, n_neighbors=35; accuracy: (test=0.515) precision_micro: (test=0.831) recall_micro: (test=0.515) total time=   0.2s\n",
      "[CV 5/5] END algorithm=auto, n_neighbors=35; accuracy: (test=0.590) precision_micro: (test=0.837) recall_micro: (test=0.590) total time=   0.2s\n",
      "[CV 1/5] END algorithm=auto, n_neighbors=45; accuracy: (test=0.510) precision_micro: (test=0.829) recall_micro: (test=0.510) total time=   0.2s\n",
      "[CV 2/5] END algorithm=auto, n_neighbors=45; accuracy: (test=0.570) precision_micro: (test=0.884) recall_micro: (test=0.570) total time=   0.2s\n",
      "[CV 3/5] END algorithm=auto, n_neighbors=45; accuracy: (test=0.530) precision_micro: (test=0.876) recall_micro: (test=0.530) total time=   0.2s\n",
      "[CV 4/5] END algorithm=auto, n_neighbors=45; accuracy: (test=0.485) precision_micro: (test=0.851) recall_micro: (test=0.485) total time=   0.2s\n",
      "[CV 5/5] END algorithm=auto, n_neighbors=45; accuracy: (test=0.550) precision_micro: (test=0.846) recall_micro: (test=0.550) total time=   0.2s\n"
     ]
    },
    {
     "data": {
      "text/html": [
       "<style>#sk-container-id-2 {color: black;}#sk-container-id-2 pre{padding: 0;}#sk-container-id-2 div.sk-toggleable {background-color: white;}#sk-container-id-2 label.sk-toggleable__label {cursor: pointer;display: block;width: 100%;margin-bottom: 0;padding: 0.3em;box-sizing: border-box;text-align: center;}#sk-container-id-2 label.sk-toggleable__label-arrow:before {content: \"▸\";float: left;margin-right: 0.25em;color: #696969;}#sk-container-id-2 label.sk-toggleable__label-arrow:hover:before {color: black;}#sk-container-id-2 div.sk-estimator:hover label.sk-toggleable__label-arrow:before {color: black;}#sk-container-id-2 div.sk-toggleable__content {max-height: 0;max-width: 0;overflow: hidden;text-align: left;background-color: #f0f8ff;}#sk-container-id-2 div.sk-toggleable__content pre {margin: 0.2em;color: black;border-radius: 0.25em;background-color: #f0f8ff;}#sk-container-id-2 input.sk-toggleable__control:checked~div.sk-toggleable__content {max-height: 200px;max-width: 100%;overflow: auto;}#sk-container-id-2 input.sk-toggleable__control:checked~label.sk-toggleable__label-arrow:before {content: \"▾\";}#sk-container-id-2 div.sk-estimator input.sk-toggleable__control:checked~label.sk-toggleable__label {background-color: #d4ebff;}#sk-container-id-2 div.sk-label input.sk-toggleable__control:checked~label.sk-toggleable__label {background-color: #d4ebff;}#sk-container-id-2 input.sk-hidden--visually {border: 0;clip: rect(1px 1px 1px 1px);clip: rect(1px, 1px, 1px, 1px);height: 1px;margin: -1px;overflow: hidden;padding: 0;position: absolute;width: 1px;}#sk-container-id-2 div.sk-estimator {font-family: monospace;background-color: #f0f8ff;border: 1px dotted black;border-radius: 0.25em;box-sizing: border-box;margin-bottom: 0.5em;}#sk-container-id-2 div.sk-estimator:hover {background-color: #d4ebff;}#sk-container-id-2 div.sk-parallel-item::after {content: \"\";width: 100%;border-bottom: 1px solid gray;flex-grow: 1;}#sk-container-id-2 div.sk-label:hover label.sk-toggleable__label {background-color: #d4ebff;}#sk-container-id-2 div.sk-serial::before {content: \"\";position: absolute;border-left: 1px solid gray;box-sizing: border-box;top: 0;bottom: 0;left: 50%;z-index: 0;}#sk-container-id-2 div.sk-serial {display: flex;flex-direction: column;align-items: center;background-color: white;padding-right: 0.2em;padding-left: 0.2em;position: relative;}#sk-container-id-2 div.sk-item {position: relative;z-index: 1;}#sk-container-id-2 div.sk-parallel {display: flex;align-items: stretch;justify-content: center;background-color: white;position: relative;}#sk-container-id-2 div.sk-item::before, #sk-container-id-2 div.sk-parallel-item::before {content: \"\";position: absolute;border-left: 1px solid gray;box-sizing: border-box;top: 0;bottom: 0;left: 50%;z-index: -1;}#sk-container-id-2 div.sk-parallel-item {display: flex;flex-direction: column;z-index: 1;position: relative;background-color: white;}#sk-container-id-2 div.sk-parallel-item:first-child::after {align-self: flex-end;width: 50%;}#sk-container-id-2 div.sk-parallel-item:last-child::after {align-self: flex-start;width: 50%;}#sk-container-id-2 div.sk-parallel-item:only-child::after {width: 0;}#sk-container-id-2 div.sk-dashed-wrapped {border: 1px dashed gray;margin: 0 0.4em 0.5em 0.4em;box-sizing: border-box;padding-bottom: 0.4em;background-color: white;}#sk-container-id-2 div.sk-label label {font-family: monospace;font-weight: bold;display: inline-block;line-height: 1.2em;}#sk-container-id-2 div.sk-label-container {text-align: center;}#sk-container-id-2 div.sk-container {/* jupyter's `normalize.less` sets `[hidden] { display: none; }` but bootstrap.min.css set `[hidden] { display: none !important; }` so we also need the `!important` here to be able to override the default hidden behavior on the sphinx rendered scikit-learn.org. See: https://github.com/scikit-learn/scikit-learn/issues/21755 */display: inline-block !important;position: relative;}#sk-container-id-2 div.sk-text-repr-fallback {display: none;}</style><div id=\"sk-container-id-2\" class=\"sk-top-container\"><div class=\"sk-text-repr-fallback\"><pre>GridSearchCV(cv=5, estimator=KNeighborsClassifier(),\n",
       "             param_grid={&#x27;algorithm&#x27;: [&#x27;auto&#x27;],\n",
       "                         &#x27;n_neighbors&#x27;: range(5, 50, 10)},\n",
       "             refit=&#x27;accuracy&#x27;,\n",
       "             scoring={&#x27;accuracy&#x27;: &#x27;accuracy&#x27;,\n",
       "                      &#x27;precision_micro&#x27;: &#x27;precision_micro&#x27;,\n",
       "                      &#x27;recall_micro&#x27;: &#x27;recall_micro&#x27;},\n",
       "             verbose=3)</pre><b>In a Jupyter environment, please rerun this cell to show the HTML representation or trust the notebook. <br />On GitHub, the HTML representation is unable to render, please try loading this page with nbviewer.org.</b></div><div class=\"sk-container\" hidden><div class=\"sk-item sk-dashed-wrapped\"><div class=\"sk-label-container\"><div class=\"sk-label sk-toggleable\"><input class=\"sk-toggleable__control sk-hidden--visually\" id=\"sk-estimator-id-2\" type=\"checkbox\" ><label for=\"sk-estimator-id-2\" class=\"sk-toggleable__label sk-toggleable__label-arrow\">GridSearchCV</label><div class=\"sk-toggleable__content\"><pre>GridSearchCV(cv=5, estimator=KNeighborsClassifier(),\n",
       "             param_grid={&#x27;algorithm&#x27;: [&#x27;auto&#x27;],\n",
       "                         &#x27;n_neighbors&#x27;: range(5, 50, 10)},\n",
       "             refit=&#x27;accuracy&#x27;,\n",
       "             scoring={&#x27;accuracy&#x27;: &#x27;accuracy&#x27;,\n",
       "                      &#x27;precision_micro&#x27;: &#x27;precision_micro&#x27;,\n",
       "                      &#x27;recall_micro&#x27;: &#x27;recall_micro&#x27;},\n",
       "             verbose=3)</pre></div></div></div><div class=\"sk-parallel\"><div class=\"sk-parallel-item\"><div class=\"sk-item\"><div class=\"sk-label-container\"><div class=\"sk-label sk-toggleable\"><input class=\"sk-toggleable__control sk-hidden--visually\" id=\"sk-estimator-id-3\" type=\"checkbox\" ><label for=\"sk-estimator-id-3\" class=\"sk-toggleable__label sk-toggleable__label-arrow\">estimator: KNeighborsClassifier</label><div class=\"sk-toggleable__content\"><pre>KNeighborsClassifier()</pre></div></div></div><div class=\"sk-serial\"><div class=\"sk-item\"><div class=\"sk-estimator sk-toggleable\"><input class=\"sk-toggleable__control sk-hidden--visually\" id=\"sk-estimator-id-4\" type=\"checkbox\" ><label for=\"sk-estimator-id-4\" class=\"sk-toggleable__label sk-toggleable__label-arrow\">KNeighborsClassifier</label><div class=\"sk-toggleable__content\"><pre>KNeighborsClassifier()</pre></div></div></div></div></div></div></div></div></div></div>"
      ],
      "text/plain": [
       "GridSearchCV(cv=5, estimator=KNeighborsClassifier(),\n",
       "             param_grid={'algorithm': ['auto'],\n",
       "                         'n_neighbors': range(5, 50, 10)},\n",
       "             refit='accuracy',\n",
       "             scoring={'accuracy': 'accuracy',\n",
       "                      'precision_micro': 'precision_micro',\n",
       "                      'recall_micro': 'recall_micro'},\n",
       "             verbose=3)"
      ]
     },
     "execution_count": 30,
     "metadata": {},
     "output_type": "execute_result"
    },
    {
     "name": "stdout",
     "output_type": "stream",
     "text": [
      "Best parameter for knn (CV score=0.694):      {'algorithm': 'auto', 'n_neighbors': 5} (KNeighborsClassifier())\n"
     ]
    }
   ],
   "source": [
    "# grid search for knn (baseline)\n",
    "parameters_knn = {\"n_neighbors\": range(5, 50, 10), \"algorithm\": [\"auto\"]}\n",
    "\n",
    "# apply grid search\n",
    "gs_knn = GridSearchCV(\n",
    "    KNeighborsClassifier(),\n",
    "    parameters_knn,\n",
    "    cv=5,\n",
    "    refit=\"accuracy\",\n",
    "    scoring=scoring,\n",
    "    verbose=3,\n",
    ")\n",
    "gs_knn.fit(X, y)\n",
    "\n",
    "# best results\n",
    "print(\n",
    "    f\"Best parameter for knn (CV score={gs_knn.best_score_:0.3f}):\\\n",
    "      {gs_knn.best_params_} ({gs_knn.best_estimator_})\"\n",
    ")"
   ]
  },
  {
   "cell_type": "code",
   "execution_count": 31,
   "id": "479793a8-a96f-4045-9304-8581362bb2c4",
   "metadata": {},
   "outputs": [
    {
     "data": {
      "text/html": [
       "<div>\n",
       "<style scoped>\n",
       "    .dataframe tbody tr th:only-of-type {\n",
       "        vertical-align: middle;\n",
       "    }\n",
       "\n",
       "    .dataframe tbody tr th {\n",
       "        vertical-align: top;\n",
       "    }\n",
       "\n",
       "    .dataframe thead th {\n",
       "        text-align: right;\n",
       "    }\n",
       "</style>\n",
       "<table border=\"1\" class=\"dataframe\">\n",
       "  <thead>\n",
       "    <tr style=\"text-align: right;\">\n",
       "      <th></th>\n",
       "      <th>mean_fit_time</th>\n",
       "      <th>std_fit_time</th>\n",
       "      <th>mean_score_time</th>\n",
       "      <th>std_score_time</th>\n",
       "      <th>param_algorithm</th>\n",
       "      <th>param_n_neighbors</th>\n",
       "      <th>params</th>\n",
       "      <th>split0_test_accuracy</th>\n",
       "      <th>split1_test_accuracy</th>\n",
       "      <th>split2_test_accuracy</th>\n",
       "      <th>split3_test_accuracy</th>\n",
       "      <th>split4_test_accuracy</th>\n",
       "      <th>mean_test_accuracy</th>\n",
       "      <th>std_test_accuracy</th>\n",
       "      <th>rank_test_accuracy</th>\n",
       "      <th>...</th>\n",
       "      <th>split1_test_precision_micro</th>\n",
       "      <th>split2_test_precision_micro</th>\n",
       "      <th>split3_test_precision_micro</th>\n",
       "      <th>split4_test_precision_micro</th>\n",
       "      <th>mean_test_precision_micro</th>\n",
       "      <th>std_test_precision_micro</th>\n",
       "      <th>rank_test_precision_micro</th>\n",
       "      <th>split0_test_recall_micro</th>\n",
       "      <th>split1_test_recall_micro</th>\n",
       "      <th>split2_test_recall_micro</th>\n",
       "      <th>split3_test_recall_micro</th>\n",
       "      <th>split4_test_recall_micro</th>\n",
       "      <th>mean_test_recall_micro</th>\n",
       "      <th>std_test_recall_micro</th>\n",
       "      <th>rank_test_recall_micro</th>\n",
       "    </tr>\n",
       "  </thead>\n",
       "  <tbody>\n",
       "    <tr>\n",
       "      <th>0</th>\n",
       "      <td>0.011104</td>\n",
       "      <td>0.005041</td>\n",
       "      <td>0.198227</td>\n",
       "      <td>0.035401</td>\n",
       "      <td>auto</td>\n",
       "      <td>5</td>\n",
       "      <td>{'algorithm': 'auto', 'n_neighbors': 5}</td>\n",
       "      <td>0.685</td>\n",
       "      <td>0.695</td>\n",
       "      <td>0.730</td>\n",
       "      <td>0.650</td>\n",
       "      <td>0.710</td>\n",
       "      <td>0.694</td>\n",
       "      <td>0.026721</td>\n",
       "      <td>1</td>\n",
       "      <td>...</td>\n",
       "      <td>0.798851</td>\n",
       "      <td>0.820225</td>\n",
       "      <td>0.734463</td>\n",
       "      <td>0.771739</td>\n",
       "      <td>0.778128</td>\n",
       "      <td>0.029366</td>\n",
       "      <td>5</td>\n",
       "      <td>0.685</td>\n",
       "      <td>0.695</td>\n",
       "      <td>0.730</td>\n",
       "      <td>0.650</td>\n",
       "      <td>0.710</td>\n",
       "      <td>0.694</td>\n",
       "      <td>0.026721</td>\n",
       "      <td>1</td>\n",
       "    </tr>\n",
       "    <tr>\n",
       "      <th>1</th>\n",
       "      <td>0.009623</td>\n",
       "      <td>0.002640</td>\n",
       "      <td>0.178316</td>\n",
       "      <td>0.009299</td>\n",
       "      <td>auto</td>\n",
       "      <td>15</td>\n",
       "      <td>{'algorithm': 'auto', 'n_neighbors': 15}</td>\n",
       "      <td>0.635</td>\n",
       "      <td>0.665</td>\n",
       "      <td>0.680</td>\n",
       "      <td>0.620</td>\n",
       "      <td>0.685</td>\n",
       "      <td>0.657</td>\n",
       "      <td>0.025417</td>\n",
       "      <td>2</td>\n",
       "      <td>...</td>\n",
       "      <td>0.826087</td>\n",
       "      <td>0.855346</td>\n",
       "      <td>0.815789</td>\n",
       "      <td>0.810651</td>\n",
       "      <td>0.823358</td>\n",
       "      <td>0.017076</td>\n",
       "      <td>4</td>\n",
       "      <td>0.635</td>\n",
       "      <td>0.665</td>\n",
       "      <td>0.680</td>\n",
       "      <td>0.620</td>\n",
       "      <td>0.685</td>\n",
       "      <td>0.657</td>\n",
       "      <td>0.025417</td>\n",
       "      <td>2</td>\n",
       "    </tr>\n",
       "    <tr>\n",
       "      <th>2</th>\n",
       "      <td>0.008367</td>\n",
       "      <td>0.000141</td>\n",
       "      <td>0.177179</td>\n",
       "      <td>0.005679</td>\n",
       "      <td>auto</td>\n",
       "      <td>25</td>\n",
       "      <td>{'algorithm': 'auto', 'n_neighbors': 25}</td>\n",
       "      <td>0.600</td>\n",
       "      <td>0.650</td>\n",
       "      <td>0.615</td>\n",
       "      <td>0.585</td>\n",
       "      <td>0.665</td>\n",
       "      <td>0.623</td>\n",
       "      <td>0.030100</td>\n",
       "      <td>3</td>\n",
       "      <td>...</td>\n",
       "      <td>0.860927</td>\n",
       "      <td>0.872340</td>\n",
       "      <td>0.823944</td>\n",
       "      <td>0.826087</td>\n",
       "      <td>0.843326</td>\n",
       "      <td>0.019618</td>\n",
       "      <td>3</td>\n",
       "      <td>0.600</td>\n",
       "      <td>0.650</td>\n",
       "      <td>0.615</td>\n",
       "      <td>0.585</td>\n",
       "      <td>0.665</td>\n",
       "      <td>0.623</td>\n",
       "      <td>0.030100</td>\n",
       "      <td>3</td>\n",
       "    </tr>\n",
       "    <tr>\n",
       "      <th>3</th>\n",
       "      <td>0.008424</td>\n",
       "      <td>0.000227</td>\n",
       "      <td>0.185982</td>\n",
       "      <td>0.010549</td>\n",
       "      <td>auto</td>\n",
       "      <td>35</td>\n",
       "      <td>{'algorithm': 'auto', 'n_neighbors': 35}</td>\n",
       "      <td>0.565</td>\n",
       "      <td>0.590</td>\n",
       "      <td>0.555</td>\n",
       "      <td>0.515</td>\n",
       "      <td>0.590</td>\n",
       "      <td>0.563</td>\n",
       "      <td>0.027677</td>\n",
       "      <td>4</td>\n",
       "      <td>...</td>\n",
       "      <td>0.867647</td>\n",
       "      <td>0.867188</td>\n",
       "      <td>0.830645</td>\n",
       "      <td>0.836879</td>\n",
       "      <td>0.845435</td>\n",
       "      <td>0.018350</td>\n",
       "      <td>2</td>\n",
       "      <td>0.565</td>\n",
       "      <td>0.590</td>\n",
       "      <td>0.555</td>\n",
       "      <td>0.515</td>\n",
       "      <td>0.590</td>\n",
       "      <td>0.563</td>\n",
       "      <td>0.027677</td>\n",
       "      <td>4</td>\n",
       "    </tr>\n",
       "    <tr>\n",
       "      <th>4</th>\n",
       "      <td>0.008678</td>\n",
       "      <td>0.000169</td>\n",
       "      <td>0.181019</td>\n",
       "      <td>0.006526</td>\n",
       "      <td>auto</td>\n",
       "      <td>45</td>\n",
       "      <td>{'algorithm': 'auto', 'n_neighbors': 45}</td>\n",
       "      <td>0.510</td>\n",
       "      <td>0.570</td>\n",
       "      <td>0.530</td>\n",
       "      <td>0.485</td>\n",
       "      <td>0.550</td>\n",
       "      <td>0.529</td>\n",
       "      <td>0.029732</td>\n",
       "      <td>5</td>\n",
       "      <td>...</td>\n",
       "      <td>0.883721</td>\n",
       "      <td>0.876033</td>\n",
       "      <td>0.850877</td>\n",
       "      <td>0.846154</td>\n",
       "      <td>0.857211</td>\n",
       "      <td>0.020001</td>\n",
       "      <td>1</td>\n",
       "      <td>0.510</td>\n",
       "      <td>0.570</td>\n",
       "      <td>0.530</td>\n",
       "      <td>0.485</td>\n",
       "      <td>0.550</td>\n",
       "      <td>0.529</td>\n",
       "      <td>0.029732</td>\n",
       "      <td>5</td>\n",
       "    </tr>\n",
       "  </tbody>\n",
       "</table>\n",
       "<p>5 rows × 31 columns</p>\n",
       "</div>"
      ],
      "text/plain": [
       "   mean_fit_time  std_fit_time  mean_score_time  std_score_time  \\\n",
       "0       0.011104      0.005041         0.198227        0.035401   \n",
       "1       0.009623      0.002640         0.178316        0.009299   \n",
       "2       0.008367      0.000141         0.177179        0.005679   \n",
       "3       0.008424      0.000227         0.185982        0.010549   \n",
       "4       0.008678      0.000169         0.181019        0.006526   \n",
       "\n",
       "  param_algorithm param_n_neighbors                                    params  \\\n",
       "0            auto                 5   {'algorithm': 'auto', 'n_neighbors': 5}   \n",
       "1            auto                15  {'algorithm': 'auto', 'n_neighbors': 15}   \n",
       "2            auto                25  {'algorithm': 'auto', 'n_neighbors': 25}   \n",
       "3            auto                35  {'algorithm': 'auto', 'n_neighbors': 35}   \n",
       "4            auto                45  {'algorithm': 'auto', 'n_neighbors': 45}   \n",
       "\n",
       "   split0_test_accuracy  split1_test_accuracy  split2_test_accuracy  \\\n",
       "0                 0.685                 0.695                 0.730   \n",
       "1                 0.635                 0.665                 0.680   \n",
       "2                 0.600                 0.650                 0.615   \n",
       "3                 0.565                 0.590                 0.555   \n",
       "4                 0.510                 0.570                 0.530   \n",
       "\n",
       "   split3_test_accuracy  split4_test_accuracy  mean_test_accuracy  \\\n",
       "0                 0.650                 0.710               0.694   \n",
       "1                 0.620                 0.685               0.657   \n",
       "2                 0.585                 0.665               0.623   \n",
       "3                 0.515                 0.590               0.563   \n",
       "4                 0.485                 0.550               0.529   \n",
       "\n",
       "   std_test_accuracy  rank_test_accuracy  ...  split1_test_precision_micro  \\\n",
       "0           0.026721                   1  ...                     0.798851   \n",
       "1           0.025417                   2  ...                     0.826087   \n",
       "2           0.030100                   3  ...                     0.860927   \n",
       "3           0.027677                   4  ...                     0.867647   \n",
       "4           0.029732                   5  ...                     0.883721   \n",
       "\n",
       "   split2_test_precision_micro  split3_test_precision_micro  \\\n",
       "0                     0.820225                     0.734463   \n",
       "1                     0.855346                     0.815789   \n",
       "2                     0.872340                     0.823944   \n",
       "3                     0.867188                     0.830645   \n",
       "4                     0.876033                     0.850877   \n",
       "\n",
       "   split4_test_precision_micro  mean_test_precision_micro  \\\n",
       "0                     0.771739                   0.778128   \n",
       "1                     0.810651                   0.823358   \n",
       "2                     0.826087                   0.843326   \n",
       "3                     0.836879                   0.845435   \n",
       "4                     0.846154                   0.857211   \n",
       "\n",
       "   std_test_precision_micro  rank_test_precision_micro  \\\n",
       "0                  0.029366                          5   \n",
       "1                  0.017076                          4   \n",
       "2                  0.019618                          3   \n",
       "3                  0.018350                          2   \n",
       "4                  0.020001                          1   \n",
       "\n",
       "   split0_test_recall_micro  split1_test_recall_micro  \\\n",
       "0                     0.685                     0.695   \n",
       "1                     0.635                     0.665   \n",
       "2                     0.600                     0.650   \n",
       "3                     0.565                     0.590   \n",
       "4                     0.510                     0.570   \n",
       "\n",
       "   split2_test_recall_micro  split3_test_recall_micro  \\\n",
       "0                     0.730                     0.650   \n",
       "1                     0.680                     0.620   \n",
       "2                     0.615                     0.585   \n",
       "3                     0.555                     0.515   \n",
       "4                     0.530                     0.485   \n",
       "\n",
       "   split4_test_recall_micro  mean_test_recall_micro  std_test_recall_micro  \\\n",
       "0                     0.710                   0.694               0.026721   \n",
       "1                     0.685                   0.657               0.025417   \n",
       "2                     0.665                   0.623               0.030100   \n",
       "3                     0.590                   0.563               0.027677   \n",
       "4                     0.550                   0.529               0.029732   \n",
       "\n",
       "   rank_test_recall_micro  \n",
       "0                       1  \n",
       "1                       2  \n",
       "2                       3  \n",
       "3                       4  \n",
       "4                       5  \n",
       "\n",
       "[5 rows x 31 columns]"
      ]
     },
     "execution_count": 31,
     "metadata": {},
     "output_type": "execute_result"
    }
   ],
   "source": [
    "pd.DataFrame(gs_knn.cv_results_)"
   ]
  },
  {
   "cell_type": "code",
   "execution_count": 32,
   "id": "2c70bd75-dbc8-425a-b324-888602073f4f",
   "metadata": {},
   "outputs": [
    {
     "name": "stdout",
     "output_type": "stream",
     "text": [
      "Fitting 5 folds for each of 8 candidates, totalling 40 fits\n",
      "[CV 1/5] END criterion=entropy, max_depth=6; accuracy: (test=0.650) precision_micro: (test=0.718) recall_micro: (test=0.650) total time=   1.0s\n",
      "[CV 2/5] END criterion=entropy, max_depth=6; accuracy: (test=0.675) precision_micro: (test=0.734) recall_micro: (test=0.675) total time=   0.8s\n",
      "[CV 3/5] END criterion=entropy, max_depth=6; accuracy: (test=0.665) precision_micro: (test=0.731) recall_micro: (test=0.665) total time=   0.6s\n",
      "[CV 4/5] END criterion=entropy, max_depth=6; accuracy: (test=0.540) precision_micro: (test=0.639) recall_micro: (test=0.540) total time=   0.6s\n",
      "[CV 5/5] END criterion=entropy, max_depth=6; accuracy: (test=0.640) precision_micro: (test=0.699) recall_micro: (test=0.640) total time=   0.6s\n",
      "[CV 1/5] END criterion=entropy, max_depth=8; accuracy: (test=0.635) precision_micro: (test=0.676) recall_micro: (test=0.635) total time=   0.7s\n",
      "[CV 2/5] END criterion=entropy, max_depth=8; accuracy: (test=0.685) precision_micro: (test=0.749) recall_micro: (test=0.685) total time=   0.7s\n",
      "[CV 3/5] END criterion=entropy, max_depth=8; accuracy: (test=0.720) precision_micro: (test=0.742) recall_micro: (test=0.720) total time=   0.7s\n",
      "[CV 4/5] END criterion=entropy, max_depth=8; accuracy: (test=0.615) precision_micro: (test=0.651) recall_micro: (test=0.615) total time=   0.7s\n",
      "[CV 5/5] END criterion=entropy, max_depth=8; accuracy: (test=0.645) precision_micro: (test=0.690) recall_micro: (test=0.645) total time=   0.8s\n",
      "[CV 1/5] END criterion=entropy, max_depth=10; accuracy: (test=0.640) precision_micro: (test=0.674) recall_micro: (test=0.640) total time=   0.8s\n",
      "[CV 2/5] END criterion=entropy, max_depth=10; accuracy: (test=0.695) precision_micro: (test=0.702) recall_micro: (test=0.695) total time=   0.8s\n",
      "[CV 3/5] END criterion=entropy, max_depth=10; accuracy: (test=0.715) precision_micro: (test=0.715) recall_micro: (test=0.715) total time=   0.8s\n",
      "[CV 4/5] END criterion=entropy, max_depth=10; accuracy: (test=0.635) precision_micro: (test=0.638) recall_micro: (test=0.635) total time=   1.0s\n",
      "[CV 5/5] END criterion=entropy, max_depth=10; accuracy: (test=0.655) precision_micro: (test=0.655) recall_micro: (test=0.655) total time=   0.9s\n",
      "[CV 1/5] END criterion=entropy, max_depth=12; accuracy: (test=0.665) precision_micro: (test=0.665) recall_micro: (test=0.665) total time=   0.9s\n",
      "[CV 2/5] END criterion=entropy, max_depth=12; accuracy: (test=0.720) precision_micro: (test=0.720) recall_micro: (test=0.720) total time=   1.0s\n",
      "[CV 3/5] END criterion=entropy, max_depth=12; accuracy: (test=0.710) precision_micro: (test=0.710) recall_micro: (test=0.710) total time=   0.8s\n",
      "[CV 4/5] END criterion=entropy, max_depth=12; accuracy: (test=0.640) precision_micro: (test=0.640) recall_micro: (test=0.640) total time=   1.0s\n",
      "[CV 5/5] END criterion=entropy, max_depth=12; accuracy: (test=0.675) precision_micro: (test=0.675) recall_micro: (test=0.675) total time=   1.0s\n",
      "[CV 1/5] END criterion=gini, max_depth=6; accuracy: (test=0.660) precision_micro: (test=0.717) recall_micro: (test=0.660) total time=   0.5s\n",
      "[CV 2/5] END criterion=gini, max_depth=6; accuracy: (test=0.655) precision_micro: (test=0.686) recall_micro: (test=0.655) total time=   0.3s\n",
      "[CV 3/5] END criterion=gini, max_depth=6; accuracy: (test=0.660) precision_micro: (test=0.710) recall_micro: (test=0.660) total time=   0.4s\n",
      "[CV 4/5] END criterion=gini, max_depth=6; accuracy: (test=0.600) precision_micro: (test=0.670) recall_micro: (test=0.600) total time=   0.4s\n",
      "[CV 5/5] END criterion=gini, max_depth=6; accuracy: (test=0.615) precision_micro: (test=0.665) recall_micro: (test=0.615) total time=   0.3s\n",
      "[CV 1/5] END criterion=gini, max_depth=8; accuracy: (test=0.670) precision_micro: (test=0.709) recall_micro: (test=0.670) total time=   0.4s\n",
      "[CV 2/5] END criterion=gini, max_depth=8; accuracy: (test=0.650) precision_micro: (test=0.691) recall_micro: (test=0.650) total time=   0.5s\n",
      "[CV 3/5] END criterion=gini, max_depth=8; accuracy: (test=0.635) precision_micro: (test=0.655) recall_micro: (test=0.635) total time=   0.4s\n",
      "[CV 4/5] END criterion=gini, max_depth=8; accuracy: (test=0.650) precision_micro: (test=0.657) recall_micro: (test=0.650) total time=   0.4s\n",
      "[CV 5/5] END criterion=gini, max_depth=8; accuracy: (test=0.630) precision_micro: (test=0.663) recall_micro: (test=0.630) total time=   0.4s\n",
      "[CV 1/5] END criterion=gini, max_depth=10; accuracy: (test=0.655) precision_micro: (test=0.679) recall_micro: (test=0.655) total time=   0.6s\n",
      "[CV 2/5] END criterion=gini, max_depth=10; accuracy: (test=0.700) precision_micro: (test=0.700) recall_micro: (test=0.700) total time=   0.4s\n",
      "[CV 3/5] END criterion=gini, max_depth=10; accuracy: (test=0.615) precision_micro: (test=0.621) recall_micro: (test=0.615) total time=   0.4s\n",
      "[CV 4/5] END criterion=gini, max_depth=10; accuracy: (test=0.620) precision_micro: (test=0.620) recall_micro: (test=0.620) total time=   0.5s\n",
      "[CV 5/5] END criterion=gini, max_depth=10; accuracy: (test=0.620) precision_micro: (test=0.629) recall_micro: (test=0.620) total time=   0.5s\n",
      "[CV 1/5] END criterion=gini, max_depth=12; accuracy: (test=0.680) precision_micro: (test=0.687) recall_micro: (test=0.680) total time=   0.5s\n",
      "[CV 2/5] END criterion=gini, max_depth=12; accuracy: (test=0.690) precision_micro: (test=0.690) recall_micro: (test=0.690) total time=   0.6s\n",
      "[CV 3/5] END criterion=gini, max_depth=12; accuracy: (test=0.605) precision_micro: (test=0.605) recall_micro: (test=0.605) total time=   0.5s\n",
      "[CV 4/5] END criterion=gini, max_depth=12; accuracy: (test=0.650) precision_micro: (test=0.650) recall_micro: (test=0.650) total time=   0.5s\n",
      "[CV 5/5] END criterion=gini, max_depth=12; accuracy: (test=0.620) precision_micro: (test=0.620) recall_micro: (test=0.620) total time=   0.5s\n"
     ]
    },
    {
     "data": {
      "text/html": [
       "<style>#sk-container-id-3 {color: black;}#sk-container-id-3 pre{padding: 0;}#sk-container-id-3 div.sk-toggleable {background-color: white;}#sk-container-id-3 label.sk-toggleable__label {cursor: pointer;display: block;width: 100%;margin-bottom: 0;padding: 0.3em;box-sizing: border-box;text-align: center;}#sk-container-id-3 label.sk-toggleable__label-arrow:before {content: \"▸\";float: left;margin-right: 0.25em;color: #696969;}#sk-container-id-3 label.sk-toggleable__label-arrow:hover:before {color: black;}#sk-container-id-3 div.sk-estimator:hover label.sk-toggleable__label-arrow:before {color: black;}#sk-container-id-3 div.sk-toggleable__content {max-height: 0;max-width: 0;overflow: hidden;text-align: left;background-color: #f0f8ff;}#sk-container-id-3 div.sk-toggleable__content pre {margin: 0.2em;color: black;border-radius: 0.25em;background-color: #f0f8ff;}#sk-container-id-3 input.sk-toggleable__control:checked~div.sk-toggleable__content {max-height: 200px;max-width: 100%;overflow: auto;}#sk-container-id-3 input.sk-toggleable__control:checked~label.sk-toggleable__label-arrow:before {content: \"▾\";}#sk-container-id-3 div.sk-estimator input.sk-toggleable__control:checked~label.sk-toggleable__label {background-color: #d4ebff;}#sk-container-id-3 div.sk-label input.sk-toggleable__control:checked~label.sk-toggleable__label {background-color: #d4ebff;}#sk-container-id-3 input.sk-hidden--visually {border: 0;clip: rect(1px 1px 1px 1px);clip: rect(1px, 1px, 1px, 1px);height: 1px;margin: -1px;overflow: hidden;padding: 0;position: absolute;width: 1px;}#sk-container-id-3 div.sk-estimator {font-family: monospace;background-color: #f0f8ff;border: 1px dotted black;border-radius: 0.25em;box-sizing: border-box;margin-bottom: 0.5em;}#sk-container-id-3 div.sk-estimator:hover {background-color: #d4ebff;}#sk-container-id-3 div.sk-parallel-item::after {content: \"\";width: 100%;border-bottom: 1px solid gray;flex-grow: 1;}#sk-container-id-3 div.sk-label:hover label.sk-toggleable__label {background-color: #d4ebff;}#sk-container-id-3 div.sk-serial::before {content: \"\";position: absolute;border-left: 1px solid gray;box-sizing: border-box;top: 0;bottom: 0;left: 50%;z-index: 0;}#sk-container-id-3 div.sk-serial {display: flex;flex-direction: column;align-items: center;background-color: white;padding-right: 0.2em;padding-left: 0.2em;position: relative;}#sk-container-id-3 div.sk-item {position: relative;z-index: 1;}#sk-container-id-3 div.sk-parallel {display: flex;align-items: stretch;justify-content: center;background-color: white;position: relative;}#sk-container-id-3 div.sk-item::before, #sk-container-id-3 div.sk-parallel-item::before {content: \"\";position: absolute;border-left: 1px solid gray;box-sizing: border-box;top: 0;bottom: 0;left: 50%;z-index: -1;}#sk-container-id-3 div.sk-parallel-item {display: flex;flex-direction: column;z-index: 1;position: relative;background-color: white;}#sk-container-id-3 div.sk-parallel-item:first-child::after {align-self: flex-end;width: 50%;}#sk-container-id-3 div.sk-parallel-item:last-child::after {align-self: flex-start;width: 50%;}#sk-container-id-3 div.sk-parallel-item:only-child::after {width: 0;}#sk-container-id-3 div.sk-dashed-wrapped {border: 1px dashed gray;margin: 0 0.4em 0.5em 0.4em;box-sizing: border-box;padding-bottom: 0.4em;background-color: white;}#sk-container-id-3 div.sk-label label {font-family: monospace;font-weight: bold;display: inline-block;line-height: 1.2em;}#sk-container-id-3 div.sk-label-container {text-align: center;}#sk-container-id-3 div.sk-container {/* jupyter's `normalize.less` sets `[hidden] { display: none; }` but bootstrap.min.css set `[hidden] { display: none !important; }` so we also need the `!important` here to be able to override the default hidden behavior on the sphinx rendered scikit-learn.org. See: https://github.com/scikit-learn/scikit-learn/issues/21755 */display: inline-block !important;position: relative;}#sk-container-id-3 div.sk-text-repr-fallback {display: none;}</style><div id=\"sk-container-id-3\" class=\"sk-top-container\"><div class=\"sk-text-repr-fallback\"><pre>GridSearchCV(cv=5, estimator=DecisionTreeClassifier(),\n",
       "             param_grid={&#x27;criterion&#x27;: [&#x27;entropy&#x27;, &#x27;gini&#x27;],\n",
       "                         &#x27;max_depth&#x27;: [6, 8, 10, 12]},\n",
       "             refit=&#x27;accuracy&#x27;,\n",
       "             scoring={&#x27;accuracy&#x27;: &#x27;accuracy&#x27;,\n",
       "                      &#x27;precision_micro&#x27;: &#x27;precision_micro&#x27;,\n",
       "                      &#x27;recall_micro&#x27;: &#x27;recall_micro&#x27;},\n",
       "             verbose=3)</pre><b>In a Jupyter environment, please rerun this cell to show the HTML representation or trust the notebook. <br />On GitHub, the HTML representation is unable to render, please try loading this page with nbviewer.org.</b></div><div class=\"sk-container\" hidden><div class=\"sk-item sk-dashed-wrapped\"><div class=\"sk-label-container\"><div class=\"sk-label sk-toggleable\"><input class=\"sk-toggleable__control sk-hidden--visually\" id=\"sk-estimator-id-5\" type=\"checkbox\" ><label for=\"sk-estimator-id-5\" class=\"sk-toggleable__label sk-toggleable__label-arrow\">GridSearchCV</label><div class=\"sk-toggleable__content\"><pre>GridSearchCV(cv=5, estimator=DecisionTreeClassifier(),\n",
       "             param_grid={&#x27;criterion&#x27;: [&#x27;entropy&#x27;, &#x27;gini&#x27;],\n",
       "                         &#x27;max_depth&#x27;: [6, 8, 10, 12]},\n",
       "             refit=&#x27;accuracy&#x27;,\n",
       "             scoring={&#x27;accuracy&#x27;: &#x27;accuracy&#x27;,\n",
       "                      &#x27;precision_micro&#x27;: &#x27;precision_micro&#x27;,\n",
       "                      &#x27;recall_micro&#x27;: &#x27;recall_micro&#x27;},\n",
       "             verbose=3)</pre></div></div></div><div class=\"sk-parallel\"><div class=\"sk-parallel-item\"><div class=\"sk-item\"><div class=\"sk-label-container\"><div class=\"sk-label sk-toggleable\"><input class=\"sk-toggleable__control sk-hidden--visually\" id=\"sk-estimator-id-6\" type=\"checkbox\" ><label for=\"sk-estimator-id-6\" class=\"sk-toggleable__label sk-toggleable__label-arrow\">estimator: DecisionTreeClassifier</label><div class=\"sk-toggleable__content\"><pre>DecisionTreeClassifier()</pre></div></div></div><div class=\"sk-serial\"><div class=\"sk-item\"><div class=\"sk-estimator sk-toggleable\"><input class=\"sk-toggleable__control sk-hidden--visually\" id=\"sk-estimator-id-7\" type=\"checkbox\" ><label for=\"sk-estimator-id-7\" class=\"sk-toggleable__label sk-toggleable__label-arrow\">DecisionTreeClassifier</label><div class=\"sk-toggleable__content\"><pre>DecisionTreeClassifier()</pre></div></div></div></div></div></div></div></div></div></div>"
      ],
      "text/plain": [
       "GridSearchCV(cv=5, estimator=DecisionTreeClassifier(),\n",
       "             param_grid={'criterion': ['entropy', 'gini'],\n",
       "                         'max_depth': [6, 8, 10, 12]},\n",
       "             refit='accuracy',\n",
       "             scoring={'accuracy': 'accuracy',\n",
       "                      'precision_micro': 'precision_micro',\n",
       "                      'recall_micro': 'recall_micro'},\n",
       "             verbose=3)"
      ]
     },
     "execution_count": 32,
     "metadata": {},
     "output_type": "execute_result"
    },
    {
     "name": "stdout",
     "output_type": "stream",
     "text": [
      "Best parameter for decision tree     (CV score=0.682):     {'criterion': 'entropy', 'max_depth': 12} (DecisionTreeClassifier(criterion='entropy', max_depth=12))\n"
     ]
    }
   ],
   "source": [
    "# grid search for decision tree\n",
    "parameters_decision_tree = {\n",
    "    \"criterion\": [\"entropy\", \"gini\"],\n",
    "    \"max_depth\": [6, 8, 10, 12],\n",
    "}\n",
    "\n",
    "# apply grid search\n",
    "gs_decision_tree = GridSearchCV(\n",
    "    DecisionTreeClassifier(),\n",
    "    parameters_decision_tree,\n",
    "    cv=5,\n",
    "    scoring=scoring,\n",
    "    refit=\"accuracy\",\n",
    "    verbose=3,\n",
    ")\n",
    "gs_decision_tree.fit(X, y)\n",
    "\n",
    "# best results\n",
    "print(\n",
    "    f\"Best parameter for decision tree \\\n",
    "    (CV score={gs_decision_tree.best_score_:0.3f}): \\\n",
    "    {gs_decision_tree.best_params_} ({gs_decision_tree.best_estimator_})\"\n",
    ")"
   ]
  },
  {
   "cell_type": "code",
   "execution_count": 33,
   "id": "c6483822-9af3-4308-8bbe-459f9763b266",
   "metadata": {},
   "outputs": [
    {
     "name": "stdout",
     "output_type": "stream",
     "text": [
      "Fitting 5 folds for each of 5 candidates, totalling 25 fits\n",
      "[CV 1/5] END n_estimators=100; accuracy: (test=0.630) precision_micro: (test=0.881) recall_micro: (test=0.630) total time=   1.5s\n",
      "[CV 2/5] END n_estimators=100; accuracy: (test=0.690) precision_micro: (test=0.890) recall_micro: (test=0.690) total time=   1.4s\n",
      "[CV 3/5] END n_estimators=100; accuracy: (test=0.670) precision_micro: (test=0.893) recall_micro: (test=0.670) total time=   1.5s\n",
      "[CV 4/5] END n_estimators=100; accuracy: (test=0.585) precision_micro: (test=0.836) recall_micro: (test=0.585) total time=   1.4s\n",
      "[CV 5/5] END n_estimators=100; accuracy: (test=0.680) precision_micro: (test=0.907) recall_micro: (test=0.680) total time=   1.4s\n",
      "[CV 1/5] END n_estimators=200; accuracy: (test=0.665) precision_micro: (test=0.881) recall_micro: (test=0.665) total time=   3.1s\n",
      "[CV 2/5] END n_estimators=200; accuracy: (test=0.690) precision_micro: (test=0.890) recall_micro: (test=0.690) total time=   3.1s\n",
      "[CV 3/5] END n_estimators=200; accuracy: (test=0.700) precision_micro: (test=0.903) recall_micro: (test=0.700) total time=   3.2s\n",
      "[CV 4/5] END n_estimators=200; accuracy: (test=0.620) precision_micro: (test=0.844) recall_micro: (test=0.620) total time=   2.8s\n",
      "[CV 5/5] END n_estimators=200; accuracy: (test=0.685) precision_micro: (test=0.884) recall_micro: (test=0.685) total time=   2.6s\n",
      "[CV 1/5] END n_estimators=300; accuracy: (test=0.640) precision_micro: (test=0.889) recall_micro: (test=0.640) total time=   4.1s\n",
      "[CV 2/5] END n_estimators=300; accuracy: (test=0.700) precision_micro: (test=0.886) recall_micro: (test=0.700) total time=   4.9s\n",
      "[CV 3/5] END n_estimators=300; accuracy: (test=0.695) precision_micro: (test=0.885) recall_micro: (test=0.695) total time=   4.1s\n",
      "[CV 4/5] END n_estimators=300; accuracy: (test=0.630) precision_micro: (test=0.846) recall_micro: (test=0.630) total time=   6.0s\n",
      "[CV 5/5] END n_estimators=300; accuracy: (test=0.670) precision_micro: (test=0.859) recall_micro: (test=0.670) total time=   4.5s\n",
      "[CV 1/5] END n_estimators=400; accuracy: (test=0.660) precision_micro: (test=0.892) recall_micro: (test=0.660) total time=  11.2s\n",
      "[CV 2/5] END n_estimators=400; accuracy: (test=0.695) precision_micro: (test=0.891) recall_micro: (test=0.695) total time=   6.8s\n",
      "[CV 3/5] END n_estimators=400; accuracy: (test=0.675) precision_micro: (test=0.918) recall_micro: (test=0.675) total time=   8.6s\n",
      "[CV 4/5] END n_estimators=400; accuracy: (test=0.595) precision_micro: (test=0.850) recall_micro: (test=0.595) total time=   9.3s\n",
      "[CV 5/5] END n_estimators=400; accuracy: (test=0.670) precision_micro: (test=0.876) recall_micro: (test=0.670) total time=   9.8s\n",
      "[CV 1/5] END n_estimators=500; accuracy: (test=0.650) precision_micro: (test=0.903) recall_micro: (test=0.650) total time=   7.7s\n",
      "[CV 2/5] END n_estimators=500; accuracy: (test=0.685) precision_micro: (test=0.884) recall_micro: (test=0.685) total time=   7.3s\n",
      "[CV 3/5] END n_estimators=500; accuracy: (test=0.695) precision_micro: (test=0.914) recall_micro: (test=0.695) total time=   7.6s\n",
      "[CV 4/5] END n_estimators=500; accuracy: (test=0.610) precision_micro: (test=0.847) recall_micro: (test=0.610) total time=   7.2s\n",
      "[CV 5/5] END n_estimators=500; accuracy: (test=0.670) precision_micro: (test=0.882) recall_micro: (test=0.670) total time=   7.7s\n"
     ]
    },
    {
     "data": {
      "text/html": [
       "<style>#sk-container-id-4 {color: black;}#sk-container-id-4 pre{padding: 0;}#sk-container-id-4 div.sk-toggleable {background-color: white;}#sk-container-id-4 label.sk-toggleable__label {cursor: pointer;display: block;width: 100%;margin-bottom: 0;padding: 0.3em;box-sizing: border-box;text-align: center;}#sk-container-id-4 label.sk-toggleable__label-arrow:before {content: \"▸\";float: left;margin-right: 0.25em;color: #696969;}#sk-container-id-4 label.sk-toggleable__label-arrow:hover:before {color: black;}#sk-container-id-4 div.sk-estimator:hover label.sk-toggleable__label-arrow:before {color: black;}#sk-container-id-4 div.sk-toggleable__content {max-height: 0;max-width: 0;overflow: hidden;text-align: left;background-color: #f0f8ff;}#sk-container-id-4 div.sk-toggleable__content pre {margin: 0.2em;color: black;border-radius: 0.25em;background-color: #f0f8ff;}#sk-container-id-4 input.sk-toggleable__control:checked~div.sk-toggleable__content {max-height: 200px;max-width: 100%;overflow: auto;}#sk-container-id-4 input.sk-toggleable__control:checked~label.sk-toggleable__label-arrow:before {content: \"▾\";}#sk-container-id-4 div.sk-estimator input.sk-toggleable__control:checked~label.sk-toggleable__label {background-color: #d4ebff;}#sk-container-id-4 div.sk-label input.sk-toggleable__control:checked~label.sk-toggleable__label {background-color: #d4ebff;}#sk-container-id-4 input.sk-hidden--visually {border: 0;clip: rect(1px 1px 1px 1px);clip: rect(1px, 1px, 1px, 1px);height: 1px;margin: -1px;overflow: hidden;padding: 0;position: absolute;width: 1px;}#sk-container-id-4 div.sk-estimator {font-family: monospace;background-color: #f0f8ff;border: 1px dotted black;border-radius: 0.25em;box-sizing: border-box;margin-bottom: 0.5em;}#sk-container-id-4 div.sk-estimator:hover {background-color: #d4ebff;}#sk-container-id-4 div.sk-parallel-item::after {content: \"\";width: 100%;border-bottom: 1px solid gray;flex-grow: 1;}#sk-container-id-4 div.sk-label:hover label.sk-toggleable__label {background-color: #d4ebff;}#sk-container-id-4 div.sk-serial::before {content: \"\";position: absolute;border-left: 1px solid gray;box-sizing: border-box;top: 0;bottom: 0;left: 50%;z-index: 0;}#sk-container-id-4 div.sk-serial {display: flex;flex-direction: column;align-items: center;background-color: white;padding-right: 0.2em;padding-left: 0.2em;position: relative;}#sk-container-id-4 div.sk-item {position: relative;z-index: 1;}#sk-container-id-4 div.sk-parallel {display: flex;align-items: stretch;justify-content: center;background-color: white;position: relative;}#sk-container-id-4 div.sk-item::before, #sk-container-id-4 div.sk-parallel-item::before {content: \"\";position: absolute;border-left: 1px solid gray;box-sizing: border-box;top: 0;bottom: 0;left: 50%;z-index: -1;}#sk-container-id-4 div.sk-parallel-item {display: flex;flex-direction: column;z-index: 1;position: relative;background-color: white;}#sk-container-id-4 div.sk-parallel-item:first-child::after {align-self: flex-end;width: 50%;}#sk-container-id-4 div.sk-parallel-item:last-child::after {align-self: flex-start;width: 50%;}#sk-container-id-4 div.sk-parallel-item:only-child::after {width: 0;}#sk-container-id-4 div.sk-dashed-wrapped {border: 1px dashed gray;margin: 0 0.4em 0.5em 0.4em;box-sizing: border-box;padding-bottom: 0.4em;background-color: white;}#sk-container-id-4 div.sk-label label {font-family: monospace;font-weight: bold;display: inline-block;line-height: 1.2em;}#sk-container-id-4 div.sk-label-container {text-align: center;}#sk-container-id-4 div.sk-container {/* jupyter's `normalize.less` sets `[hidden] { display: none; }` but bootstrap.min.css set `[hidden] { display: none !important; }` so we also need the `!important` here to be able to override the default hidden behavior on the sphinx rendered scikit-learn.org. See: https://github.com/scikit-learn/scikit-learn/issues/21755 */display: inline-block !important;position: relative;}#sk-container-id-4 div.sk-text-repr-fallback {display: none;}</style><div id=\"sk-container-id-4\" class=\"sk-top-container\"><div class=\"sk-text-repr-fallback\"><pre>GridSearchCV(cv=5, estimator=RandomForestClassifier(),\n",
       "             param_grid={&#x27;n_estimators&#x27;: range(100, 600, 100)},\n",
       "             refit=&#x27;accuracy&#x27;,\n",
       "             scoring={&#x27;accuracy&#x27;: &#x27;accuracy&#x27;,\n",
       "                      &#x27;precision_micro&#x27;: &#x27;precision_micro&#x27;,\n",
       "                      &#x27;recall_micro&#x27;: &#x27;recall_micro&#x27;},\n",
       "             verbose=3)</pre><b>In a Jupyter environment, please rerun this cell to show the HTML representation or trust the notebook. <br />On GitHub, the HTML representation is unable to render, please try loading this page with nbviewer.org.</b></div><div class=\"sk-container\" hidden><div class=\"sk-item sk-dashed-wrapped\"><div class=\"sk-label-container\"><div class=\"sk-label sk-toggleable\"><input class=\"sk-toggleable__control sk-hidden--visually\" id=\"sk-estimator-id-8\" type=\"checkbox\" ><label for=\"sk-estimator-id-8\" class=\"sk-toggleable__label sk-toggleable__label-arrow\">GridSearchCV</label><div class=\"sk-toggleable__content\"><pre>GridSearchCV(cv=5, estimator=RandomForestClassifier(),\n",
       "             param_grid={&#x27;n_estimators&#x27;: range(100, 600, 100)},\n",
       "             refit=&#x27;accuracy&#x27;,\n",
       "             scoring={&#x27;accuracy&#x27;: &#x27;accuracy&#x27;,\n",
       "                      &#x27;precision_micro&#x27;: &#x27;precision_micro&#x27;,\n",
       "                      &#x27;recall_micro&#x27;: &#x27;recall_micro&#x27;},\n",
       "             verbose=3)</pre></div></div></div><div class=\"sk-parallel\"><div class=\"sk-parallel-item\"><div class=\"sk-item\"><div class=\"sk-label-container\"><div class=\"sk-label sk-toggleable\"><input class=\"sk-toggleable__control sk-hidden--visually\" id=\"sk-estimator-id-9\" type=\"checkbox\" ><label for=\"sk-estimator-id-9\" class=\"sk-toggleable__label sk-toggleable__label-arrow\">estimator: RandomForestClassifier</label><div class=\"sk-toggleable__content\"><pre>RandomForestClassifier()</pre></div></div></div><div class=\"sk-serial\"><div class=\"sk-item\"><div class=\"sk-estimator sk-toggleable\"><input class=\"sk-toggleable__control sk-hidden--visually\" id=\"sk-estimator-id-10\" type=\"checkbox\" ><label for=\"sk-estimator-id-10\" class=\"sk-toggleable__label sk-toggleable__label-arrow\">RandomForestClassifier</label><div class=\"sk-toggleable__content\"><pre>RandomForestClassifier()</pre></div></div></div></div></div></div></div></div></div></div>"
      ],
      "text/plain": [
       "GridSearchCV(cv=5, estimator=RandomForestClassifier(),\n",
       "             param_grid={'n_estimators': range(100, 600, 100)},\n",
       "             refit='accuracy',\n",
       "             scoring={'accuracy': 'accuracy',\n",
       "                      'precision_micro': 'precision_micro',\n",
       "                      'recall_micro': 'recall_micro'},\n",
       "             verbose=3)"
      ]
     },
     "execution_count": 33,
     "metadata": {},
     "output_type": "execute_result"
    },
    {
     "name": "stdout",
     "output_type": "stream",
     "text": [
      "Best parameter for random forest     (CV score=0.672):       {'n_estimators': 200} (RandomForestClassifier(n_estimators=200))\n"
     ]
    }
   ],
   "source": [
    "# grid search for random forests\n",
    "parameters_random_forest = {\n",
    "    \"n_estimators\": range(100, 600, 100),\n",
    "}\n",
    "\n",
    "# apply grid search\n",
    "gs_random_forest = GridSearchCV(\n",
    "    RandomForestClassifier(),\n",
    "    parameters_random_forest,\n",
    "    cv=5,\n",
    "    scoring=scoring,\n",
    "    refit=\"accuracy\",\n",
    "    verbose=3,\n",
    ")\n",
    "gs_random_forest.fit(X, y)\n",
    "\n",
    "# best results\n",
    "print(\n",
    "    f\"Best parameter for random forest \\\n",
    "    (CV score={gs_random_forest.best_score_:0.3f}): \\\n",
    "      {gs_random_forest.best_params_} ({gs_random_forest.best_estimator_})\"\n",
    ")"
   ]
  },
  {
   "cell_type": "code",
   "execution_count": 34,
   "id": "6a8c9e3a-89cb-425a-8f1f-eb46aba8ed06",
   "metadata": {},
   "outputs": [
    {
     "name": "stdout",
     "output_type": "stream",
     "text": [
      "Fitting 5 folds for each of 5 candidates, totalling 25 fits\n",
      "[CV 1/5] END n_estimators=100; accuracy: (test=0.640) precision_micro: (test=0.877) recall_micro: (test=0.640) total time=   0.7s\n",
      "[CV 2/5] END n_estimators=100; accuracy: (test=0.685) precision_micro: (test=0.895) recall_micro: (test=0.685) total time=   0.6s\n",
      "[CV 3/5] END n_estimators=100; accuracy: (test=0.685) precision_micro: (test=0.932) recall_micro: (test=0.685) total time=   0.6s\n",
      "[CV 4/5] END n_estimators=100; accuracy: (test=0.605) precision_micro: (test=0.852) recall_micro: (test=0.605) total time=   0.6s\n",
      "[CV 5/5] END n_estimators=100; accuracy: (test=0.675) precision_micro: (test=0.900) recall_micro: (test=0.675) total time=   0.7s\n",
      "[CV 1/5] END n_estimators=200; accuracy: (test=0.665) precision_micro: (test=0.905) recall_micro: (test=0.665) total time=   1.2s\n",
      "[CV 2/5] END n_estimators=200; accuracy: (test=0.690) precision_micro: (test=0.920) recall_micro: (test=0.690) total time=   1.3s\n",
      "[CV 3/5] END n_estimators=200; accuracy: (test=0.690) precision_micro: (test=0.920) recall_micro: (test=0.690) total time=   1.3s\n",
      "[CV 4/5] END n_estimators=200; accuracy: (test=0.600) precision_micro: (test=0.845) recall_micro: (test=0.600) total time=   1.4s\n",
      "[CV 5/5] END n_estimators=200; accuracy: (test=0.685) precision_micro: (test=0.895) recall_micro: (test=0.685) total time=   1.3s\n",
      "[CV 1/5] END n_estimators=300; accuracy: (test=0.645) precision_micro: (test=0.890) recall_micro: (test=0.645) total time=   1.8s\n",
      "[CV 2/5] END n_estimators=300; accuracy: (test=0.725) precision_micro: (test=0.929) recall_micro: (test=0.725) total time=   1.9s\n",
      "[CV 3/5] END n_estimators=300; accuracy: (test=0.675) precision_micro: (test=0.925) recall_micro: (test=0.675) total time=   2.0s\n",
      "[CV 4/5] END n_estimators=300; accuracy: (test=0.610) precision_micro: (test=0.853) recall_micro: (test=0.610) total time=   1.8s\n",
      "[CV 5/5] END n_estimators=300; accuracy: (test=0.700) precision_micro: (test=0.897) recall_micro: (test=0.700) total time=   1.9s\n",
      "[CV 1/5] END n_estimators=400; accuracy: (test=0.645) precision_micro: (test=0.902) recall_micro: (test=0.645) total time=   2.4s\n",
      "[CV 2/5] END n_estimators=400; accuracy: (test=0.695) precision_micro: (test=0.903) recall_micro: (test=0.695) total time=   2.9s\n",
      "[CV 3/5] END n_estimators=400; accuracy: (test=0.690) precision_micro: (test=0.920) recall_micro: (test=0.690) total time=   2.7s\n",
      "[CV 4/5] END n_estimators=400; accuracy: (test=0.605) precision_micro: (test=0.852) recall_micro: (test=0.605) total time=   2.6s\n",
      "[CV 5/5] END n_estimators=400; accuracy: (test=0.690) precision_micro: (test=0.890) recall_micro: (test=0.690) total time=   2.3s\n",
      "[CV 1/5] END n_estimators=500; accuracy: (test=0.655) precision_micro: (test=0.885) recall_micro: (test=0.655) total time=   3.1s\n",
      "[CV 2/5] END n_estimators=500; accuracy: (test=0.715) precision_micro: (test=0.905) recall_micro: (test=0.715) total time=   3.1s\n",
      "[CV 3/5] END n_estimators=500; accuracy: (test=0.690) precision_micro: (test=0.926) recall_micro: (test=0.690) total time=   2.8s\n",
      "[CV 4/5] END n_estimators=500; accuracy: (test=0.595) precision_micro: (test=0.856) recall_micro: (test=0.595) total time=   2.7s\n",
      "[CV 5/5] END n_estimators=500; accuracy: (test=0.680) precision_micro: (test=0.889) recall_micro: (test=0.680) total time=   3.2s\n"
     ]
    },
    {
     "data": {
      "text/html": [
       "<style>#sk-container-id-5 {color: black;}#sk-container-id-5 pre{padding: 0;}#sk-container-id-5 div.sk-toggleable {background-color: white;}#sk-container-id-5 label.sk-toggleable__label {cursor: pointer;display: block;width: 100%;margin-bottom: 0;padding: 0.3em;box-sizing: border-box;text-align: center;}#sk-container-id-5 label.sk-toggleable__label-arrow:before {content: \"▸\";float: left;margin-right: 0.25em;color: #696969;}#sk-container-id-5 label.sk-toggleable__label-arrow:hover:before {color: black;}#sk-container-id-5 div.sk-estimator:hover label.sk-toggleable__label-arrow:before {color: black;}#sk-container-id-5 div.sk-toggleable__content {max-height: 0;max-width: 0;overflow: hidden;text-align: left;background-color: #f0f8ff;}#sk-container-id-5 div.sk-toggleable__content pre {margin: 0.2em;color: black;border-radius: 0.25em;background-color: #f0f8ff;}#sk-container-id-5 input.sk-toggleable__control:checked~div.sk-toggleable__content {max-height: 200px;max-width: 100%;overflow: auto;}#sk-container-id-5 input.sk-toggleable__control:checked~label.sk-toggleable__label-arrow:before {content: \"▾\";}#sk-container-id-5 div.sk-estimator input.sk-toggleable__control:checked~label.sk-toggleable__label {background-color: #d4ebff;}#sk-container-id-5 div.sk-label input.sk-toggleable__control:checked~label.sk-toggleable__label {background-color: #d4ebff;}#sk-container-id-5 input.sk-hidden--visually {border: 0;clip: rect(1px 1px 1px 1px);clip: rect(1px, 1px, 1px, 1px);height: 1px;margin: -1px;overflow: hidden;padding: 0;position: absolute;width: 1px;}#sk-container-id-5 div.sk-estimator {font-family: monospace;background-color: #f0f8ff;border: 1px dotted black;border-radius: 0.25em;box-sizing: border-box;margin-bottom: 0.5em;}#sk-container-id-5 div.sk-estimator:hover {background-color: #d4ebff;}#sk-container-id-5 div.sk-parallel-item::after {content: \"\";width: 100%;border-bottom: 1px solid gray;flex-grow: 1;}#sk-container-id-5 div.sk-label:hover label.sk-toggleable__label {background-color: #d4ebff;}#sk-container-id-5 div.sk-serial::before {content: \"\";position: absolute;border-left: 1px solid gray;box-sizing: border-box;top: 0;bottom: 0;left: 50%;z-index: 0;}#sk-container-id-5 div.sk-serial {display: flex;flex-direction: column;align-items: center;background-color: white;padding-right: 0.2em;padding-left: 0.2em;position: relative;}#sk-container-id-5 div.sk-item {position: relative;z-index: 1;}#sk-container-id-5 div.sk-parallel {display: flex;align-items: stretch;justify-content: center;background-color: white;position: relative;}#sk-container-id-5 div.sk-item::before, #sk-container-id-5 div.sk-parallel-item::before {content: \"\";position: absolute;border-left: 1px solid gray;box-sizing: border-box;top: 0;bottom: 0;left: 50%;z-index: -1;}#sk-container-id-5 div.sk-parallel-item {display: flex;flex-direction: column;z-index: 1;position: relative;background-color: white;}#sk-container-id-5 div.sk-parallel-item:first-child::after {align-self: flex-end;width: 50%;}#sk-container-id-5 div.sk-parallel-item:last-child::after {align-self: flex-start;width: 50%;}#sk-container-id-5 div.sk-parallel-item:only-child::after {width: 0;}#sk-container-id-5 div.sk-dashed-wrapped {border: 1px dashed gray;margin: 0 0.4em 0.5em 0.4em;box-sizing: border-box;padding-bottom: 0.4em;background-color: white;}#sk-container-id-5 div.sk-label label {font-family: monospace;font-weight: bold;display: inline-block;line-height: 1.2em;}#sk-container-id-5 div.sk-label-container {text-align: center;}#sk-container-id-5 div.sk-container {/* jupyter's `normalize.less` sets `[hidden] { display: none; }` but bootstrap.min.css set `[hidden] { display: none !important; }` so we also need the `!important` here to be able to override the default hidden behavior on the sphinx rendered scikit-learn.org. See: https://github.com/scikit-learn/scikit-learn/issues/21755 */display: inline-block !important;position: relative;}#sk-container-id-5 div.sk-text-repr-fallback {display: none;}</style><div id=\"sk-container-id-5\" class=\"sk-top-container\"><div class=\"sk-text-repr-fallback\"><pre>GridSearchCV(cv=5, estimator=ExtraTreesClassifier(),\n",
       "             param_grid={&#x27;n_estimators&#x27;: range(100, 600, 100)},\n",
       "             refit=&#x27;accuracy&#x27;,\n",
       "             scoring={&#x27;accuracy&#x27;: &#x27;accuracy&#x27;,\n",
       "                      &#x27;precision_micro&#x27;: &#x27;precision_micro&#x27;,\n",
       "                      &#x27;recall_micro&#x27;: &#x27;recall_micro&#x27;},\n",
       "             verbose=3)</pre><b>In a Jupyter environment, please rerun this cell to show the HTML representation or trust the notebook. <br />On GitHub, the HTML representation is unable to render, please try loading this page with nbviewer.org.</b></div><div class=\"sk-container\" hidden><div class=\"sk-item sk-dashed-wrapped\"><div class=\"sk-label-container\"><div class=\"sk-label sk-toggleable\"><input class=\"sk-toggleable__control sk-hidden--visually\" id=\"sk-estimator-id-11\" type=\"checkbox\" ><label for=\"sk-estimator-id-11\" class=\"sk-toggleable__label sk-toggleable__label-arrow\">GridSearchCV</label><div class=\"sk-toggleable__content\"><pre>GridSearchCV(cv=5, estimator=ExtraTreesClassifier(),\n",
       "             param_grid={&#x27;n_estimators&#x27;: range(100, 600, 100)},\n",
       "             refit=&#x27;accuracy&#x27;,\n",
       "             scoring={&#x27;accuracy&#x27;: &#x27;accuracy&#x27;,\n",
       "                      &#x27;precision_micro&#x27;: &#x27;precision_micro&#x27;,\n",
       "                      &#x27;recall_micro&#x27;: &#x27;recall_micro&#x27;},\n",
       "             verbose=3)</pre></div></div></div><div class=\"sk-parallel\"><div class=\"sk-parallel-item\"><div class=\"sk-item\"><div class=\"sk-label-container\"><div class=\"sk-label sk-toggleable\"><input class=\"sk-toggleable__control sk-hidden--visually\" id=\"sk-estimator-id-12\" type=\"checkbox\" ><label for=\"sk-estimator-id-12\" class=\"sk-toggleable__label sk-toggleable__label-arrow\">estimator: ExtraTreesClassifier</label><div class=\"sk-toggleable__content\"><pre>ExtraTreesClassifier()</pre></div></div></div><div class=\"sk-serial\"><div class=\"sk-item\"><div class=\"sk-estimator sk-toggleable\"><input class=\"sk-toggleable__control sk-hidden--visually\" id=\"sk-estimator-id-13\" type=\"checkbox\" ><label for=\"sk-estimator-id-13\" class=\"sk-toggleable__label sk-toggleable__label-arrow\">ExtraTreesClassifier</label><div class=\"sk-toggleable__content\"><pre>ExtraTreesClassifier()</pre></div></div></div></div></div></div></div></div></div></div>"
      ],
      "text/plain": [
       "GridSearchCV(cv=5, estimator=ExtraTreesClassifier(),\n",
       "             param_grid={'n_estimators': range(100, 600, 100)},\n",
       "             refit='accuracy',\n",
       "             scoring={'accuracy': 'accuracy',\n",
       "                      'precision_micro': 'precision_micro',\n",
       "                      'recall_micro': 'recall_micro'},\n",
       "             verbose=3)"
      ]
     },
     "execution_count": 34,
     "metadata": {},
     "output_type": "execute_result"
    },
    {
     "name": "stdout",
     "output_type": "stream",
     "text": [
      "Best parameter for extra trees     (CV score=0.671):       {'n_estimators': 300} (ExtraTreesClassifier(n_estimators=300))\n"
     ]
    }
   ],
   "source": [
    "# grid search for extra trees\n",
    "parameters_extra_trees = {\n",
    "    \"n_estimators\": range(100, 600, 100),\n",
    "}\n",
    "\n",
    "# apply grid search\n",
    "gs_extra_trees = GridSearchCV(\n",
    "    ExtraTreesClassifier(),\n",
    "    parameters_extra_trees,\n",
    "    cv=5,\n",
    "    scoring=scoring,\n",
    "    refit=\"accuracy\",\n",
    "    verbose=3,\n",
    ")\n",
    "gs_extra_trees.fit(X, y)\n",
    "\n",
    "# best results\n",
    "print(\n",
    "    f\"Best parameter for extra trees \\\n",
    "    (CV score={gs_extra_trees.best_score_:0.3f}): \\\n",
    "      {gs_extra_trees.best_params_} ({gs_extra_trees.best_estimator_})\"\n",
    ")"
   ]
  },
  {
   "cell_type": "code",
   "execution_count": 35,
   "id": "cc74b630-cea7-4d90-b13d-d6dc759feda7",
   "metadata": {},
   "outputs": [
    {
     "name": "stdout",
     "output_type": "stream",
     "text": [
      "Fitting 5 folds for each of 1 candidates, totalling 5 fits\n"
     ]
    },
    {
     "name": "stderr",
     "output_type": "stream",
     "text": [
      "/home/eva/.local/share/virtualenvs/data-engineering-analytics-notebooks-Qx0adyYX/lib/python3.10/site-packages/xgboost/data.py:335: FutureWarning: is_sparse is deprecated and will be removed in a future version. Check `isinstance(dtype, pd.SparseDtype)` instead.\n",
      "  if is_sparse(dtype):\n",
      "/home/eva/.local/share/virtualenvs/data-engineering-analytics-notebooks-Qx0adyYX/lib/python3.10/site-packages/xgboost/data.py:338: FutureWarning: is_categorical_dtype is deprecated and will be removed in a future version. Use isinstance(dtype, CategoricalDtype) instead\n",
      "  is_categorical_dtype(dtype) or is_pa_ext_categorical_dtype(dtype)\n",
      "/home/eva/.local/share/virtualenvs/data-engineering-analytics-notebooks-Qx0adyYX/lib/python3.10/site-packages/xgboost/data.py:384: FutureWarning: is_categorical_dtype is deprecated and will be removed in a future version. Use isinstance(dtype, CategoricalDtype) instead\n",
      "  if is_categorical_dtype(dtype):\n",
      "/home/eva/.local/share/virtualenvs/data-engineering-analytics-notebooks-Qx0adyYX/lib/python3.10/site-packages/xgboost/data.py:359: FutureWarning: is_categorical_dtype is deprecated and will be removed in a future version. Use isinstance(dtype, CategoricalDtype) instead\n",
      "  return is_int or is_bool or is_float or is_categorical_dtype(dtype)\n",
      "/home/eva/.local/share/virtualenvs/data-engineering-analytics-notebooks-Qx0adyYX/lib/python3.10/site-packages/xgboost/data.py:520: FutureWarning: is_sparse is deprecated and will be removed in a future version. Check `isinstance(dtype, pd.SparseDtype)` instead.\n",
      "  if is_sparse(data):\n",
      "/home/eva/.local/share/virtualenvs/data-engineering-analytics-notebooks-Qx0adyYX/lib/python3.10/site-packages/xgboost/data.py:335: FutureWarning: is_sparse is deprecated and will be removed in a future version. Check `isinstance(dtype, pd.SparseDtype)` instead.\n",
      "  if is_sparse(dtype):\n",
      "/home/eva/.local/share/virtualenvs/data-engineering-analytics-notebooks-Qx0adyYX/lib/python3.10/site-packages/xgboost/data.py:338: FutureWarning: is_categorical_dtype is deprecated and will be removed in a future version. Use isinstance(dtype, CategoricalDtype) instead\n",
      "  is_categorical_dtype(dtype) or is_pa_ext_categorical_dtype(dtype)\n",
      "/home/eva/.local/share/virtualenvs/data-engineering-analytics-notebooks-Qx0adyYX/lib/python3.10/site-packages/xgboost/data.py:384: FutureWarning: is_categorical_dtype is deprecated and will be removed in a future version. Use isinstance(dtype, CategoricalDtype) instead\n",
      "  if is_categorical_dtype(dtype):\n",
      "/home/eva/.local/share/virtualenvs/data-engineering-analytics-notebooks-Qx0adyYX/lib/python3.10/site-packages/xgboost/data.py:359: FutureWarning: is_categorical_dtype is deprecated and will be removed in a future version. Use isinstance(dtype, CategoricalDtype) instead\n",
      "  return is_int or is_bool or is_float or is_categorical_dtype(dtype)\n",
      "/home/eva/.local/share/virtualenvs/data-engineering-analytics-notebooks-Qx0adyYX/lib/python3.10/site-packages/xgboost/data.py:335: FutureWarning: is_sparse is deprecated and will be removed in a future version. Check `isinstance(dtype, pd.SparseDtype)` instead.\n",
      "  if is_sparse(dtype):\n",
      "/home/eva/.local/share/virtualenvs/data-engineering-analytics-notebooks-Qx0adyYX/lib/python3.10/site-packages/xgboost/data.py:338: FutureWarning: is_categorical_dtype is deprecated and will be removed in a future version. Use isinstance(dtype, CategoricalDtype) instead\n",
      "  is_categorical_dtype(dtype) or is_pa_ext_categorical_dtype(dtype)\n",
      "/home/eva/.local/share/virtualenvs/data-engineering-analytics-notebooks-Qx0adyYX/lib/python3.10/site-packages/xgboost/data.py:384: FutureWarning: is_categorical_dtype is deprecated and will be removed in a future version. Use isinstance(dtype, CategoricalDtype) instead\n",
      "  if is_categorical_dtype(dtype):\n",
      "/home/eva/.local/share/virtualenvs/data-engineering-analytics-notebooks-Qx0adyYX/lib/python3.10/site-packages/xgboost/data.py:359: FutureWarning: is_categorical_dtype is deprecated and will be removed in a future version. Use isinstance(dtype, CategoricalDtype) instead\n",
      "  return is_int or is_bool or is_float or is_categorical_dtype(dtype)\n",
      "/home/eva/.local/share/virtualenvs/data-engineering-analytics-notebooks-Qx0adyYX/lib/python3.10/site-packages/xgboost/data.py:520: FutureWarning: is_sparse is deprecated and will be removed in a future version. Check `isinstance(dtype, pd.SparseDtype)` instead.\n",
      "  if is_sparse(data):\n"
     ]
    },
    {
     "name": "stdout",
     "output_type": "stream",
     "text": [
      "[CV 1/5] END n_estimators=100; accuracy: (test=0.780) precision_micro: (test=0.780) recall_micro: (test=0.780) total time=  12.6s\n"
     ]
    },
    {
     "name": "stderr",
     "output_type": "stream",
     "text": [
      "/home/eva/.local/share/virtualenvs/data-engineering-analytics-notebooks-Qx0adyYX/lib/python3.10/site-packages/xgboost/data.py:335: FutureWarning: is_sparse is deprecated and will be removed in a future version. Check `isinstance(dtype, pd.SparseDtype)` instead.\n",
      "  if is_sparse(dtype):\n",
      "/home/eva/.local/share/virtualenvs/data-engineering-analytics-notebooks-Qx0adyYX/lib/python3.10/site-packages/xgboost/data.py:338: FutureWarning: is_categorical_dtype is deprecated and will be removed in a future version. Use isinstance(dtype, CategoricalDtype) instead\n",
      "  is_categorical_dtype(dtype) or is_pa_ext_categorical_dtype(dtype)\n",
      "/home/eva/.local/share/virtualenvs/data-engineering-analytics-notebooks-Qx0adyYX/lib/python3.10/site-packages/xgboost/data.py:384: FutureWarning: is_categorical_dtype is deprecated and will be removed in a future version. Use isinstance(dtype, CategoricalDtype) instead\n",
      "  if is_categorical_dtype(dtype):\n",
      "/home/eva/.local/share/virtualenvs/data-engineering-analytics-notebooks-Qx0adyYX/lib/python3.10/site-packages/xgboost/data.py:359: FutureWarning: is_categorical_dtype is deprecated and will be removed in a future version. Use isinstance(dtype, CategoricalDtype) instead\n",
      "  return is_int or is_bool or is_float or is_categorical_dtype(dtype)\n",
      "/home/eva/.local/share/virtualenvs/data-engineering-analytics-notebooks-Qx0adyYX/lib/python3.10/site-packages/xgboost/data.py:335: FutureWarning: is_sparse is deprecated and will be removed in a future version. Check `isinstance(dtype, pd.SparseDtype)` instead.\n",
      "  if is_sparse(dtype):\n",
      "/home/eva/.local/share/virtualenvs/data-engineering-analytics-notebooks-Qx0adyYX/lib/python3.10/site-packages/xgboost/data.py:338: FutureWarning: is_categorical_dtype is deprecated and will be removed in a future version. Use isinstance(dtype, CategoricalDtype) instead\n",
      "  is_categorical_dtype(dtype) or is_pa_ext_categorical_dtype(dtype)\n",
      "/home/eva/.local/share/virtualenvs/data-engineering-analytics-notebooks-Qx0adyYX/lib/python3.10/site-packages/xgboost/data.py:384: FutureWarning: is_categorical_dtype is deprecated and will be removed in a future version. Use isinstance(dtype, CategoricalDtype) instead\n",
      "  if is_categorical_dtype(dtype):\n",
      "/home/eva/.local/share/virtualenvs/data-engineering-analytics-notebooks-Qx0adyYX/lib/python3.10/site-packages/xgboost/data.py:359: FutureWarning: is_categorical_dtype is deprecated and will be removed in a future version. Use isinstance(dtype, CategoricalDtype) instead\n",
      "  return is_int or is_bool or is_float or is_categorical_dtype(dtype)\n",
      "/home/eva/.local/share/virtualenvs/data-engineering-analytics-notebooks-Qx0adyYX/lib/python3.10/site-packages/xgboost/data.py:520: FutureWarning: is_sparse is deprecated and will be removed in a future version. Check `isinstance(dtype, pd.SparseDtype)` instead.\n",
      "  if is_sparse(data):\n"
     ]
    },
    {
     "name": "stdout",
     "output_type": "stream",
     "text": [
      "[CV 2/5] END n_estimators=100; accuracy: (test=0.805) precision_micro: (test=0.805) recall_micro: (test=0.805) total time=  12.2s\n"
     ]
    },
    {
     "name": "stderr",
     "output_type": "stream",
     "text": [
      "/home/eva/.local/share/virtualenvs/data-engineering-analytics-notebooks-Qx0adyYX/lib/python3.10/site-packages/xgboost/data.py:335: FutureWarning: is_sparse is deprecated and will be removed in a future version. Check `isinstance(dtype, pd.SparseDtype)` instead.\n",
      "  if is_sparse(dtype):\n",
      "/home/eva/.local/share/virtualenvs/data-engineering-analytics-notebooks-Qx0adyYX/lib/python3.10/site-packages/xgboost/data.py:338: FutureWarning: is_categorical_dtype is deprecated and will be removed in a future version. Use isinstance(dtype, CategoricalDtype) instead\n",
      "  is_categorical_dtype(dtype) or is_pa_ext_categorical_dtype(dtype)\n",
      "/home/eva/.local/share/virtualenvs/data-engineering-analytics-notebooks-Qx0adyYX/lib/python3.10/site-packages/xgboost/data.py:384: FutureWarning: is_categorical_dtype is deprecated and will be removed in a future version. Use isinstance(dtype, CategoricalDtype) instead\n",
      "  if is_categorical_dtype(dtype):\n",
      "/home/eva/.local/share/virtualenvs/data-engineering-analytics-notebooks-Qx0adyYX/lib/python3.10/site-packages/xgboost/data.py:359: FutureWarning: is_categorical_dtype is deprecated and will be removed in a future version. Use isinstance(dtype, CategoricalDtype) instead\n",
      "  return is_int or is_bool or is_float or is_categorical_dtype(dtype)\n",
      "/home/eva/.local/share/virtualenvs/data-engineering-analytics-notebooks-Qx0adyYX/lib/python3.10/site-packages/xgboost/data.py:335: FutureWarning: is_sparse is deprecated and will be removed in a future version. Check `isinstance(dtype, pd.SparseDtype)` instead.\n",
      "  if is_sparse(dtype):\n",
      "/home/eva/.local/share/virtualenvs/data-engineering-analytics-notebooks-Qx0adyYX/lib/python3.10/site-packages/xgboost/data.py:338: FutureWarning: is_categorical_dtype is deprecated and will be removed in a future version. Use isinstance(dtype, CategoricalDtype) instead\n",
      "  is_categorical_dtype(dtype) or is_pa_ext_categorical_dtype(dtype)\n",
      "/home/eva/.local/share/virtualenvs/data-engineering-analytics-notebooks-Qx0adyYX/lib/python3.10/site-packages/xgboost/data.py:384: FutureWarning: is_categorical_dtype is deprecated and will be removed in a future version. Use isinstance(dtype, CategoricalDtype) instead\n",
      "  if is_categorical_dtype(dtype):\n",
      "/home/eva/.local/share/virtualenvs/data-engineering-analytics-notebooks-Qx0adyYX/lib/python3.10/site-packages/xgboost/data.py:359: FutureWarning: is_categorical_dtype is deprecated and will be removed in a future version. Use isinstance(dtype, CategoricalDtype) instead\n",
      "  return is_int or is_bool or is_float or is_categorical_dtype(dtype)\n",
      "/home/eva/.local/share/virtualenvs/data-engineering-analytics-notebooks-Qx0adyYX/lib/python3.10/site-packages/xgboost/data.py:520: FutureWarning: is_sparse is deprecated and will be removed in a future version. Check `isinstance(dtype, pd.SparseDtype)` instead.\n",
      "  if is_sparse(data):\n"
     ]
    },
    {
     "name": "stdout",
     "output_type": "stream",
     "text": [
      "[CV 3/5] END n_estimators=100; accuracy: (test=0.805) precision_micro: (test=0.805) recall_micro: (test=0.805) total time=  17.1s\n"
     ]
    },
    {
     "name": "stderr",
     "output_type": "stream",
     "text": [
      "/home/eva/.local/share/virtualenvs/data-engineering-analytics-notebooks-Qx0adyYX/lib/python3.10/site-packages/xgboost/data.py:335: FutureWarning: is_sparse is deprecated and will be removed in a future version. Check `isinstance(dtype, pd.SparseDtype)` instead.\n",
      "  if is_sparse(dtype):\n",
      "/home/eva/.local/share/virtualenvs/data-engineering-analytics-notebooks-Qx0adyYX/lib/python3.10/site-packages/xgboost/data.py:338: FutureWarning: is_categorical_dtype is deprecated and will be removed in a future version. Use isinstance(dtype, CategoricalDtype) instead\n",
      "  is_categorical_dtype(dtype) or is_pa_ext_categorical_dtype(dtype)\n",
      "/home/eva/.local/share/virtualenvs/data-engineering-analytics-notebooks-Qx0adyYX/lib/python3.10/site-packages/xgboost/data.py:384: FutureWarning: is_categorical_dtype is deprecated and will be removed in a future version. Use isinstance(dtype, CategoricalDtype) instead\n",
      "  if is_categorical_dtype(dtype):\n",
      "/home/eva/.local/share/virtualenvs/data-engineering-analytics-notebooks-Qx0adyYX/lib/python3.10/site-packages/xgboost/data.py:359: FutureWarning: is_categorical_dtype is deprecated and will be removed in a future version. Use isinstance(dtype, CategoricalDtype) instead\n",
      "  return is_int or is_bool or is_float or is_categorical_dtype(dtype)\n",
      "/home/eva/.local/share/virtualenvs/data-engineering-analytics-notebooks-Qx0adyYX/lib/python3.10/site-packages/xgboost/data.py:335: FutureWarning: is_sparse is deprecated and will be removed in a future version. Check `isinstance(dtype, pd.SparseDtype)` instead.\n",
      "  if is_sparse(dtype):\n",
      "/home/eva/.local/share/virtualenvs/data-engineering-analytics-notebooks-Qx0adyYX/lib/python3.10/site-packages/xgboost/data.py:338: FutureWarning: is_categorical_dtype is deprecated and will be removed in a future version. Use isinstance(dtype, CategoricalDtype) instead\n",
      "  is_categorical_dtype(dtype) or is_pa_ext_categorical_dtype(dtype)\n",
      "/home/eva/.local/share/virtualenvs/data-engineering-analytics-notebooks-Qx0adyYX/lib/python3.10/site-packages/xgboost/data.py:384: FutureWarning: is_categorical_dtype is deprecated and will be removed in a future version. Use isinstance(dtype, CategoricalDtype) instead\n",
      "  if is_categorical_dtype(dtype):\n",
      "/home/eva/.local/share/virtualenvs/data-engineering-analytics-notebooks-Qx0adyYX/lib/python3.10/site-packages/xgboost/data.py:359: FutureWarning: is_categorical_dtype is deprecated and will be removed in a future version. Use isinstance(dtype, CategoricalDtype) instead\n",
      "  return is_int or is_bool or is_float or is_categorical_dtype(dtype)\n",
      "/home/eva/.local/share/virtualenvs/data-engineering-analytics-notebooks-Qx0adyYX/lib/python3.10/site-packages/xgboost/data.py:520: FutureWarning: is_sparse is deprecated and will be removed in a future version. Check `isinstance(dtype, pd.SparseDtype)` instead.\n",
      "  if is_sparse(data):\n"
     ]
    },
    {
     "name": "stdout",
     "output_type": "stream",
     "text": [
      "[CV 4/5] END n_estimators=100; accuracy: (test=0.730) precision_micro: (test=0.730) recall_micro: (test=0.730) total time=  19.0s\n"
     ]
    },
    {
     "name": "stderr",
     "output_type": "stream",
     "text": [
      "/home/eva/.local/share/virtualenvs/data-engineering-analytics-notebooks-Qx0adyYX/lib/python3.10/site-packages/xgboost/data.py:335: FutureWarning: is_sparse is deprecated and will be removed in a future version. Check `isinstance(dtype, pd.SparseDtype)` instead.\n",
      "  if is_sparse(dtype):\n",
      "/home/eva/.local/share/virtualenvs/data-engineering-analytics-notebooks-Qx0adyYX/lib/python3.10/site-packages/xgboost/data.py:338: FutureWarning: is_categorical_dtype is deprecated and will be removed in a future version. Use isinstance(dtype, CategoricalDtype) instead\n",
      "  is_categorical_dtype(dtype) or is_pa_ext_categorical_dtype(dtype)\n",
      "/home/eva/.local/share/virtualenvs/data-engineering-analytics-notebooks-Qx0adyYX/lib/python3.10/site-packages/xgboost/data.py:384: FutureWarning: is_categorical_dtype is deprecated and will be removed in a future version. Use isinstance(dtype, CategoricalDtype) instead\n",
      "  if is_categorical_dtype(dtype):\n",
      "/home/eva/.local/share/virtualenvs/data-engineering-analytics-notebooks-Qx0adyYX/lib/python3.10/site-packages/xgboost/data.py:359: FutureWarning: is_categorical_dtype is deprecated and will be removed in a future version. Use isinstance(dtype, CategoricalDtype) instead\n",
      "  return is_int or is_bool or is_float or is_categorical_dtype(dtype)\n"
     ]
    },
    {
     "name": "stdout",
     "output_type": "stream",
     "text": [
      "[CV 5/5] END n_estimators=100; accuracy: (test=0.795) precision_micro: (test=0.795) recall_micro: (test=0.795) total time=  16.6s\n"
     ]
    },
    {
     "name": "stderr",
     "output_type": "stream",
     "text": [
      "/home/eva/.local/share/virtualenvs/data-engineering-analytics-notebooks-Qx0adyYX/lib/python3.10/site-packages/xgboost/data.py:335: FutureWarning: is_sparse is deprecated and will be removed in a future version. Check `isinstance(dtype, pd.SparseDtype)` instead.\n",
      "  if is_sparse(dtype):\n",
      "/home/eva/.local/share/virtualenvs/data-engineering-analytics-notebooks-Qx0adyYX/lib/python3.10/site-packages/xgboost/data.py:338: FutureWarning: is_categorical_dtype is deprecated and will be removed in a future version. Use isinstance(dtype, CategoricalDtype) instead\n",
      "  is_categorical_dtype(dtype) or is_pa_ext_categorical_dtype(dtype)\n",
      "/home/eva/.local/share/virtualenvs/data-engineering-analytics-notebooks-Qx0adyYX/lib/python3.10/site-packages/xgboost/data.py:384: FutureWarning: is_categorical_dtype is deprecated and will be removed in a future version. Use isinstance(dtype, CategoricalDtype) instead\n",
      "  if is_categorical_dtype(dtype):\n",
      "/home/eva/.local/share/virtualenvs/data-engineering-analytics-notebooks-Qx0adyYX/lib/python3.10/site-packages/xgboost/data.py:359: FutureWarning: is_categorical_dtype is deprecated and will be removed in a future version. Use isinstance(dtype, CategoricalDtype) instead\n",
      "  return is_int or is_bool or is_float or is_categorical_dtype(dtype)\n",
      "/home/eva/.local/share/virtualenvs/data-engineering-analytics-notebooks-Qx0adyYX/lib/python3.10/site-packages/xgboost/data.py:520: FutureWarning: is_sparse is deprecated and will be removed in a future version. Check `isinstance(dtype, pd.SparseDtype)` instead.\n",
      "  if is_sparse(data):\n"
     ]
    },
    {
     "data": {
      "text/html": [
       "<style>#sk-container-id-6 {color: black;}#sk-container-id-6 pre{padding: 0;}#sk-container-id-6 div.sk-toggleable {background-color: white;}#sk-container-id-6 label.sk-toggleable__label {cursor: pointer;display: block;width: 100%;margin-bottom: 0;padding: 0.3em;box-sizing: border-box;text-align: center;}#sk-container-id-6 label.sk-toggleable__label-arrow:before {content: \"▸\";float: left;margin-right: 0.25em;color: #696969;}#sk-container-id-6 label.sk-toggleable__label-arrow:hover:before {color: black;}#sk-container-id-6 div.sk-estimator:hover label.sk-toggleable__label-arrow:before {color: black;}#sk-container-id-6 div.sk-toggleable__content {max-height: 0;max-width: 0;overflow: hidden;text-align: left;background-color: #f0f8ff;}#sk-container-id-6 div.sk-toggleable__content pre {margin: 0.2em;color: black;border-radius: 0.25em;background-color: #f0f8ff;}#sk-container-id-6 input.sk-toggleable__control:checked~div.sk-toggleable__content {max-height: 200px;max-width: 100%;overflow: auto;}#sk-container-id-6 input.sk-toggleable__control:checked~label.sk-toggleable__label-arrow:before {content: \"▾\";}#sk-container-id-6 div.sk-estimator input.sk-toggleable__control:checked~label.sk-toggleable__label {background-color: #d4ebff;}#sk-container-id-6 div.sk-label input.sk-toggleable__control:checked~label.sk-toggleable__label {background-color: #d4ebff;}#sk-container-id-6 input.sk-hidden--visually {border: 0;clip: rect(1px 1px 1px 1px);clip: rect(1px, 1px, 1px, 1px);height: 1px;margin: -1px;overflow: hidden;padding: 0;position: absolute;width: 1px;}#sk-container-id-6 div.sk-estimator {font-family: monospace;background-color: #f0f8ff;border: 1px dotted black;border-radius: 0.25em;box-sizing: border-box;margin-bottom: 0.5em;}#sk-container-id-6 div.sk-estimator:hover {background-color: #d4ebff;}#sk-container-id-6 div.sk-parallel-item::after {content: \"\";width: 100%;border-bottom: 1px solid gray;flex-grow: 1;}#sk-container-id-6 div.sk-label:hover label.sk-toggleable__label {background-color: #d4ebff;}#sk-container-id-6 div.sk-serial::before {content: \"\";position: absolute;border-left: 1px solid gray;box-sizing: border-box;top: 0;bottom: 0;left: 50%;z-index: 0;}#sk-container-id-6 div.sk-serial {display: flex;flex-direction: column;align-items: center;background-color: white;padding-right: 0.2em;padding-left: 0.2em;position: relative;}#sk-container-id-6 div.sk-item {position: relative;z-index: 1;}#sk-container-id-6 div.sk-parallel {display: flex;align-items: stretch;justify-content: center;background-color: white;position: relative;}#sk-container-id-6 div.sk-item::before, #sk-container-id-6 div.sk-parallel-item::before {content: \"\";position: absolute;border-left: 1px solid gray;box-sizing: border-box;top: 0;bottom: 0;left: 50%;z-index: -1;}#sk-container-id-6 div.sk-parallel-item {display: flex;flex-direction: column;z-index: 1;position: relative;background-color: white;}#sk-container-id-6 div.sk-parallel-item:first-child::after {align-self: flex-end;width: 50%;}#sk-container-id-6 div.sk-parallel-item:last-child::after {align-self: flex-start;width: 50%;}#sk-container-id-6 div.sk-parallel-item:only-child::after {width: 0;}#sk-container-id-6 div.sk-dashed-wrapped {border: 1px dashed gray;margin: 0 0.4em 0.5em 0.4em;box-sizing: border-box;padding-bottom: 0.4em;background-color: white;}#sk-container-id-6 div.sk-label label {font-family: monospace;font-weight: bold;display: inline-block;line-height: 1.2em;}#sk-container-id-6 div.sk-label-container {text-align: center;}#sk-container-id-6 div.sk-container {/* jupyter's `normalize.less` sets `[hidden] { display: none; }` but bootstrap.min.css set `[hidden] { display: none !important; }` so we also need the `!important` here to be able to override the default hidden behavior on the sphinx rendered scikit-learn.org. See: https://github.com/scikit-learn/scikit-learn/issues/21755 */display: inline-block !important;position: relative;}#sk-container-id-6 div.sk-text-repr-fallback {display: none;}</style><div id=\"sk-container-id-6\" class=\"sk-top-container\"><div class=\"sk-text-repr-fallback\"><pre>GridSearchCV(cv=5,\n",
       "             estimator=XGBClassifier(base_score=None, booster=None,\n",
       "                                     callbacks=None, colsample_bylevel=None,\n",
       "                                     colsample_bynode=None,\n",
       "                                     colsample_bytree=None, device=None,\n",
       "                                     early_stopping_rounds=None,\n",
       "                                     enable_categorical=False, eval_metric=None,\n",
       "                                     feature_types=None, gamma=None,\n",
       "                                     grow_policy=None, importance_type=None,\n",
       "                                     interaction_constraints=None,\n",
       "                                     learning_rate=None,...\n",
       "                                     max_delta_step=None, max_depth=None,\n",
       "                                     max_leaves=None, min_child_weight=None,\n",
       "                                     missing=nan, monotone_constraints=None,\n",
       "                                     multi_strategy=None, n_estimators=None,\n",
       "                                     n_jobs=-1, num_parallel_tree=None,\n",
       "                                     random_state=None, ...),\n",
       "             param_grid={&#x27;n_estimators&#x27;: range(100, 200, 100)},\n",
       "             refit=&#x27;accuracy&#x27;,\n",
       "             scoring={&#x27;accuracy&#x27;: &#x27;accuracy&#x27;,\n",
       "                      &#x27;precision_micro&#x27;: &#x27;precision_micro&#x27;,\n",
       "                      &#x27;recall_micro&#x27;: &#x27;recall_micro&#x27;},\n",
       "             verbose=3)</pre><b>In a Jupyter environment, please rerun this cell to show the HTML representation or trust the notebook. <br />On GitHub, the HTML representation is unable to render, please try loading this page with nbviewer.org.</b></div><div class=\"sk-container\" hidden><div class=\"sk-item sk-dashed-wrapped\"><div class=\"sk-label-container\"><div class=\"sk-label sk-toggleable\"><input class=\"sk-toggleable__control sk-hidden--visually\" id=\"sk-estimator-id-14\" type=\"checkbox\" ><label for=\"sk-estimator-id-14\" class=\"sk-toggleable__label sk-toggleable__label-arrow\">GridSearchCV</label><div class=\"sk-toggleable__content\"><pre>GridSearchCV(cv=5,\n",
       "             estimator=XGBClassifier(base_score=None, booster=None,\n",
       "                                     callbacks=None, colsample_bylevel=None,\n",
       "                                     colsample_bynode=None,\n",
       "                                     colsample_bytree=None, device=None,\n",
       "                                     early_stopping_rounds=None,\n",
       "                                     enable_categorical=False, eval_metric=None,\n",
       "                                     feature_types=None, gamma=None,\n",
       "                                     grow_policy=None, importance_type=None,\n",
       "                                     interaction_constraints=None,\n",
       "                                     learning_rate=None,...\n",
       "                                     max_delta_step=None, max_depth=None,\n",
       "                                     max_leaves=None, min_child_weight=None,\n",
       "                                     missing=nan, monotone_constraints=None,\n",
       "                                     multi_strategy=None, n_estimators=None,\n",
       "                                     n_jobs=-1, num_parallel_tree=None,\n",
       "                                     random_state=None, ...),\n",
       "             param_grid={&#x27;n_estimators&#x27;: range(100, 200, 100)},\n",
       "             refit=&#x27;accuracy&#x27;,\n",
       "             scoring={&#x27;accuracy&#x27;: &#x27;accuracy&#x27;,\n",
       "                      &#x27;precision_micro&#x27;: &#x27;precision_micro&#x27;,\n",
       "                      &#x27;recall_micro&#x27;: &#x27;recall_micro&#x27;},\n",
       "             verbose=3)</pre></div></div></div><div class=\"sk-parallel\"><div class=\"sk-parallel-item\"><div class=\"sk-item\"><div class=\"sk-label-container\"><div class=\"sk-label sk-toggleable\"><input class=\"sk-toggleable__control sk-hidden--visually\" id=\"sk-estimator-id-15\" type=\"checkbox\" ><label for=\"sk-estimator-id-15\" class=\"sk-toggleable__label sk-toggleable__label-arrow\">estimator: XGBClassifier</label><div class=\"sk-toggleable__content\"><pre>XGBClassifier(base_score=None, booster=None, callbacks=None,\n",
       "              colsample_bylevel=None, colsample_bynode=None,\n",
       "              colsample_bytree=None, device=None, early_stopping_rounds=None,\n",
       "              enable_categorical=False, eval_metric=None, feature_types=None,\n",
       "              gamma=None, grow_policy=None, importance_type=None,\n",
       "              interaction_constraints=None, learning_rate=None, max_bin=None,\n",
       "              max_cat_threshold=None, max_cat_to_onehot=None,\n",
       "              max_delta_step=None, max_depth=None, max_leaves=None,\n",
       "              min_child_weight=None, missing=nan, monotone_constraints=None,\n",
       "              multi_strategy=None, n_estimators=None, n_jobs=-1,\n",
       "              num_parallel_tree=None, random_state=None, ...)</pre></div></div></div><div class=\"sk-serial\"><div class=\"sk-item\"><div class=\"sk-estimator sk-toggleable\"><input class=\"sk-toggleable__control sk-hidden--visually\" id=\"sk-estimator-id-16\" type=\"checkbox\" ><label for=\"sk-estimator-id-16\" class=\"sk-toggleable__label sk-toggleable__label-arrow\">XGBClassifier</label><div class=\"sk-toggleable__content\"><pre>XGBClassifier(base_score=None, booster=None, callbacks=None,\n",
       "              colsample_bylevel=None, colsample_bynode=None,\n",
       "              colsample_bytree=None, device=None, early_stopping_rounds=None,\n",
       "              enable_categorical=False, eval_metric=None, feature_types=None,\n",
       "              gamma=None, grow_policy=None, importance_type=None,\n",
       "              interaction_constraints=None, learning_rate=None, max_bin=None,\n",
       "              max_cat_threshold=None, max_cat_to_onehot=None,\n",
       "              max_delta_step=None, max_depth=None, max_leaves=None,\n",
       "              min_child_weight=None, missing=nan, monotone_constraints=None,\n",
       "              multi_strategy=None, n_estimators=None, n_jobs=-1,\n",
       "              num_parallel_tree=None, random_state=None, ...)</pre></div></div></div></div></div></div></div></div></div></div>"
      ],
      "text/plain": [
       "GridSearchCV(cv=5,\n",
       "             estimator=XGBClassifier(base_score=None, booster=None,\n",
       "                                     callbacks=None, colsample_bylevel=None,\n",
       "                                     colsample_bynode=None,\n",
       "                                     colsample_bytree=None, device=None,\n",
       "                                     early_stopping_rounds=None,\n",
       "                                     enable_categorical=False, eval_metric=None,\n",
       "                                     feature_types=None, gamma=None,\n",
       "                                     grow_policy=None, importance_type=None,\n",
       "                                     interaction_constraints=None,\n",
       "                                     learning_rate=None,...\n",
       "                                     max_delta_step=None, max_depth=None,\n",
       "                                     max_leaves=None, min_child_weight=None,\n",
       "                                     missing=nan, monotone_constraints=None,\n",
       "                                     multi_strategy=None, n_estimators=None,\n",
       "                                     n_jobs=-1, num_parallel_tree=None,\n",
       "                                     random_state=None, ...),\n",
       "             param_grid={'n_estimators': range(100, 200, 100)},\n",
       "             refit='accuracy',\n",
       "             scoring={'accuracy': 'accuracy',\n",
       "                      'precision_micro': 'precision_micro',\n",
       "                      'recall_micro': 'recall_micro'},\n",
       "             verbose=3)"
      ]
     },
     "execution_count": 35,
     "metadata": {},
     "output_type": "execute_result"
    },
    {
     "name": "stdout",
     "output_type": "stream",
     "text": [
      "Best parameter for xgboost (CV score=0.783):     {'n_estimators': 100} (XGBClassifier(base_score=None, booster=None, callbacks=None,\n",
      "              colsample_bylevel=None, colsample_bynode=None,\n",
      "              colsample_bytree=None, device=None, early_stopping_rounds=None,\n",
      "              enable_categorical=False, eval_metric=None, feature_types=None,\n",
      "              gamma=None, grow_policy=None, importance_type=None,\n",
      "              interaction_constraints=None, learning_rate=None, max_bin=None,\n",
      "              max_cat_threshold=None, max_cat_to_onehot=None,\n",
      "              max_delta_step=None, max_depth=None, max_leaves=None,\n",
      "              min_child_weight=None, missing=nan, monotone_constraints=None,\n",
      "              multi_strategy=None, n_estimators=100, n_jobs=-1,\n",
      "              num_parallel_tree=None, objective='multi:softprob', ...))\n"
     ]
    }
   ],
   "source": [
    "# grid search for extreme gradient boosting trees,\n",
    "# xgboost library adheres to sklearn interfaces\n",
    "parameters_xgboost = {\n",
    "    \"n_estimators\": range(\n",
    "        100, 200, 100\n",
    "    ),  # only use up to 200 trees for the sake of computation time\n",
    "}\n",
    "\n",
    "# apply grid search, xgboost requires us to use explicit labels\n",
    "# (not using an encoder as previously)\n",
    "gs_xgboost = GridSearchCV(\n",
    "    xgb.XGBClassifier(n_jobs=-1),\n",
    "    parameters_xgboost,\n",
    "    cv=5,\n",
    "    scoring=scoring,\n",
    "    refit=\"accuracy\",\n",
    "    verbose=3,\n",
    ")\n",
    "gs_xgboost.fit(X, fashion_mnist[\"label\"])\n",
    "\n",
    "# best results\n",
    "print(\n",
    "    f\"Best parameter for xgboost (CV score={gs_xgboost.best_score_:0.3f}): \\\n",
    "    {gs_xgboost.best_params_} ({gs_xgboost.best_estimator_})\"\n",
    ")"
   ]
  },
  {
   "cell_type": "code",
   "execution_count": 36,
   "id": "ae137090-706e-462e-aabb-7f5c739e22c5",
   "metadata": {},
   "outputs": [],
   "source": [
    "# collect results\n",
    "result_overview = {}\n",
    "estimator_labels = [\n",
    "    \"knn\",\n",
    "    \"decision tree\",\n",
    "    \"extraTree\",\n",
    "    \"random forest\",\n",
    "    \"xgboost\",\n",
    "]\n",
    "for score in scoring:\n",
    "    result_overview[score] = []\n",
    "    for gs in [\n",
    "        gs_knn,\n",
    "        gs_decision_tree,\n",
    "        gs_extra_trees,\n",
    "        gs_random_forest,\n",
    "        gs_xgboost,\n",
    "    ]:\n",
    "        result_overview[score].append(\n",
    "            gs.cv_results_[\"mean_test_\" + score].mean()\n",
    "        )"
   ]
  },
  {
   "cell_type": "code",
   "execution_count": 37,
   "id": "b9b1d62d-97c2-4419-b0d0-6c4aa31e1f74",
   "metadata": {},
   "outputs": [
    {
     "data": {
      "image/png": "[encoded data removed]",
      "text/plain": [
       "<Figure size 1000x1500 with 3 Axes>"
      ]
     },
     "metadata": {},
     "output_type": "display_data"
    }
   ],
   "source": [
    "fig, (ax1, ax2, ax3) = plt.subplots(3, figsize=(10, 15))\n",
    "ax1.bar(estimator_labels, result_overview[\"accuracy\"])\n",
    "ax1.set_ylabel(\"Accuracy\")\n",
    "ax1.set_title(\"Classifier\")\n",
    "ax2.bar(estimator_labels, result_overview[\"precision_micro\"])\n",
    "ax2.set_ylabel(\"Precision Micro\")\n",
    "ax3.bar(estimator_labels, result_overview[\"recall_micro\"])\n",
    "plt.ylabel(\"Recall Micro\")\n",
    "plt.title(\"Classifier\");"
   ]
  },
  {
   "cell_type": "markdown",
   "id": "b8fea66a-395d-42d5-8492-bb3f0085b96c",
   "metadata": {},
   "source": [
    "# Feature Selection"
   ]
  },
  {
   "cell_type": "code",
   "execution_count": 38,
   "id": "cb82a361-2352-4613-b460-115f05500976",
   "metadata": {},
   "outputs": [],
   "source": [
    "# set up data\n",
    "X = iris.data\n",
    "y = iris.target\n",
    "\n",
    "# preprocess\n",
    "# scaler = StandardScaler()\n",
    "# X = scaler.fit_transform(X)\n",
    "\n",
    "# split data into training and test\n",
    "X_train, X_test, y_train, y_test = train_test_split(X, y, test_size=0.2)"
   ]
  },
  {
   "cell_type": "markdown",
   "id": "0c10b541-d695-4d95-a565-7d0f60a3267d",
   "metadata": {},
   "source": [
    "## Filtering Methods"
   ]
  },
  {
   "cell_type": "markdown",
   "id": "5f376a08-f4bc-4912-be6d-23eee3472f59",
   "metadata": {},
   "source": [
    "We have already covered the variance of features in the lecture (and notebook) on EDA. Similarly, we have already covered the pairwise correlation of features and also the correlation between variables and the target variable in our lecture (and notebook) on linear regression. "
   ]
  },
  {
   "cell_type": "markdown",
   "id": "e7f4ffca-70c5-4ce8-a1b8-56c8a6a21ddc",
   "metadata": {},
   "source": [
    "A handy method in this regards is scikit's `VarianceThreshold` method that removes all variables with a variance below a given threshold."
   ]
  },
  {
   "cell_type": "code",
   "execution_count": 39,
   "id": "27195fee-efe5-4d85-ac07-a6059edc7551",
   "metadata": {},
   "outputs": [
    {
     "data": {
      "text/plain": [
       "array([[5.1, 1.4],\n",
       "       [4.9, 1.4],\n",
       "       [4.7, 1.3],\n",
       "       [4.6, 1.5],\n",
       "       [5. , 1.4],\n",
       "       [5.4, 1.7],\n",
       "       [4.6, 1.4],\n",
       "       [5. , 1.5],\n",
       "       [4.4, 1.4],\n",
       "       [4.9, 1.5],\n",
       "       [5.4, 1.5],\n",
       "       [4.8, 1.6],\n",
       "       [4.8, 1.4],\n",
       "       [4.3, 1.1],\n",
       "       [5.8, 1.2],\n",
       "       [5.7, 1.5],\n",
       "       [5.4, 1.3],\n",
       "       [5.1, 1.4],\n",
       "       [5.7, 1.7],\n",
       "       [5.1, 1.5],\n",
       "       [5.4, 1.7],\n",
       "       [5.1, 1.5],\n",
       "       [4.6, 1. ],\n",
       "       [5.1, 1.7],\n",
       "       [4.8, 1.9],\n",
       "       [5. , 1.6],\n",
       "       [5. , 1.6],\n",
       "       [5.2, 1.5],\n",
       "       [5.2, 1.4],\n",
       "       [4.7, 1.6],\n",
       "       [4.8, 1.6],\n",
       "       [5.4, 1.5],\n",
       "       [5.2, 1.5],\n",
       "       [5.5, 1.4],\n",
       "       [4.9, 1.5],\n",
       "       [5. , 1.2],\n",
       "       [5.5, 1.3],\n",
       "       [4.9, 1.4],\n",
       "       [4.4, 1.3],\n",
       "       [5.1, 1.5],\n",
       "       [5. , 1.3],\n",
       "       [4.5, 1.3],\n",
       "       [4.4, 1.3],\n",
       "       [5. , 1.6],\n",
       "       [5.1, 1.9],\n",
       "       [4.8, 1.4],\n",
       "       [5.1, 1.6],\n",
       "       [4.6, 1.4],\n",
       "       [5.3, 1.5],\n",
       "       [5. , 1.4],\n",
       "       [7. , 4.7],\n",
       "       [6.4, 4.5],\n",
       "       [6.9, 4.9],\n",
       "       [5.5, 4. ],\n",
       "       [6.5, 4.6],\n",
       "       [5.7, 4.5],\n",
       "       [6.3, 4.7],\n",
       "       [4.9, 3.3],\n",
       "       [6.6, 4.6],\n",
       "       [5.2, 3.9],\n",
       "       [5. , 3.5],\n",
       "       [5.9, 4.2],\n",
       "       [6. , 4. ],\n",
       "       [6.1, 4.7],\n",
       "       [5.6, 3.6],\n",
       "       [6.7, 4.4],\n",
       "       [5.6, 4.5],\n",
       "       [5.8, 4.1],\n",
       "       [6.2, 4.5],\n",
       "       [5.6, 3.9],\n",
       "       [5.9, 4.8],\n",
       "       [6.1, 4. ],\n",
       "       [6.3, 4.9],\n",
       "       [6.1, 4.7],\n",
       "       [6.4, 4.3],\n",
       "       [6.6, 4.4],\n",
       "       [6.8, 4.8],\n",
       "       [6.7, 5. ],\n",
       "       [6. , 4.5],\n",
       "       [5.7, 3.5],\n",
       "       [5.5, 3.8],\n",
       "       [5.5, 3.7],\n",
       "       [5.8, 3.9],\n",
       "       [6. , 5.1],\n",
       "       [5.4, 4.5],\n",
       "       [6. , 4.5],\n",
       "       [6.7, 4.7],\n",
       "       [6.3, 4.4],\n",
       "       [5.6, 4.1],\n",
       "       [5.5, 4. ],\n",
       "       [5.5, 4.4],\n",
       "       [6.1, 4.6],\n",
       "       [5.8, 4. ],\n",
       "       [5. , 3.3],\n",
       "       [5.6, 4.2],\n",
       "       [5.7, 4.2],\n",
       "       [5.7, 4.2],\n",
       "       [6.2, 4.3],\n",
       "       [5.1, 3. ],\n",
       "       [5.7, 4.1],\n",
       "       [6.3, 6. ],\n",
       "       [5.8, 5.1],\n",
       "       [7.1, 5.9],\n",
       "       [6.3, 5.6],\n",
       "       [6.5, 5.8],\n",
       "       [7.6, 6.6],\n",
       "       [4.9, 4.5],\n",
       "       [7.3, 6.3],\n",
       "       [6.7, 5.8],\n",
       "       [7.2, 6.1],\n",
       "       [6.5, 5.1],\n",
       "       [6.4, 5.3],\n",
       "       [6.8, 5.5],\n",
       "       [5.7, 5. ],\n",
       "       [5.8, 5.1],\n",
       "       [6.4, 5.3],\n",
       "       [6.5, 5.5],\n",
       "       [7.7, 6.7],\n",
       "       [7.7, 6.9],\n",
       "       [6. , 5. ],\n",
       "       [6.9, 5.7],\n",
       "       [5.6, 4.9],\n",
       "       [7.7, 6.7],\n",
       "       [6.3, 4.9],\n",
       "       [6.7, 5.7],\n",
       "       [7.2, 6. ],\n",
       "       [6.2, 4.8],\n",
       "       [6.1, 4.9],\n",
       "       [6.4, 5.6],\n",
       "       [7.2, 5.8],\n",
       "       [7.4, 6.1],\n",
       "       [7.9, 6.4],\n",
       "       [6.4, 5.6],\n",
       "       [6.3, 5.1],\n",
       "       [6.1, 5.6],\n",
       "       [7.7, 6.1],\n",
       "       [6.3, 5.6],\n",
       "       [6.4, 5.5],\n",
       "       [6. , 4.8],\n",
       "       [6.9, 5.4],\n",
       "       [6.7, 5.6],\n",
       "       [6.9, 5.1],\n",
       "       [5.8, 5.1],\n",
       "       [6.8, 5.9],\n",
       "       [6.7, 5.7],\n",
       "       [6.7, 5.2],\n",
       "       [6.3, 5. ],\n",
       "       [6.5, 5.2],\n",
       "       [6.2, 5.4],\n",
       "       [5.9, 5.1]])"
      ]
     },
     "execution_count": 39,
     "metadata": {},
     "output_type": "execute_result"
    }
   ],
   "source": [
    "feature_selector = VarianceThreshold(0.6)\n",
    "feature_selector.fit_transform(X)"
   ]
  },
  {
   "cell_type": "markdown",
   "id": "16e6fb75-b926-4176-81df-36820ad95993",
   "metadata": {},
   "source": [
    "The information gain for an individual feature can be computed as follows."
   ]
  },
  {
   "cell_type": "code",
   "execution_count": 40,
   "id": "a6094be7-af96-413e-aaf5-9b59b6631220",
   "metadata": {},
   "outputs": [],
   "source": [
    "feature_importances = mutual_info_classif(X, y)"
   ]
  },
  {
   "cell_type": "code",
   "execution_count": 41,
   "id": "57236bad-4cca-4f97-b6bd-f60ce942315d",
   "metadata": {},
   "outputs": [
    {
     "data": {
      "image/png": "[encoded data removed]",
      "text/plain": [
       "<Figure size 640x480 with 1 Axes>"
      ]
     },
     "metadata": {},
     "output_type": "display_data"
    }
   ],
   "source": [
    "feature_importances = pd.Series(feature_importances, index=iris.feature_names)\n",
    "# plot feature importance\n",
    "fig, ax = plt.subplots()\n",
    "feature_importances.plot.bar(ax=ax)\n",
    "ax.set_title(\"Feature importances\")\n",
    "ax.set_ylabel(\"Mean decrease in impurity\");"
   ]
  },
  {
   "cell_type": "markdown",
   "id": "687fdce7-935d-4a0d-975c-a8d26c70ce94",
   "metadata": {},
   "source": [
    "## Wrapper Methods"
   ]
  },
  {
   "cell_type": "markdown",
   "id": "30d85674-9e0e-44b3-b61a-a8fd30eee283",
   "metadata": {},
   "source": [
    "Wrapper methods require a classifier/regressor to compute the performance scores. We use a kNN classifier in the following scenario."
   ]
  },
  {
   "cell_type": "code",
   "execution_count": 42,
   "id": "eaccdede-61d9-4ee4-90d4-698d3df1b80a",
   "metadata": {},
   "outputs": [
    {
     "data": {
      "text/html": [
       "<style>#sk-container-id-7 {color: black;}#sk-container-id-7 pre{padding: 0;}#sk-container-id-7 div.sk-toggleable {background-color: white;}#sk-container-id-7 label.sk-toggleable__label {cursor: pointer;display: block;width: 100%;margin-bottom: 0;padding: 0.3em;box-sizing: border-box;text-align: center;}#sk-container-id-7 label.sk-toggleable__label-arrow:before {content: \"▸\";float: left;margin-right: 0.25em;color: #696969;}#sk-container-id-7 label.sk-toggleable__label-arrow:hover:before {color: black;}#sk-container-id-7 div.sk-estimator:hover label.sk-toggleable__label-arrow:before {color: black;}#sk-container-id-7 div.sk-toggleable__content {max-height: 0;max-width: 0;overflow: hidden;text-align: left;background-color: #f0f8ff;}#sk-container-id-7 div.sk-toggleable__content pre {margin: 0.2em;color: black;border-radius: 0.25em;background-color: #f0f8ff;}#sk-container-id-7 input.sk-toggleable__control:checked~div.sk-toggleable__content {max-height: 200px;max-width: 100%;overflow: auto;}#sk-container-id-7 input.sk-toggleable__control:checked~label.sk-toggleable__label-arrow:before {content: \"▾\";}#sk-container-id-7 div.sk-estimator input.sk-toggleable__control:checked~label.sk-toggleable__label {background-color: #d4ebff;}#sk-container-id-7 div.sk-label input.sk-toggleable__control:checked~label.sk-toggleable__label {background-color: #d4ebff;}#sk-container-id-7 input.sk-hidden--visually {border: 0;clip: rect(1px 1px 1px 1px);clip: rect(1px, 1px, 1px, 1px);height: 1px;margin: -1px;overflow: hidden;padding: 0;position: absolute;width: 1px;}#sk-container-id-7 div.sk-estimator {font-family: monospace;background-color: #f0f8ff;border: 1px dotted black;border-radius: 0.25em;box-sizing: border-box;margin-bottom: 0.5em;}#sk-container-id-7 div.sk-estimator:hover {background-color: #d4ebff;}#sk-container-id-7 div.sk-parallel-item::after {content: \"\";width: 100%;border-bottom: 1px solid gray;flex-grow: 1;}#sk-container-id-7 div.sk-label:hover label.sk-toggleable__label {background-color: #d4ebff;}#sk-container-id-7 div.sk-serial::before {content: \"\";position: absolute;border-left: 1px solid gray;box-sizing: border-box;top: 0;bottom: 0;left: 50%;z-index: 0;}#sk-container-id-7 div.sk-serial {display: flex;flex-direction: column;align-items: center;background-color: white;padding-right: 0.2em;padding-left: 0.2em;position: relative;}#sk-container-id-7 div.sk-item {position: relative;z-index: 1;}#sk-container-id-7 div.sk-parallel {display: flex;align-items: stretch;justify-content: center;background-color: white;position: relative;}#sk-container-id-7 div.sk-item::before, #sk-container-id-7 div.sk-parallel-item::before {content: \"\";position: absolute;border-left: 1px solid gray;box-sizing: border-box;top: 0;bottom: 0;left: 50%;z-index: -1;}#sk-container-id-7 div.sk-parallel-item {display: flex;flex-direction: column;z-index: 1;position: relative;background-color: white;}#sk-container-id-7 div.sk-parallel-item:first-child::after {align-self: flex-end;width: 50%;}#sk-container-id-7 div.sk-parallel-item:last-child::after {align-self: flex-start;width: 50%;}#sk-container-id-7 div.sk-parallel-item:only-child::after {width: 0;}#sk-container-id-7 div.sk-dashed-wrapped {border: 1px dashed gray;margin: 0 0.4em 0.5em 0.4em;box-sizing: border-box;padding-bottom: 0.4em;background-color: white;}#sk-container-id-7 div.sk-label label {font-family: monospace;font-weight: bold;display: inline-block;line-height: 1.2em;}#sk-container-id-7 div.sk-label-container {text-align: center;}#sk-container-id-7 div.sk-container {/* jupyter's `normalize.less` sets `[hidden] { display: none; }` but bootstrap.min.css set `[hidden] { display: none !important; }` so we also need the `!important` here to be able to override the default hidden behavior on the sphinx rendered scikit-learn.org. See: https://github.com/scikit-learn/scikit-learn/issues/21755 */display: inline-block !important;position: relative;}#sk-container-id-7 div.sk-text-repr-fallback {display: none;}</style><div id=\"sk-container-id-7\" class=\"sk-top-container\"><div class=\"sk-text-repr-fallback\"><pre>KNeighborsClassifier(algorithm=&#x27;kd_tree&#x27;, n_neighbors=9, p=1)</pre><b>In a Jupyter environment, please rerun this cell to show the HTML representation or trust the notebook. <br />On GitHub, the HTML representation is unable to render, please try loading this page with nbviewer.org.</b></div><div class=\"sk-container\" hidden><div class=\"sk-item\"><div class=\"sk-estimator sk-toggleable\"><input class=\"sk-toggleable__control sk-hidden--visually\" id=\"sk-estimator-id-17\" type=\"checkbox\" checked><label for=\"sk-estimator-id-17\" class=\"sk-toggleable__label sk-toggleable__label-arrow\">KNeighborsClassifier</label><div class=\"sk-toggleable__content\"><pre>KNeighborsClassifier(algorithm=&#x27;kd_tree&#x27;, n_neighbors=9, p=1)</pre></div></div></div></div></div>"
      ],
      "text/plain": [
       "KNeighborsClassifier(algorithm='kd_tree', n_neighbors=9, p=1)"
      ]
     },
     "execution_count": 42,
     "metadata": {},
     "output_type": "execute_result"
    }
   ],
   "source": [
    "knn = KNeighborsClassifier(\n",
    "    n_neighbors=9, algorithm=\"kd_tree\", leaf_size=30, metric=\"minkowski\", p=1\n",
    ")\n",
    "knn.fit(X_train, y_train)"
   ]
  },
  {
   "cell_type": "code",
   "execution_count": 43,
   "id": "ad8e090e-8154-4425-ab81-d60fa7170c8d",
   "metadata": {},
   "outputs": [
    {
     "name": "stdout",
     "output_type": "stream",
     "text": [
      "Best accuracy score: 0.97\n",
      "Best subsets: {1: {'feature_idx': (2,), 'cv_scores': array([0.95]), 'avg_score': 0.95, 'feature_names': ('2',)}, 2: {'feature_idx': (0, 2), 'cv_scores': array([0.975]), 'avg_score': 0.975, 'feature_names': ('0', '2')}}\n"
     ]
    }
   ],
   "source": [
    "# forward feature selection\n",
    "sfs = SequentialFeatureSelector(\n",
    "    knn, k_features=2, forward=True, floating=False, scoring=\"accuracy\", cv=0\n",
    ")\n",
    "sfs = sfs.fit(X_train, y_train)\n",
    "\n",
    "# inspect selected features\n",
    "print(\n",
    "    f\"Best accuracy score: {sfs.k_score_:.2f}\",\n",
    ")\n",
    "print(f\"Best subsets: {sfs.subsets_}\")"
   ]
  },
  {
   "cell_type": "code",
   "execution_count": 44,
   "id": "0de8062d-95ac-4457-898d-6d35311dc5e5",
   "metadata": {},
   "outputs": [
    {
     "name": "stdout",
     "output_type": "stream",
     "text": [
      "Best accuracy score: 0.97\n",
      "Best subsets: {4: {'feature_idx': (0, 1, 2, 3), 'cv_scores': array([0.96666667]), 'avg_score': 0.9666666666666667, 'feature_names': ('0', '1', '2', '3')}, 3: {'feature_idx': (0, 1, 2), 'cv_scores': array([0.975]), 'avg_score': 0.975, 'feature_names': ('0', '1', '2')}, 2: {'feature_idx': (0, 2), 'cv_scores': array([0.975]), 'avg_score': 0.975, 'feature_names': ('0', '2')}}\n"
     ]
    }
   ],
   "source": [
    "# backward feature selection\n",
    "sfs = SequentialFeatureSelector(\n",
    "    knn, k_features=2, forward=False, floating=False, scoring=\"accuracy\", cv=0\n",
    ")\n",
    "sfs = sfs.fit(X_train, y_train)\n",
    "\n",
    "# inspect selected features\n",
    "print(\n",
    "    f\"Best accuracy score: {sfs.k_score_:.2f}\",\n",
    ")\n",
    "print(f\"Best subsets: {sfs.subsets_}\")"
   ]
  },
  {
   "cell_type": "code",
   "execution_count": 45,
   "id": "058361cb-7d73-4e7f-852d-422a72413612",
   "metadata": {},
   "outputs": [
    {
     "name": "stderr",
     "output_type": "stream",
     "text": [
      "Features: 14/14"
     ]
    },
    {
     "name": "stdout",
     "output_type": "stream",
     "text": [
      "Best accuracy score: 0.97 0.975\n",
      "Best subset (indices): (0, 2)\n",
      "Best subsets: {4: {'feature_idx': (0, 1, 2, 3), 'cv_scores': array([0.96666667]), 'avg_score': 0.9666666666666667, 'feature_names': ('0', '1', '2', '3')}, 3: {'feature_idx': (0, 1, 2), 'cv_scores': array([0.975]), 'avg_score': 0.975, 'feature_names': ('0', '1', '2')}, 2: {'feature_idx': (0, 2), 'cv_scores': array([0.975]), 'avg_score': 0.975, 'feature_names': ('0', '2')}}\n"
     ]
    }
   ],
   "source": [
    "# exhaustive feature search\n",
    "efs = ExhaustiveFeatureSelector(\n",
    "    knn, min_features=1, max_features=3, scoring=\"accuracy\", cv=0\n",
    ")\n",
    "efs = efs.fit(X_train, y_train)\n",
    "\n",
    "# inspect selected features\n",
    "print(f\"Best accuracy score: {efs.best_score_:.2f}\", efs.best_score_)\n",
    "print(f\"Best subset (indices): {efs.best_idx_}\")\n",
    "print(f\"Best subsets: {sfs.subsets_}\")"
   ]
  },
  {
   "cell_type": "code",
   "execution_count": 46,
   "id": "dc54a384-d0d5-45d4-b13c-ff1cd79ab508",
   "metadata": {},
   "outputs": [
    {
     "data": {
      "text/html": [
       "<style>#sk-container-id-8 {color: black;}#sk-container-id-8 pre{padding: 0;}#sk-container-id-8 div.sk-toggleable {background-color: white;}#sk-container-id-8 label.sk-toggleable__label {cursor: pointer;display: block;width: 100%;margin-bottom: 0;padding: 0.3em;box-sizing: border-box;text-align: center;}#sk-container-id-8 label.sk-toggleable__label-arrow:before {content: \"▸\";float: left;margin-right: 0.25em;color: #696969;}#sk-container-id-8 label.sk-toggleable__label-arrow:hover:before {color: black;}#sk-container-id-8 div.sk-estimator:hover label.sk-toggleable__label-arrow:before {color: black;}#sk-container-id-8 div.sk-toggleable__content {max-height: 0;max-width: 0;overflow: hidden;text-align: left;background-color: #f0f8ff;}#sk-container-id-8 div.sk-toggleable__content pre {margin: 0.2em;color: black;border-radius: 0.25em;background-color: #f0f8ff;}#sk-container-id-8 input.sk-toggleable__control:checked~div.sk-toggleable__content {max-height: 200px;max-width: 100%;overflow: auto;}#sk-container-id-8 input.sk-toggleable__control:checked~label.sk-toggleable__label-arrow:before {content: \"▾\";}#sk-container-id-8 div.sk-estimator input.sk-toggleable__control:checked~label.sk-toggleable__label {background-color: #d4ebff;}#sk-container-id-8 div.sk-label input.sk-toggleable__control:checked~label.sk-toggleable__label {background-color: #d4ebff;}#sk-container-id-8 input.sk-hidden--visually {border: 0;clip: rect(1px 1px 1px 1px);clip: rect(1px, 1px, 1px, 1px);height: 1px;margin: -1px;overflow: hidden;padding: 0;position: absolute;width: 1px;}#sk-container-id-8 div.sk-estimator {font-family: monospace;background-color: #f0f8ff;border: 1px dotted black;border-radius: 0.25em;box-sizing: border-box;margin-bottom: 0.5em;}#sk-container-id-8 div.sk-estimator:hover {background-color: #d4ebff;}#sk-container-id-8 div.sk-parallel-item::after {content: \"\";width: 100%;border-bottom: 1px solid gray;flex-grow: 1;}#sk-container-id-8 div.sk-label:hover label.sk-toggleable__label {background-color: #d4ebff;}#sk-container-id-8 div.sk-serial::before {content: \"\";position: absolute;border-left: 1px solid gray;box-sizing: border-box;top: 0;bottom: 0;left: 50%;z-index: 0;}#sk-container-id-8 div.sk-serial {display: flex;flex-direction: column;align-items: center;background-color: white;padding-right: 0.2em;padding-left: 0.2em;position: relative;}#sk-container-id-8 div.sk-item {position: relative;z-index: 1;}#sk-container-id-8 div.sk-parallel {display: flex;align-items: stretch;justify-content: center;background-color: white;position: relative;}#sk-container-id-8 div.sk-item::before, #sk-container-id-8 div.sk-parallel-item::before {content: \"\";position: absolute;border-left: 1px solid gray;box-sizing: border-box;top: 0;bottom: 0;left: 50%;z-index: -1;}#sk-container-id-8 div.sk-parallel-item {display: flex;flex-direction: column;z-index: 1;position: relative;background-color: white;}#sk-container-id-8 div.sk-parallel-item:first-child::after {align-self: flex-end;width: 50%;}#sk-container-id-8 div.sk-parallel-item:last-child::after {align-self: flex-start;width: 50%;}#sk-container-id-8 div.sk-parallel-item:only-child::after {width: 0;}#sk-container-id-8 div.sk-dashed-wrapped {border: 1px dashed gray;margin: 0 0.4em 0.5em 0.4em;box-sizing: border-box;padding-bottom: 0.4em;background-color: white;}#sk-container-id-8 div.sk-label label {font-family: monospace;font-weight: bold;display: inline-block;line-height: 1.2em;}#sk-container-id-8 div.sk-label-container {text-align: center;}#sk-container-id-8 div.sk-container {/* jupyter's `normalize.less` sets `[hidden] { display: none; }` but bootstrap.min.css set `[hidden] { display: none !important; }` so we also need the `!important` here to be able to override the default hidden behavior on the sphinx rendered scikit-learn.org. See: https://github.com/scikit-learn/scikit-learn/issues/21755 */display: inline-block !important;position: relative;}#sk-container-id-8 div.sk-text-repr-fallback {display: none;}</style><div id=\"sk-container-id-8\" class=\"sk-top-container\"><div class=\"sk-text-repr-fallback\"><pre>RFE(estimator=DecisionTreeClassifier(), n_features_to_select=2)</pre><b>In a Jupyter environment, please rerun this cell to show the HTML representation or trust the notebook. <br />On GitHub, the HTML representation is unable to render, please try loading this page with nbviewer.org.</b></div><div class=\"sk-container\" hidden><div class=\"sk-item sk-dashed-wrapped\"><div class=\"sk-label-container\"><div class=\"sk-label sk-toggleable\"><input class=\"sk-toggleable__control sk-hidden--visually\" id=\"sk-estimator-id-18\" type=\"checkbox\" ><label for=\"sk-estimator-id-18\" class=\"sk-toggleable__label sk-toggleable__label-arrow\">RFE</label><div class=\"sk-toggleable__content\"><pre>RFE(estimator=DecisionTreeClassifier(), n_features_to_select=2)</pre></div></div></div><div class=\"sk-parallel\"><div class=\"sk-parallel-item\"><div class=\"sk-item\"><div class=\"sk-label-container\"><div class=\"sk-label sk-toggleable\"><input class=\"sk-toggleable__control sk-hidden--visually\" id=\"sk-estimator-id-19\" type=\"checkbox\" ><label for=\"sk-estimator-id-19\" class=\"sk-toggleable__label sk-toggleable__label-arrow\">estimator: DecisionTreeClassifier</label><div class=\"sk-toggleable__content\"><pre>DecisionTreeClassifier()</pre></div></div></div><div class=\"sk-serial\"><div class=\"sk-item\"><div class=\"sk-estimator sk-toggleable\"><input class=\"sk-toggleable__control sk-hidden--visually\" id=\"sk-estimator-id-20\" type=\"checkbox\" ><label for=\"sk-estimator-id-20\" class=\"sk-toggleable__label sk-toggleable__label-arrow\">DecisionTreeClassifier</label><div class=\"sk-toggleable__content\"><pre>DecisionTreeClassifier()</pre></div></div></div></div></div></div></div></div></div></div>"
      ],
      "text/plain": [
       "RFE(estimator=DecisionTreeClassifier(), n_features_to_select=2)"
      ]
     },
     "execution_count": 46,
     "metadata": {},
     "output_type": "execute_result"
    },
    {
     "name": "stdout",
     "output_type": "stream",
     "text": [
      "Ranking of features: [2 3 1 1]\n",
      "Selection mask: [False False  True  True]\n"
     ]
    }
   ],
   "source": [
    "# recursive feature elimination\n",
    "# requires an estimator that provides feature importance, therefore, we switch to decision tree\n",
    "tree_clf = DecisionTreeClassifier(\n",
    "    criterion=\"gini\"\n",
    ")  # else: criterion='entropy'\n",
    "tree_clf = tree_clf.fit(X_train, y_train)\n",
    "\n",
    "rfe = RFE(estimator=tree_clf, n_features_to_select=2)\n",
    "rfe.fit(X_train, y_train)\n",
    "\n",
    "# inspect selected features\n",
    "print(f\"Ranking of features: {rfe.ranking_}\")\n",
    "print(f\"Selection mask: {rfe.support_}\")"
   ]
  },
  {
   "cell_type": "markdown",
   "id": "04677ade-15d6-48b7-b397-c00df5286f93",
   "metadata": {},
   "source": [
    "## Embedded Methods"
   ]
  },
  {
   "cell_type": "markdown",
   "id": "5602845e-b9ff-4fdd-87bb-690fc094cdf7",
   "metadata": {},
   "source": [
    "See feature importance for tree-based models earlier in this notebook."
   ]
  }
 ],
 "metadata": {
  "kernelspec": {
   "display_name": "DEA Kernel",
   "language": "python",
   "name": "dea_kernel"
  },
  "language_info": {
   "codemirror_mode": {
    "name": "ipython",
    "version": 3
   },
   "file_extension": ".py",
   "mimetype": "text/x-python",
   "name": "python",
   "nbconvert_exporter": "python",
   "pygments_lexer": "ipython3",
   "version": "3.12.2"
  }
 },
 "nbformat": 4,
 "nbformat_minor": 5
}
