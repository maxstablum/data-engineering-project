{
 "cells": [
  {
   "cell_type": "markdown",
   "id": "edd718da-1295-49c4-b556-3cc7b718f93c",
   "metadata": {
    "tags": []
   },
   "source": [
    "# Hypothesis Testing\n",
    "Lecture Data Engineering and Analytics<br>\n",
    "Eva Zangerle"
   ]
  },
  {
   "cell_type": "code",
   "execution_count": 1,
   "id": "5b126eda-5b79-4531-b8ea-72898d09dc6d",
   "metadata": {},
   "outputs": [],
   "source": [
    "# import required packages\n",
    "import os\n",
    "from IPython.core.interactiveshell import InteractiveShell\n",
    "import matplotlib.pyplot as plt\n",
    "import numpy as np\n",
    "import pandas as pd\n",
    "import seaborn as sns\n",
    "from mlxtend.data import mnist_data\n",
    "from mlxtend.evaluate import (\n",
    "    cochrans_q,\n",
    "    mcnemar,\n",
    "    mcnemar_table,\n",
    "    paired_ttest_5x2cv,\n",
    ")\n",
    "from scipy.stats import pearsonr, ttest_ind\n",
    "from sklearn import set_config\n",
    "from sklearn.ensemble import RandomForestClassifier\n",
    "from sklearn.model_selection import (\n",
    "    GridSearchCV,\n",
    "    StratifiedKFold,\n",
    "    train_test_split,\n",
    ")\n",
    "from sklearn.neighbors import KNeighborsClassifier\n",
    "from sklearn.pipeline import Pipeline\n",
    "from sklearn.preprocessing import StandardScaler\n",
    "from sklearn.tree import DecisionTreeClassifier\n",
    "from sklearn.utils import resample"
   ]
  },
  {
   "cell_type": "code",
   "execution_count": 2,
   "id": "5406f6f3-1c06-4f3b-aaaf-9ac6f2967729",
   "metadata": {},
   "outputs": [],
   "source": [
    "data_dir = \"../data\""
   ]
  },
  {
   "cell_type": "code",
   "execution_count": 2,
   "id": "364110d2",
   "metadata": {},
   "outputs": [],
   "source": [
    "# show all outputs\n",
    "InteractiveShell.ast_node_interactivity = \"all\""
   ]
  },
  {
   "cell_type": "code",
   "execution_count": 3,
   "id": "29a380d3-d574-47d1-8649-98bbd9c58edf",
   "metadata": {},
   "outputs": [
    {
     "name": "stdout",
     "output_type": "stream",
     "text": [
      "Author: Eva Zangerle\n",
      "\n",
      "Last updated: 2023-12-12 14:32:47\n",
      "\n",
      "Python implementation: CPython\n",
      "Python version       : 3.10.11\n",
      "IPython version      : 8.16.1\n",
      "\n"
     ]
    }
   ],
   "source": [
    "%load_ext watermark\n",
    "%watermark -a \"Eva Zangerle\" --updated --date --time --iversions --githash"
   ]
  },
  {
   "cell_type": "markdown",
   "id": "c4abdb51-195d-40d4-a46e-acacdd63e517",
   "metadata": {},
   "source": [
    "## Central Limit Theorem"
   ]
  },
  {
   "cell_type": "markdown",
   "id": "33556303-a6c5-4637-aa75-c319ccc1aaba",
   "metadata": {},
   "source": [
    "In the following, we will investigate the central limit theorem. "
   ]
  },
  {
   "cell_type": "code",
   "execution_count": 4,
   "id": "656050b5-45a5-4813-a228-e4b9ba03a111",
   "metadata": {},
   "outputs": [],
   "source": [
    "loans_income = pd.read_csv(os.path.join(data_dir, \"loans_income.csv\")).squeeze(\n",
    "    \"columns\"\n",
    ")"
   ]
  },
  {
   "cell_type": "code",
   "execution_count": 5,
   "id": "c0ef827e-8e5e-412f-a6ee-fe57f183d47e",
   "metadata": {},
   "outputs": [
    {
     "data": {
      "text/plain": [
       "0         67000\n",
       "1         52000\n",
       "2        100000\n",
       "3         78762\n",
       "4         37041\n",
       "          ...  \n",
       "49995     40000\n",
       "49996     54000\n",
       "49997     50000\n",
       "49998     82000\n",
       "49999     70000\n",
       "Name: x, Length: 50000, dtype: int64"
      ]
     },
     "execution_count": 5,
     "metadata": {},
     "output_type": "execute_result"
    }
   ],
   "source": [
    "loans_income"
   ]
  },
  {
   "cell_type": "code",
   "execution_count": 6,
   "id": "668ab92d-218b-45bd-b3dc-ca4dbad4013e",
   "metadata": {},
   "outputs": [],
   "source": [
    "# sample 1000 rows\n",
    "sample_data = pd.DataFrame(\n",
    "    {\n",
    "        \"income\": loans_income.sample(1000),\n",
    "        \"type\": \"Data\",\n",
    "    }\n",
    ")"
   ]
  },
  {
   "cell_type": "code",
   "execution_count": 7,
   "id": "f65ee2f1-c5bb-4146-9645-711fa3a2dce6",
   "metadata": {},
   "outputs": [
    {
     "data": {
      "text/html": [
       "<div>\n",
       "<style scoped>\n",
       "    .dataframe tbody tr th:only-of-type {\n",
       "        vertical-align: middle;\n",
       "    }\n",
       "\n",
       "    .dataframe tbody tr th {\n",
       "        vertical-align: top;\n",
       "    }\n",
       "\n",
       "    .dataframe thead th {\n",
       "        text-align: right;\n",
       "    }\n",
       "</style>\n",
       "<table border=\"1\" class=\"dataframe\">\n",
       "  <thead>\n",
       "    <tr style=\"text-align: right;\">\n",
       "      <th></th>\n",
       "      <th>income</th>\n",
       "      <th>type</th>\n",
       "    </tr>\n",
       "  </thead>\n",
       "  <tbody>\n",
       "    <tr>\n",
       "      <th>8034</th>\n",
       "      <td>43000.00</td>\n",
       "      <td>Data</td>\n",
       "    </tr>\n",
       "    <tr>\n",
       "      <th>49397</th>\n",
       "      <td>76500.00</td>\n",
       "      <td>Data</td>\n",
       "    </tr>\n",
       "    <tr>\n",
       "      <th>16876</th>\n",
       "      <td>170000.00</td>\n",
       "      <td>Data</td>\n",
       "    </tr>\n",
       "    <tr>\n",
       "      <th>45679</th>\n",
       "      <td>85000.00</td>\n",
       "      <td>Data</td>\n",
       "    </tr>\n",
       "    <tr>\n",
       "      <th>40101</th>\n",
       "      <td>60000.00</td>\n",
       "      <td>Data</td>\n",
       "    </tr>\n",
       "    <tr>\n",
       "      <th>...</th>\n",
       "      <td>...</td>\n",
       "      <td>...</td>\n",
       "    </tr>\n",
       "    <tr>\n",
       "      <th>4995</th>\n",
       "      <td>58520.40</td>\n",
       "      <td>Mean of 20, 5000 samples</td>\n",
       "    </tr>\n",
       "    <tr>\n",
       "      <th>4996</th>\n",
       "      <td>66816.40</td>\n",
       "      <td>Mean of 20, 5000 samples</td>\n",
       "    </tr>\n",
       "    <tr>\n",
       "      <th>4997</th>\n",
       "      <td>70336.05</td>\n",
       "      <td>Mean of 20, 5000 samples</td>\n",
       "    </tr>\n",
       "    <tr>\n",
       "      <th>4998</th>\n",
       "      <td>68908.15</td>\n",
       "      <td>Mean of 20, 5000 samples</td>\n",
       "    </tr>\n",
       "    <tr>\n",
       "      <th>4999</th>\n",
       "      <td>63140.60</td>\n",
       "      <td>Mean of 20, 5000 samples</td>\n",
       "    </tr>\n",
       "  </tbody>\n",
       "</table>\n",
       "<p>9000 rows × 2 columns</p>\n",
       "</div>"
      ],
      "text/plain": [
       "          income                      type\n",
       "8034    43000.00                      Data\n",
       "49397   76500.00                      Data\n",
       "16876  170000.00                      Data\n",
       "45679   85000.00                      Data\n",
       "40101   60000.00                      Data\n",
       "...          ...                       ...\n",
       "4995    58520.40  Mean of 20, 5000 samples\n",
       "4996    66816.40  Mean of 20, 5000 samples\n",
       "4997    70336.05  Mean of 20, 5000 samples\n",
       "4998    68908.15  Mean of 20, 5000 samples\n",
       "4999    63140.60  Mean of 20, 5000 samples\n",
       "\n",
       "[9000 rows x 2 columns]"
      ]
     },
     "execution_count": 7,
     "metadata": {},
     "output_type": "execute_result"
    }
   ],
   "source": [
    "# draw random samples from sample data\n",
    "sample_mean_05 = pd.DataFrame(\n",
    "    {\n",
    "        \"income\": [loans_income.sample(5).mean() for _ in range(1000)],\n",
    "        \"type\": \"Mean of 5 samples\",\n",
    "    }\n",
    ")\n",
    "\n",
    "sample_mean_20 = pd.DataFrame(\n",
    "    {\n",
    "        \"income\": [loans_income.sample(20).mean() for _ in range(1000)],\n",
    "        \"type\": \"Mean of 20 samples\",\n",
    "    }\n",
    ")\n",
    "\n",
    "\n",
    "sample_mean_20_2 = pd.DataFrame(\n",
    "    {\n",
    "        \"income\": [loans_income.sample(20).mean() for _ in range(5000)],\n",
    "        \"type\": \"Mean of 20, 5000 samples\",\n",
    "    }\n",
    ")\n",
    "\n",
    "sample_mean_50 = pd.DataFrame(\n",
    "    {\n",
    "        \"income\": [loans_income.sample(50).mean() for _ in range(1000)],\n",
    "        \"type\": \"Mean of 50 samples\",\n",
    "    }\n",
    ")\n",
    "\n",
    "results = pd.concat(\n",
    "    [\n",
    "        sample_data,\n",
    "        sample_mean_05,\n",
    "        sample_mean_20,\n",
    "        sample_mean_50,\n",
    "        sample_mean_20_2,\n",
    "    ]\n",
    ")\n",
    "\n",
    "results"
   ]
  },
  {
   "cell_type": "markdown",
   "id": "15624c1f-fa95-4f15-80a6-8ae83ebb56f8",
   "metadata": {},
   "source": [
    "When inspecting the plots of the statistic distributions, we observe that the larger our samples are, the more similar the statistic distribution (distribution of means of samples) gets compared to a normal distribution."
   ]
  },
  {
   "cell_type": "code",
   "execution_count": 8,
   "id": "52383e17-e209-4b42-85f0-b364b25ee70c",
   "metadata": {},
   "outputs": [
    {
     "data": {
      "image/png": "[encoded data removed]",
      "text/plain": [
       "<Figure size 400x1000 with 5 Axes>"
      ]
     },
     "metadata": {},
     "output_type": "display_data"
    }
   ],
   "source": [
    "# plot resulting statistic distributions\n",
    "g = sns.FacetGrid(results, col=\"type\", col_wrap=1, height=2, aspect=2)\n",
    "g.map(plt.hist, \"income\", range=[0, 200000], bins=40)\n",
    "g.set_axis_labels(\"Income\", \"Count\")\n",
    "g.set_titles(\"{col_name}\")\n",
    "\n",
    "plt.tight_layout();"
   ]
  },
  {
   "cell_type": "markdown",
   "id": "71fe77d1-9230-4323-981f-be6a03607f13",
   "metadata": {},
   "source": [
    "## Bootstrap"
   ]
  },
  {
   "cell_type": "markdown",
   "id": "6974ded2-d837-4cee-96df-9f772c73d905",
   "metadata": {},
   "source": [
    "A bootstrap can be computed using scikit-learn's resample method (sampling with replacement)."
   ]
  },
  {
   "cell_type": "code",
   "execution_count": 9,
   "id": "48249d77-0dfc-4130-9406-258941dab262",
   "metadata": {},
   "outputs": [],
   "source": [
    "def bootstrap(data, function, no_draws):\n",
    "    results = []\n",
    "    for draw in range(no_draws):\n",
    "        sample = resample(data, replace=True)\n",
    "        results.append(function(sample))\n",
    "\n",
    "    # convert to pandas Series for easier statistic computation\n",
    "    return pd.Series(results)"
   ]
  },
  {
   "cell_type": "code",
   "execution_count": 10,
   "id": "1f28124d-5d2f-489a-bbb3-092dfba89aa6",
   "metadata": {},
   "outputs": [
    {
     "data": {
      "text/plain": [
       "<Axes: ylabel='Frequency'>"
      ]
     },
     "execution_count": 10,
     "metadata": {},
     "output_type": "execute_result"
    },
    {
     "data": {
      "image/png": "[encoded data removed]",
      "text/plain": [
       "<Figure size 640x480 with 1 Axes>"
      ]
     },
     "metadata": {},
     "output_type": "display_data"
    }
   ],
   "source": [
    "# also: we can use this example to showcase the central limit theorem (again),\n",
    "# by changing the number of draws\n",
    "mean_distribution = bootstrap(loans_income, np.mean, 2000)\n",
    "mean_distribution.plot.hist()"
   ]
  },
  {
   "cell_type": "code",
   "execution_count": 11,
   "id": "3502af3a-32ba-4ce5-9a9d-d9c1c1b34ef3",
   "metadata": {},
   "outputs": [
    {
     "name": "stdout",
     "output_type": "stream",
     "text": [
      "Bootstrap Statistics:\n",
      "original data: 68760.51844\n",
      "std. error: 149.6198172612413\n"
     ]
    }
   ],
   "source": [
    "print(\"Bootstrap Statistics:\")\n",
    "print(f\"original data: {loans_income.mean()}\")\n",
    "# we compute standard error of means via standard deviation\n",
    "# but: do not confuse the two\n",
    "print(f\"std. error: {mean_distribution.std()}\")"
   ]
  },
  {
   "cell_type": "markdown",
   "id": "6827de04-fcd7-4a13-a9fb-0e507e9b21b3",
   "metadata": {},
   "source": [
    "## Confidence Interval"
   ]
  },
  {
   "cell_type": "code",
   "execution_count": 12,
   "id": "8eecd61a-5472-4f66-8403-b9d47814fb6d",
   "metadata": {},
   "outputs": [
    {
     "name": "stdout",
     "output_type": "stream",
     "text": [
      "68760.51844\n"
     ]
    },
    {
     "data": {
      "text/plain": [
       "0      68754.27060\n",
       "1      68606.92756\n",
       "2      68565.87706\n",
       "3      68789.22828\n",
       "4      68627.19924\n",
       "          ...     \n",
       "195    68713.96870\n",
       "196    68685.26402\n",
       "197    68731.78602\n",
       "198    68809.37220\n",
       "199    68612.82056\n",
       "Length: 200, dtype: float64"
      ]
     },
     "execution_count": 12,
     "metadata": {},
     "output_type": "execute_result"
    },
    {
     "data": {
      "text/plain": [
       "0.05    68522.672981\n",
       "0.95    68998.595212\n",
       "dtype: float64"
      ]
     },
     "execution_count": 12,
     "metadata": {},
     "output_type": "execute_result"
    }
   ],
   "source": [
    "print(loans_income.mean())\n",
    "# create a sample of 20 loan income data\n",
    "mean_distribution = bootstrap(loans_income, np.mean, 200)\n",
    "mean_distribution\n",
    "mean_distribution.quantile([0.05, 0.95])\n",
    "confidence_interval = list(mean_distribution.quantile([0.05, 0.95]))"
   ]
  },
  {
   "cell_type": "code",
   "execution_count": 13,
   "id": "97d47ab1-690e-4d42-af76-7217cdee88a4",
   "metadata": {},
   "outputs": [
    {
     "data": {
      "image/png": "[encoded data removed]",
      "text/plain": [
       "<Figure size 1000x800 with 1 Axes>"
      ]
     },
     "metadata": {},
     "output_type": "display_data"
    }
   ],
   "source": [
    "ax = mean_distribution.plot.hist(bins=30, figsize=(10, 8))\n",
    "ax.plot(confidence_interval, [55, 55], color=\"black\")\n",
    "for x in confidence_interval:\n",
    "    ax.plot([x, x], [0, 65], color=\"black\")\n",
    "\n",
    "ax.set_ylim(0, 60)\n",
    "ax.set_ylabel(\"Counts\")\n",
    "\n",
    "plt.tight_layout();"
   ]
  },
  {
   "cell_type": "markdown",
   "id": "7898f49d-bba9-4ddf-82b9-85da2ea123f1",
   "metadata": {},
   "source": [
    "## Hypothesis Tests"
   ]
  },
  {
   "cell_type": "markdown",
   "id": "38ac05ab-5d3c-4fec-8310-1b9a033b8974",
   "metadata": {},
   "source": [
    "### First Examples"
   ]
  },
  {
   "cell_type": "code",
   "execution_count": 14,
   "id": "d77185c3-18f9-4cea-890f-8a5acf67c690",
   "metadata": {},
   "outputs": [],
   "source": [
    "# read housing data\n",
    "fieldnames = [\n",
    "    \"CRIM\",\n",
    "    \"ZN\",\n",
    "    \"INDUS\",\n",
    "    \"CHAS\",\n",
    "    \"NOX\",\n",
    "    \"RM\",\n",
    "    \"AGE\",\n",
    "    \"DIS\",\n",
    "    \"RAD\",\n",
    "    \"TAX\",\n",
    "    \"PTRATIO\",\n",
    "    \"B\",\n",
    "    \"LSTAT\",\n",
    "    \"MEDV\",\n",
    "]\n",
    "housing = pd.read_csv(\n",
    "    os.path.join(data_dir, \"housing.csv\"), sep=\"\\s+\", names=fieldnames\n",
    ")"
   ]
  },
  {
   "cell_type": "code",
   "execution_count": 15,
   "id": "a0af0469-9749-4e90-8d49-4c507febeec6",
   "metadata": {},
   "outputs": [
    {
     "data": {
      "text/html": [
       "<div>\n",
       "<style scoped>\n",
       "    .dataframe tbody tr th:only-of-type {\n",
       "        vertical-align: middle;\n",
       "    }\n",
       "\n",
       "    .dataframe tbody tr th {\n",
       "        vertical-align: top;\n",
       "    }\n",
       "\n",
       "    .dataframe thead th {\n",
       "        text-align: right;\n",
       "    }\n",
       "</style>\n",
       "<table border=\"1\" class=\"dataframe\">\n",
       "  <thead>\n",
       "    <tr style=\"text-align: right;\">\n",
       "      <th></th>\n",
       "      <th>CRIM</th>\n",
       "      <th>ZN</th>\n",
       "      <th>INDUS</th>\n",
       "      <th>CHAS</th>\n",
       "      <th>NOX</th>\n",
       "      <th>RM</th>\n",
       "      <th>AGE</th>\n",
       "      <th>DIS</th>\n",
       "      <th>RAD</th>\n",
       "      <th>TAX</th>\n",
       "      <th>PTRATIO</th>\n",
       "      <th>B</th>\n",
       "      <th>LSTAT</th>\n",
       "      <th>MEDV</th>\n",
       "    </tr>\n",
       "  </thead>\n",
       "  <tbody>\n",
       "    <tr>\n",
       "      <th>0</th>\n",
       "      <td>0.00632</td>\n",
       "      <td>18.0</td>\n",
       "      <td>2.31</td>\n",
       "      <td>0</td>\n",
       "      <td>0.538</td>\n",
       "      <td>6.575</td>\n",
       "      <td>65.2</td>\n",
       "      <td>4.0900</td>\n",
       "      <td>1</td>\n",
       "      <td>296.0</td>\n",
       "      <td>15.3</td>\n",
       "      <td>396.90</td>\n",
       "      <td>4.98</td>\n",
       "      <td>24.0</td>\n",
       "    </tr>\n",
       "    <tr>\n",
       "      <th>1</th>\n",
       "      <td>0.02731</td>\n",
       "      <td>0.0</td>\n",
       "      <td>7.07</td>\n",
       "      <td>0</td>\n",
       "      <td>0.469</td>\n",
       "      <td>6.421</td>\n",
       "      <td>78.9</td>\n",
       "      <td>4.9671</td>\n",
       "      <td>2</td>\n",
       "      <td>242.0</td>\n",
       "      <td>17.8</td>\n",
       "      <td>396.90</td>\n",
       "      <td>9.14</td>\n",
       "      <td>21.6</td>\n",
       "    </tr>\n",
       "    <tr>\n",
       "      <th>2</th>\n",
       "      <td>0.02729</td>\n",
       "      <td>0.0</td>\n",
       "      <td>7.07</td>\n",
       "      <td>0</td>\n",
       "      <td>0.469</td>\n",
       "      <td>7.185</td>\n",
       "      <td>61.1</td>\n",
       "      <td>4.9671</td>\n",
       "      <td>2</td>\n",
       "      <td>242.0</td>\n",
       "      <td>17.8</td>\n",
       "      <td>392.83</td>\n",
       "      <td>4.03</td>\n",
       "      <td>34.7</td>\n",
       "    </tr>\n",
       "    <tr>\n",
       "      <th>3</th>\n",
       "      <td>0.03237</td>\n",
       "      <td>0.0</td>\n",
       "      <td>2.18</td>\n",
       "      <td>0</td>\n",
       "      <td>0.458</td>\n",
       "      <td>6.998</td>\n",
       "      <td>45.8</td>\n",
       "      <td>6.0622</td>\n",
       "      <td>3</td>\n",
       "      <td>222.0</td>\n",
       "      <td>18.7</td>\n",
       "      <td>394.63</td>\n",
       "      <td>2.94</td>\n",
       "      <td>33.4</td>\n",
       "    </tr>\n",
       "    <tr>\n",
       "      <th>4</th>\n",
       "      <td>0.06905</td>\n",
       "      <td>0.0</td>\n",
       "      <td>2.18</td>\n",
       "      <td>0</td>\n",
       "      <td>0.458</td>\n",
       "      <td>7.147</td>\n",
       "      <td>54.2</td>\n",
       "      <td>6.0622</td>\n",
       "      <td>3</td>\n",
       "      <td>222.0</td>\n",
       "      <td>18.7</td>\n",
       "      <td>396.90</td>\n",
       "      <td>5.33</td>\n",
       "      <td>36.2</td>\n",
       "    </tr>\n",
       "    <tr>\n",
       "      <th>...</th>\n",
       "      <td>...</td>\n",
       "      <td>...</td>\n",
       "      <td>...</td>\n",
       "      <td>...</td>\n",
       "      <td>...</td>\n",
       "      <td>...</td>\n",
       "      <td>...</td>\n",
       "      <td>...</td>\n",
       "      <td>...</td>\n",
       "      <td>...</td>\n",
       "      <td>...</td>\n",
       "      <td>...</td>\n",
       "      <td>...</td>\n",
       "      <td>...</td>\n",
       "    </tr>\n",
       "    <tr>\n",
       "      <th>501</th>\n",
       "      <td>0.06263</td>\n",
       "      <td>0.0</td>\n",
       "      <td>11.93</td>\n",
       "      <td>0</td>\n",
       "      <td>0.573</td>\n",
       "      <td>6.593</td>\n",
       "      <td>69.1</td>\n",
       "      <td>2.4786</td>\n",
       "      <td>1</td>\n",
       "      <td>273.0</td>\n",
       "      <td>21.0</td>\n",
       "      <td>391.99</td>\n",
       "      <td>9.67</td>\n",
       "      <td>22.4</td>\n",
       "    </tr>\n",
       "    <tr>\n",
       "      <th>502</th>\n",
       "      <td>0.04527</td>\n",
       "      <td>0.0</td>\n",
       "      <td>11.93</td>\n",
       "      <td>0</td>\n",
       "      <td>0.573</td>\n",
       "      <td>6.120</td>\n",
       "      <td>76.7</td>\n",
       "      <td>2.2875</td>\n",
       "      <td>1</td>\n",
       "      <td>273.0</td>\n",
       "      <td>21.0</td>\n",
       "      <td>396.90</td>\n",
       "      <td>9.08</td>\n",
       "      <td>20.6</td>\n",
       "    </tr>\n",
       "    <tr>\n",
       "      <th>503</th>\n",
       "      <td>0.06076</td>\n",
       "      <td>0.0</td>\n",
       "      <td>11.93</td>\n",
       "      <td>0</td>\n",
       "      <td>0.573</td>\n",
       "      <td>6.976</td>\n",
       "      <td>91.0</td>\n",
       "      <td>2.1675</td>\n",
       "      <td>1</td>\n",
       "      <td>273.0</td>\n",
       "      <td>21.0</td>\n",
       "      <td>396.90</td>\n",
       "      <td>5.64</td>\n",
       "      <td>23.9</td>\n",
       "    </tr>\n",
       "    <tr>\n",
       "      <th>504</th>\n",
       "      <td>0.10959</td>\n",
       "      <td>0.0</td>\n",
       "      <td>11.93</td>\n",
       "      <td>0</td>\n",
       "      <td>0.573</td>\n",
       "      <td>6.794</td>\n",
       "      <td>89.3</td>\n",
       "      <td>2.3889</td>\n",
       "      <td>1</td>\n",
       "      <td>273.0</td>\n",
       "      <td>21.0</td>\n",
       "      <td>393.45</td>\n",
       "      <td>6.48</td>\n",
       "      <td>22.0</td>\n",
       "    </tr>\n",
       "    <tr>\n",
       "      <th>505</th>\n",
       "      <td>0.04741</td>\n",
       "      <td>0.0</td>\n",
       "      <td>11.93</td>\n",
       "      <td>0</td>\n",
       "      <td>0.573</td>\n",
       "      <td>6.030</td>\n",
       "      <td>80.8</td>\n",
       "      <td>2.5050</td>\n",
       "      <td>1</td>\n",
       "      <td>273.0</td>\n",
       "      <td>21.0</td>\n",
       "      <td>396.90</td>\n",
       "      <td>7.88</td>\n",
       "      <td>11.9</td>\n",
       "    </tr>\n",
       "  </tbody>\n",
       "</table>\n",
       "<p>506 rows × 14 columns</p>\n",
       "</div>"
      ],
      "text/plain": [
       "        CRIM    ZN  INDUS  CHAS    NOX     RM   AGE     DIS  RAD    TAX  \\\n",
       "0    0.00632  18.0   2.31     0  0.538  6.575  65.2  4.0900    1  296.0   \n",
       "1    0.02731   0.0   7.07     0  0.469  6.421  78.9  4.9671    2  242.0   \n",
       "2    0.02729   0.0   7.07     0  0.469  7.185  61.1  4.9671    2  242.0   \n",
       "3    0.03237   0.0   2.18     0  0.458  6.998  45.8  6.0622    3  222.0   \n",
       "4    0.06905   0.0   2.18     0  0.458  7.147  54.2  6.0622    3  222.0   \n",
       "..       ...   ...    ...   ...    ...    ...   ...     ...  ...    ...   \n",
       "501  0.06263   0.0  11.93     0  0.573  6.593  69.1  2.4786    1  273.0   \n",
       "502  0.04527   0.0  11.93     0  0.573  6.120  76.7  2.2875    1  273.0   \n",
       "503  0.06076   0.0  11.93     0  0.573  6.976  91.0  2.1675    1  273.0   \n",
       "504  0.10959   0.0  11.93     0  0.573  6.794  89.3  2.3889    1  273.0   \n",
       "505  0.04741   0.0  11.93     0  0.573  6.030  80.8  2.5050    1  273.0   \n",
       "\n",
       "     PTRATIO       B  LSTAT  MEDV  \n",
       "0       15.3  396.90   4.98  24.0  \n",
       "1       17.8  396.90   9.14  21.6  \n",
       "2       17.8  392.83   4.03  34.7  \n",
       "3       18.7  394.63   2.94  33.4  \n",
       "4       18.7  396.90   5.33  36.2  \n",
       "..       ...     ...    ...   ...  \n",
       "501     21.0  391.99   9.67  22.4  \n",
       "502     21.0  396.90   9.08  20.6  \n",
       "503     21.0  396.90   5.64  23.9  \n",
       "504     21.0  393.45   6.48  22.0  \n",
       "505     21.0  396.90   7.88  11.9  \n",
       "\n",
       "[506 rows x 14 columns]"
      ]
     },
     "execution_count": 15,
     "metadata": {},
     "output_type": "execute_result"
    }
   ],
   "source": [
    "# get first impression on data\n",
    "housing"
   ]
  },
  {
   "cell_type": "code",
   "execution_count": 16,
   "id": "be17530e-fc90-42ff-88df-40b18621ecb4",
   "metadata": {},
   "outputs": [
    {
     "data": {
      "text/plain": [
       "<bound method DataFrame.info of         CRIM    ZN  INDUS  CHAS    NOX     RM   AGE     DIS  RAD    TAX  \\\n",
       "0    0.00632  18.0   2.31     0  0.538  6.575  65.2  4.0900    1  296.0   \n",
       "1    0.02731   0.0   7.07     0  0.469  6.421  78.9  4.9671    2  242.0   \n",
       "2    0.02729   0.0   7.07     0  0.469  7.185  61.1  4.9671    2  242.0   \n",
       "3    0.03237   0.0   2.18     0  0.458  6.998  45.8  6.0622    3  222.0   \n",
       "4    0.06905   0.0   2.18     0  0.458  7.147  54.2  6.0622    3  222.0   \n",
       "..       ...   ...    ...   ...    ...    ...   ...     ...  ...    ...   \n",
       "501  0.06263   0.0  11.93     0  0.573  6.593  69.1  2.4786    1  273.0   \n",
       "502  0.04527   0.0  11.93     0  0.573  6.120  76.7  2.2875    1  273.0   \n",
       "503  0.06076   0.0  11.93     0  0.573  6.976  91.0  2.1675    1  273.0   \n",
       "504  0.10959   0.0  11.93     0  0.573  6.794  89.3  2.3889    1  273.0   \n",
       "505  0.04741   0.0  11.93     0  0.573  6.030  80.8  2.5050    1  273.0   \n",
       "\n",
       "     PTRATIO       B  LSTAT  MEDV  \n",
       "0       15.3  396.90   4.98  24.0  \n",
       "1       17.8  396.90   9.14  21.6  \n",
       "2       17.8  392.83   4.03  34.7  \n",
       "3       18.7  394.63   2.94  33.4  \n",
       "4       18.7  396.90   5.33  36.2  \n",
       "..       ...     ...    ...   ...  \n",
       "501     21.0  391.99   9.67  22.4  \n",
       "502     21.0  396.90   9.08  20.6  \n",
       "503     21.0  396.90   5.64  23.9  \n",
       "504     21.0  393.45   6.48  22.0  \n",
       "505     21.0  396.90   7.88  11.9  \n",
       "\n",
       "[506 rows x 14 columns]>"
      ]
     },
     "execution_count": 16,
     "metadata": {},
     "output_type": "execute_result"
    }
   ],
   "source": [
    "# number of samples\n",
    "housing.info"
   ]
  },
  {
   "cell_type": "code",
   "execution_count": 17,
   "id": "1f71be4a-44fd-4aec-9f7f-bc7ec85b52b4",
   "metadata": {},
   "outputs": [
    {
     "name": "stdout",
     "output_type": "stream",
     "text": [
      "Pearsons correlation coefficient: -0.74, p-value: 5.081103394387554e-88\n"
     ]
    }
   ],
   "source": [
    "r, p_value = pearsonr(housing[\"LSTAT\"].values, housing[\"MEDV\"].values)\n",
    "print(f\"Pearsons correlation coefficient: {r:.2f}, p-value: {p_value}\")"
   ]
  },
  {
   "cell_type": "markdown",
   "id": "e58f1184-4b54-44b3-9df0-95f10f9f8a7c",
   "metadata": {},
   "source": [
    "The following code shows the Pearson correlation and t-test examples from the lecture slides."
   ]
  },
  {
   "cell_type": "code",
   "execution_count": 18,
   "id": "ef53e52b-736e-4620-9621-fb211aac0bd6",
   "metadata": {},
   "outputs": [
    {
     "name": "stdout",
     "output_type": "stream",
     "text": [
      "Pearsons correlation coefficient: 0.87 (p-value: 0.00)\n"
     ]
    }
   ],
   "source": [
    "points_homework = [5, 4, 7, 11, 21, 4, 6, 18, 12, 10, 15, 16]\n",
    "points_test = [1, 8, 10, 13, 20, 5, 8, 17, 14, 8, 17, 11]\n",
    "pearson_r, p_value = pearsonr(points_homework, points_test)\n",
    "\n",
    "print(\n",
    "    f\"Pearsons correlation coefficient: {pearson_r:.2f} (p-value: {p_value:.2f})\"\n",
    ")"
   ]
  },
  {
   "cell_type": "code",
   "execution_count": 19,
   "id": "e3d7fd95-3ed5-412f-bf91-78fe8428a3ac",
   "metadata": {},
   "outputs": [
    {
     "name": "stdout",
     "output_type": "stream",
     "text": [
      "t-Test (independent): 3.22, p-value: 0.01\n"
     ]
    }
   ],
   "source": [
    "# t-test example\n",
    "group1 = [19, 19, 14, 23, 15, 18]\n",
    "group2 = [13, 13, 8, 17, 9, 12]\n",
    "t_statistic, p_value = ttest_ind(group1, group2, equal_var=True)\n",
    "print(f\"t-Test (independent): {t_statistic:.2f}, p-value: {p_value:.2f}\")"
   ]
  },
  {
   "cell_type": "markdown",
   "id": "e845a2df-b469-4334-a919-1c9a1247f3bf",
   "metadata": {},
   "source": [
    "### Cochran's Q and McNemar's Test"
   ]
  },
  {
   "cell_type": "markdown",
   "id": "eb7af9e0-405e-4675-9df8-2cf1979195bf",
   "metadata": {},
   "source": [
    "The following code example is adapted from (PyML), we have already used this example when discussing experimental setups."
   ]
  },
  {
   "cell_type": "code",
   "execution_count": 20,
   "id": "25fdc0ea-2a48-4923-b1f4-b5718b573b8f",
   "metadata": {},
   "outputs": [],
   "source": [
    "# use non-html scikit output for better overview of outputs\n",
    "set_config(display=\"text\")"
   ]
  },
  {
   "cell_type": "code",
   "execution_count": 21,
   "id": "4f8fa678-0941-4e44-952f-37b8f72bb540",
   "metadata": {},
   "outputs": [],
   "source": [
    "X, y = mnist_data()\n",
    "X = X.astype(np.float32)\n",
    "X_train, X_test, y_train, y_test = train_test_split(\n",
    "    X, y, test_size=0.2, random_state=1, stratify=y\n",
    ")\n",
    "\n",
    "# Initializing Classifiers\n",
    "clf1 = KNeighborsClassifier(algorithm=\"ball_tree\", leaf_size=50)\n",
    "clf2 = DecisionTreeClassifier(random_state=1)\n",
    "clf3 = RandomForestClassifier(random_state=1)\n",
    "\n",
    "# Building the pipelines\n",
    "pipe1 = Pipeline([(\"std\", StandardScaler()), (\"clf1\", clf1)])\n",
    "\n",
    "\n",
    "# Setting up the parameter grids\n",
    "param_grid1 = [{\"clf1__n_neighbors\": list(range(1, 10)), \"clf1__p\": [1, 2]}]\n",
    "\n",
    "param_grid2 = [\n",
    "    {\n",
    "        \"max_depth\": list(range(1, 10)) + [None],\n",
    "        \"criterion\": [\"gini\", \"entropy\"],\n",
    "    }\n",
    "]\n",
    "\n",
    "param_grid3 = [{\"n_estimators\": [10, 100, 500, 1000]}]"
   ]
  },
  {
   "cell_type": "code",
   "execution_count": 22,
   "id": "9ea33fbc-f0a5-4108-9a9e-c20977ad049b",
   "metadata": {},
   "outputs": [],
   "source": [
    "# Setting up multiple GridSearchCV objects, 1 for each algorithm\n",
    "gridcvs = {}\n",
    "inner_cv = StratifiedKFold(n_splits=2, shuffle=True, random_state=1)\n",
    "\n",
    "for pgrid, est, name in zip(\n",
    "    (param_grid1, param_grid2, param_grid3),\n",
    "    (pipe1, clf2, clf3),\n",
    "    (\"KNN\", \"DTree\", \"RForest\"),\n",
    "):\n",
    "    gcv = GridSearchCV(\n",
    "        estimator=est,\n",
    "        param_grid=pgrid,\n",
    "        scoring=\"accuracy\",\n",
    "        n_jobs=-1,\n",
    "        cv=inner_cv,\n",
    "        verbose=0,\n",
    "        refit=True,\n",
    "    )\n",
    "    gridcvs[name] = gcv"
   ]
  },
  {
   "cell_type": "markdown",
   "id": "06954e92-ecef-4435-818a-e3f8d68f77f4",
   "metadata": {},
   "source": [
    "Next, we define the outer loop:\n",
    "- The training folds from the outer loop will be used in the inner loop for model tuning\n",
    "- The inner loop selects the best hyperparameter setting\n",
    "- This best hyperparameter setting can be evaluated on both the avg. over the inner test folds and the 1 corresponding test fold of the outer loop"
   ]
  },
  {
   "cell_type": "code",
   "execution_count": 23,
   "id": "efac5e07-0544-486b-8ace-b558070918ab",
   "metadata": {},
   "outputs": [
    {
     "name": "stdout",
     "output_type": "stream",
     "text": [
      "-------------------------------------------------- \n",
      "\n",
      "Algorithm: DTree\n",
      "Inner loop:\n"
     ]
    },
    {
     "data": {
      "text/plain": [
       "GridSearchCV(cv=StratifiedKFold(n_splits=2, random_state=1, shuffle=True),\n",
       "             estimator=DecisionTreeClassifier(random_state=1), n_jobs=-1,\n",
       "             param_grid=[{'criterion': ['gini', 'entropy'],\n",
       "                          'max_depth': [1, 2, 3, 4, 5, 6, 7, 8, 9, None]}],\n",
       "             scoring='accuracy')"
      ]
     },
     "execution_count": 23,
     "metadata": {},
     "output_type": "execute_result"
    },
    {
     "name": "stdout",
     "output_type": "stream",
     "text": [
      "\n",
      "Best ACC (avg. of inner test folds): 72.59\n",
      "Best parameters: {'criterion': 'gini', 'max_depth': None}\n",
      "ACC (on outer test fold): 75.50\n"
     ]
    },
    {
     "data": {
      "text/plain": [
       "GridSearchCV(cv=StratifiedKFold(n_splits=2, random_state=1, shuffle=True),\n",
       "             estimator=DecisionTreeClassifier(random_state=1), n_jobs=-1,\n",
       "             param_grid=[{'criterion': ['gini', 'entropy'],\n",
       "                          'max_depth': [1, 2, 3, 4, 5, 6, 7, 8, 9, None]}],\n",
       "             scoring='accuracy')"
      ]
     },
     "execution_count": 23,
     "metadata": {},
     "output_type": "execute_result"
    },
    {
     "name": "stdout",
     "output_type": "stream",
     "text": [
      "\n",
      "Best ACC (avg. of inner test folds): 74.03\n",
      "Best parameters: {'criterion': 'entropy', 'max_depth': 7}\n",
      "ACC (on outer test fold): 78.25\n"
     ]
    },
    {
     "data": {
      "text/plain": [
       "GridSearchCV(cv=StratifiedKFold(n_splits=2, random_state=1, shuffle=True),\n",
       "             estimator=DecisionTreeClassifier(random_state=1), n_jobs=-1,\n",
       "             param_grid=[{'criterion': ['gini', 'entropy'],\n",
       "                          'max_depth': [1, 2, 3, 4, 5, 6, 7, 8, 9, None]}],\n",
       "             scoring='accuracy')"
      ]
     },
     "execution_count": 23,
     "metadata": {},
     "output_type": "execute_result"
    },
    {
     "name": "stdout",
     "output_type": "stream",
     "text": [
      "\n",
      "Best ACC (avg. of inner test folds): 73.88\n",
      "Best parameters: {'criterion': 'entropy', 'max_depth': 9}\n",
      "ACC (on outer test fold): 77.38\n"
     ]
    },
    {
     "data": {
      "text/plain": [
       "GridSearchCV(cv=StratifiedKFold(n_splits=2, random_state=1, shuffle=True),\n",
       "             estimator=DecisionTreeClassifier(random_state=1), n_jobs=-1,\n",
       "             param_grid=[{'criterion': ['gini', 'entropy'],\n",
       "                          'max_depth': [1, 2, 3, 4, 5, 6, 7, 8, 9, None]}],\n",
       "             scoring='accuracy')"
      ]
     },
     "execution_count": 23,
     "metadata": {},
     "output_type": "execute_result"
    },
    {
     "name": "stdout",
     "output_type": "stream",
     "text": [
      "\n",
      "Best ACC (avg. of inner test folds): 73.38\n",
      "Best parameters: {'criterion': 'entropy', 'max_depth': 8}\n",
      "ACC (on outer test fold): 74.88\n"
     ]
    },
    {
     "data": {
      "text/plain": [
       "GridSearchCV(cv=StratifiedKFold(n_splits=2, random_state=1, shuffle=True),\n",
       "             estimator=DecisionTreeClassifier(random_state=1), n_jobs=-1,\n",
       "             param_grid=[{'criterion': ['gini', 'entropy'],\n",
       "                          'max_depth': [1, 2, 3, 4, 5, 6, 7, 8, 9, None]}],\n",
       "             scoring='accuracy')"
      ]
     },
     "execution_count": 23,
     "metadata": {},
     "output_type": "execute_result"
    },
    {
     "name": "stdout",
     "output_type": "stream",
     "text": [
      "\n",
      "Best ACC (avg. of inner test folds): 73.91\n",
      "Best parameters: {'criterion': 'entropy', 'max_depth': 8}\n",
      "ACC (on outer test fold): 77.75\n",
      "\n",
      " Outer Loop:\n",
      "ACC 76.75 (+/-1.32)\n",
      "-------------------------------------------------- \n",
      "\n",
      "Algorithm: KNN\n",
      "Inner loop:\n"
     ]
    },
    {
     "data": {
      "text/plain": [
       "GridSearchCV(cv=StratifiedKFold(n_splits=2, random_state=1, shuffle=True),\n",
       "             estimator=Pipeline(steps=[('std', StandardScaler()),\n",
       "                                       ('clf1',\n",
       "                                        KNeighborsClassifier(algorithm='ball_tree',\n",
       "                                                             leaf_size=50))]),\n",
       "             n_jobs=-1,\n",
       "             param_grid=[{'clf1__n_neighbors': [1, 2, 3, 4, 5, 6, 7, 8, 9],\n",
       "                          'clf1__p': [1, 2]}],\n",
       "             scoring='accuracy')"
      ]
     },
     "execution_count": 23,
     "metadata": {},
     "output_type": "execute_result"
    },
    {
     "name": "stdout",
     "output_type": "stream",
     "text": [
      "\n",
      "Best ACC (avg. of inner test folds): 88.38\n",
      "Best parameters: {'clf1__n_neighbors': 1, 'clf1__p': 1}\n",
      "ACC (on outer test fold): 91.62\n"
     ]
    },
    {
     "data": {
      "text/plain": [
       "GridSearchCV(cv=StratifiedKFold(n_splits=2, random_state=1, shuffle=True),\n",
       "             estimator=Pipeline(steps=[('std', StandardScaler()),\n",
       "                                       ('clf1',\n",
       "                                        KNeighborsClassifier(algorithm='ball_tree',\n",
       "                                                             leaf_size=50))]),\n",
       "             n_jobs=-1,\n",
       "             param_grid=[{'clf1__n_neighbors': [1, 2, 3, 4, 5, 6, 7, 8, 9],\n",
       "                          'clf1__p': [1, 2]}],\n",
       "             scoring='accuracy')"
      ]
     },
     "execution_count": 23,
     "metadata": {},
     "output_type": "execute_result"
    },
    {
     "name": "stdout",
     "output_type": "stream",
     "text": [
      "\n",
      "Best ACC (avg. of inner test folds): 88.75\n",
      "Best parameters: {'clf1__n_neighbors': 1, 'clf1__p': 1}\n",
      "ACC (on outer test fold): 91.88\n"
     ]
    },
    {
     "data": {
      "text/plain": [
       "GridSearchCV(cv=StratifiedKFold(n_splits=2, random_state=1, shuffle=True),\n",
       "             estimator=Pipeline(steps=[('std', StandardScaler()),\n",
       "                                       ('clf1',\n",
       "                                        KNeighborsClassifier(algorithm='ball_tree',\n",
       "                                                             leaf_size=50))]),\n",
       "             n_jobs=-1,\n",
       "             param_grid=[{'clf1__n_neighbors': [1, 2, 3, 4, 5, 6, 7, 8, 9],\n",
       "                          'clf1__p': [1, 2]}],\n",
       "             scoring='accuracy')"
      ]
     },
     "execution_count": 23,
     "metadata": {},
     "output_type": "execute_result"
    },
    {
     "name": "stdout",
     "output_type": "stream",
     "text": [
      "\n",
      "Best ACC (avg. of inner test folds): 89.84\n",
      "Best parameters: {'clf1__n_neighbors': 1, 'clf1__p': 1}\n",
      "ACC (on outer test fold): 90.88\n"
     ]
    },
    {
     "data": {
      "text/plain": [
       "GridSearchCV(cv=StratifiedKFold(n_splits=2, random_state=1, shuffle=True),\n",
       "             estimator=Pipeline(steps=[('std', StandardScaler()),\n",
       "                                       ('clf1',\n",
       "                                        KNeighborsClassifier(algorithm='ball_tree',\n",
       "                                                             leaf_size=50))]),\n",
       "             n_jobs=-1,\n",
       "             param_grid=[{'clf1__n_neighbors': [1, 2, 3, 4, 5, 6, 7, 8, 9],\n",
       "                          'clf1__p': [1, 2]}],\n",
       "             scoring='accuracy')"
      ]
     },
     "execution_count": 23,
     "metadata": {},
     "output_type": "execute_result"
    },
    {
     "name": "stdout",
     "output_type": "stream",
     "text": [
      "\n",
      "Best ACC (avg. of inner test folds): 89.50\n",
      "Best parameters: {'clf1__n_neighbors': 1, 'clf1__p': 1}\n",
      "ACC (on outer test fold): 90.88\n"
     ]
    },
    {
     "data": {
      "text/plain": [
       "GridSearchCV(cv=StratifiedKFold(n_splits=2, random_state=1, shuffle=True),\n",
       "             estimator=Pipeline(steps=[('std', StandardScaler()),\n",
       "                                       ('clf1',\n",
       "                                        KNeighborsClassifier(algorithm='ball_tree',\n",
       "                                                             leaf_size=50))]),\n",
       "             n_jobs=-1,\n",
       "             param_grid=[{'clf1__n_neighbors': [1, 2, 3, 4, 5, 6, 7, 8, 9],\n",
       "                          'clf1__p': [1, 2]}],\n",
       "             scoring='accuracy')"
      ]
     },
     "execution_count": 23,
     "metadata": {},
     "output_type": "execute_result"
    },
    {
     "name": "stdout",
     "output_type": "stream",
     "text": [
      "\n",
      "Best ACC (avg. of inner test folds): 89.06\n",
      "Best parameters: {'clf1__n_neighbors': 1, 'clf1__p': 1}\n",
      "ACC (on outer test fold): 90.25\n",
      "\n",
      " Outer Loop:\n",
      "ACC 91.10 (+/-0.58)\n",
      "-------------------------------------------------- \n",
      "\n",
      "Algorithm: RForest\n",
      "Inner loop:\n"
     ]
    },
    {
     "data": {
      "text/plain": [
       "GridSearchCV(cv=StratifiedKFold(n_splits=2, random_state=1, shuffle=True),\n",
       "             estimator=RandomForestClassifier(random_state=1), n_jobs=-1,\n",
       "             param_grid=[{'n_estimators': [10, 100, 500, 1000]}],\n",
       "             scoring='accuracy')"
      ]
     },
     "execution_count": 23,
     "metadata": {},
     "output_type": "execute_result"
    },
    {
     "name": "stdout",
     "output_type": "stream",
     "text": [
      "\n",
      "Best ACC (avg. of inner test folds): 92.59\n",
      "Best parameters: {'n_estimators': 1000}\n",
      "ACC (on outer test fold): 95.00\n"
     ]
    },
    {
     "data": {
      "text/plain": [
       "GridSearchCV(cv=StratifiedKFold(n_splits=2, random_state=1, shuffle=True),\n",
       "             estimator=RandomForestClassifier(random_state=1), n_jobs=-1,\n",
       "             param_grid=[{'n_estimators': [10, 100, 500, 1000]}],\n",
       "             scoring='accuracy')"
      ]
     },
     "execution_count": 23,
     "metadata": {},
     "output_type": "execute_result"
    },
    {
     "name": "stdout",
     "output_type": "stream",
     "text": [
      "\n",
      "Best ACC (avg. of inner test folds): 92.56\n",
      "Best parameters: {'n_estimators': 500}\n",
      "ACC (on outer test fold): 94.50\n"
     ]
    },
    {
     "data": {
      "text/plain": [
       "GridSearchCV(cv=StratifiedKFold(n_splits=2, random_state=1, shuffle=True),\n",
       "             estimator=RandomForestClassifier(random_state=1), n_jobs=-1,\n",
       "             param_grid=[{'n_estimators': [10, 100, 500, 1000]}],\n",
       "             scoring='accuracy')"
      ]
     },
     "execution_count": 23,
     "metadata": {},
     "output_type": "execute_result"
    },
    {
     "name": "stdout",
     "output_type": "stream",
     "text": [
      "\n",
      "Best ACC (avg. of inner test folds): 92.78\n",
      "Best parameters: {'n_estimators': 1000}\n",
      "ACC (on outer test fold): 94.25\n"
     ]
    },
    {
     "data": {
      "text/plain": [
       "GridSearchCV(cv=StratifiedKFold(n_splits=2, random_state=1, shuffle=True),\n",
       "             estimator=RandomForestClassifier(random_state=1), n_jobs=-1,\n",
       "             param_grid=[{'n_estimators': [10, 100, 500, 1000]}],\n",
       "             scoring='accuracy')"
      ]
     },
     "execution_count": 23,
     "metadata": {},
     "output_type": "execute_result"
    },
    {
     "name": "stdout",
     "output_type": "stream",
     "text": [
      "\n",
      "Best ACC (avg. of inner test folds): 92.88\n",
      "Best parameters: {'n_estimators': 500}\n",
      "ACC (on outer test fold): 92.62\n"
     ]
    },
    {
     "data": {
      "text/plain": [
       "GridSearchCV(cv=StratifiedKFold(n_splits=2, random_state=1, shuffle=True),\n",
       "             estimator=RandomForestClassifier(random_state=1), n_jobs=-1,\n",
       "             param_grid=[{'n_estimators': [10, 100, 500, 1000]}],\n",
       "             scoring='accuracy')"
      ]
     },
     "execution_count": 23,
     "metadata": {},
     "output_type": "execute_result"
    },
    {
     "name": "stdout",
     "output_type": "stream",
     "text": [
      "\n",
      "Best ACC (avg. of inner test folds): 92.75\n",
      "Best parameters: {'n_estimators': 500}\n",
      "ACC (on outer test fold): 93.12\n",
      "\n",
      " Outer Loop:\n",
      "ACC 93.90 (+/-0.89)\n"
     ]
    }
   ],
   "source": [
    "for name, gs_est in sorted(gridcvs.items()):\n",
    "\n",
    "    print(50 * \"-\", \"\\n\")\n",
    "    print(\"Algorithm:\", name)\n",
    "    print(\"Inner loop:\")\n",
    "\n",
    "    outer_scores = []\n",
    "    outer_cv = StratifiedKFold(n_splits=5, shuffle=True, random_state=1)\n",
    "\n",
    "    for train_idx, valid_idx in outer_cv.split(X_train, y_train):\n",
    "        # run inner loop hyperparam tuning\n",
    "        gridcvs[name].fit(X_train[train_idx], y_train[train_idx])\n",
    "        print(\n",
    "            f\"\\nBest ACC (avg. of inner test folds): {gridcvs[name].best_score_ * 100:.2f}\"\n",
    "        )\n",
    "        print(f\"Best parameters: {gridcvs[name].best_params_}\")\n",
    "\n",
    "        # perf on test fold (valid_idx)\n",
    "        outer_scores.append(\n",
    "            gridcvs[name].best_estimator_.score(\n",
    "                X_train[valid_idx], y_train[valid_idx]\n",
    "            )\n",
    "        )\n",
    "        print(f\"ACC (on outer test fold): {(outer_scores[-1]*100):.2f}\")\n",
    "\n",
    "    print(\"\\n Outer Loop:\")\n",
    "    print(\n",
    "        f\"ACC {np.mean(outer_scores) * 100:.2f} (+/-{np.std(outer_scores) * 100:.2f})\"\n",
    "    )"
   ]
  },
  {
   "cell_type": "code",
   "execution_count": 24,
   "id": "e08490b4-8243-4ee6-8e0c-876b587325d3",
   "metadata": {},
   "outputs": [
    {
     "name": "stdout",
     "output_type": "stream",
     "text": [
      "Cochran's Q: 191.71, p-value: 0.00\n"
     ]
    }
   ],
   "source": [
    "# Cochran's Q\n",
    "q_statistic, p_value = cochrans_q(\n",
    "    y_test,\n",
    "    gridcvs[\"DTree\"].best_estimator_.predict(X_test),\n",
    "    gridcvs[\"KNN\"].best_estimator_.predict(X_test),\n",
    "    gridcvs[\"RForest\"].best_estimator_.predict(X_test),\n",
    ")\n",
    "\n",
    "print(f\"Cochran's Q: {q_statistic:.2f}, p-value: {p_value:.2f}\")"
   ]
  },
  {
   "cell_type": "markdown",
   "id": "21a6175e-adbc-4379-a4f6-8886bbb6aae2",
   "metadata": {},
   "source": [
    "This shows us that there is a significant difference between the performances --> now do pairwise tests for further investigation using McNemar's test."
   ]
  },
  {
   "cell_type": "code",
   "execution_count": 25,
   "id": "ce1c8d1c-0025-4fb9-9f0e-83f33c431940",
   "metadata": {},
   "outputs": [
    {
     "name": "stdout",
     "output_type": "stream",
     "text": [
      "[RForest vs. KNN]: chi-squared: 5.13, p-value: 0.02\n",
      "[DTree vs. KNN]: chi-squared: 89.55, p-value: 0.00\n",
      "[DTree vs. KNN]: chi-squared: 141.32, p-value: 0.00\n"
     ]
    }
   ],
   "source": [
    "# hypothesis testing\n",
    "# pair-wise via mcnemar\n",
    "tb = mcnemar_table(\n",
    "    y_target=y_test,\n",
    "    y_model1=gridcvs[\"RForest\"].best_estimator_.predict(X_test),\n",
    "    y_model2=gridcvs[\"KNN\"].best_estimator_.predict(X_test),\n",
    ")\n",
    "# print(tb)\n",
    "chi2, p = mcnemar(ary=tb, corrected=True)\n",
    "print(f\"[RForest vs. KNN]: chi-squared: {chi2:.2f}, p-value: {p:.2f}\")\n",
    "\n",
    "\n",
    "tb = mcnemar_table(\n",
    "    y_target=y_test,\n",
    "    y_model1=gridcvs[\"DTree\"].best_estimator_.predict(X_test),\n",
    "    y_model2=gridcvs[\"KNN\"].best_estimator_.predict(X_test),\n",
    ")\n",
    "\n",
    "# print(tb)\n",
    "chi2, p = mcnemar(ary=tb, corrected=True)\n",
    "print(f\"[DTree vs. KNN]: chi-squared: {chi2:.2f}, p-value: {p:.2f}\")\n",
    "\n",
    "tb = mcnemar_table(\n",
    "    y_target=y_test,\n",
    "    y_model1=gridcvs[\"DTree\"].best_estimator_.predict(X_test),\n",
    "    y_model2=gridcvs[\"RForest\"].best_estimator_.predict(X_test),\n",
    ")\n",
    "\n",
    "# print(tb)\n",
    "chi2, p = mcnemar(ary=tb, corrected=True)\n",
    "print(f\"[DTree vs. KNN]: chi-squared: {chi2:.2f}, p-value: {p:.2f}\")"
   ]
  },
  {
   "cell_type": "markdown",
   "id": "274efd4d-4cf2-4bb1-9d58-381fb3c5942e",
   "metadata": {},
   "source": [
    "### 5x2CV Paired t-Test"
   ]
  },
  {
   "cell_type": "markdown",
   "id": "4eeb1468-2dbd-41ec-854e-db20299d79a0",
   "metadata": {},
   "source": [
    "Alternatively, we can also perform a paired t-test."
   ]
  },
  {
   "cell_type": "code",
   "execution_count": 26,
   "id": "b7d14122-3b52-451f-9cf3-e92a36993f5e",
   "metadata": {},
   "outputs": [
    {
     "name": "stdout",
     "output_type": "stream",
     "text": [
      "t-statistic: 5.185, p-value: 0.004\n"
     ]
    }
   ],
   "source": [
    "t_statistic, p_value = paired_ttest_5x2cv(\n",
    "    estimator1=gridcvs[\"RForest\"].best_estimator_,\n",
    "    estimator2=gridcvs[\"KNN\"].best_estimator_,\n",
    "    X=X,\n",
    "    y=y,\n",
    "    random_seed=1,\n",
    ")\n",
    "\n",
    "print(f\"t-statistic: {t_statistic:.3f}, p-value: {p_value:.3f}\")"
   ]
  },
  {
   "cell_type": "code",
   "execution_count": null,
   "id": "7931c80e-ee83-4f75-8a36-9307ec864b5e",
   "metadata": {},
   "outputs": [],
   "source": []
  }
 ],
 "metadata": {
  "kernelspec": {
   "display_name": "DEA Kernel",
   "language": "python",
   "name": "dea_kernel"
  },
  "language_info": {
   "codemirror_mode": {
    "name": "ipython",
    "version": 3
   },
   "file_extension": ".py",
   "mimetype": "text/x-python",
   "name": "python",
   "nbconvert_exporter": "python",
   "pygments_lexer": "ipython3",
   "version": "3.12.2"
  }
 },
 "nbformat": 4,
 "nbformat_minor": 5
}
